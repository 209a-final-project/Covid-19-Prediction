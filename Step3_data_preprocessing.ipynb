{
 "cells": [
  {
   "cell_type": "code",
   "execution_count": 1,
   "metadata": {
    "cell_id": "00000-99b626ee-6ca0-4ca2-9ac4-250f0cecfe39",
    "deepnote_cell_type": "code",
    "executionInfo": {
     "elapsed": 2148,
     "status": "ok",
     "timestamp": 1607601533424,
     "user": {
      "displayName": "Xiaohan Yang",
      "photoUrl": "https://lh3.googleusercontent.com/a-/AOh14GguWWTgPWrMaE1bxrDp59B2xhJB87gqv-3t4fMe=s64",
      "userId": "08200801705471466011"
     },
     "user_tz": -480
    },
    "execution_millis": 12,
    "execution_start": 1607096577845,
    "id": "9h4vBwkzdPYR",
    "output_cleared": false,
    "source_hash": "43cf1c68",
    "tags": []
   },
   "outputs": [],
   "source": [
    "\n",
    "import numpy as np\n",
    "import pandas as pd\n",
    "import matplotlib.pyplot as plt  \n",
    "from sklearn.preprocessing import StandardScaler\n",
    "\n",
    "from sklearn.impute import KNNImputer\n",
    "from datetime import datetime\n",
    "from datetime import date\n",
    "from tqdm import tqdm\n",
    "import matplotlib.dates as mdates\n",
    "plt.style.use('tableau-colorblind10')\n",
    "plt.rcParams['xtick.labelsize']=18\n",
    "plt.rcParams['ytick.labelsize']=18"
   ]
  },
  {
   "cell_type": "code",
   "execution_count": 2,
   "metadata": {},
   "outputs": [],
   "source": [
    "path = \"\""
   ]
  },
  {
   "cell_type": "code",
   "execution_count": 3,
   "metadata": {
    "colab": {
     "base_uri": "https://localhost:8080/"
    },
    "executionInfo": {
     "elapsed": 56014,
     "status": "ok",
     "timestamp": 1607601587320,
     "user": {
      "displayName": "Xiaohan Yang",
      "photoUrl": "https://lh3.googleusercontent.com/a-/AOh14GguWWTgPWrMaE1bxrDp59B2xhJB87gqv-3t4fMe=s64",
      "userId": "08200801705471466011"
     },
     "user_tz": -480
    },
    "id": "VoH8Pyc9dPYR",
    "outputId": "557c73c4-7113-4d98-e4ee-4d57d2fba3bf"
   },
   "outputs": [],
   "source": [
    "# from google.colab import drive \n",
    "# drive.mount('/content/drive',force_remount=True)"
   ]
  },
  {
   "cell_type": "markdown",
   "metadata": {},
   "source": [
    "# Temporal Data"
   ]
  },
  {
   "cell_type": "markdown",
   "metadata": {
    "cell_id": "00001-96b44b80-45cb-4f02-9627-8810ad9fa9fd",
    "deepnote_cell_type": "code",
    "execution_millis": 3801,
    "execution_start": 1607091976474,
    "id": "thmWCukYdPYR",
    "output_cleared": false,
    "source_hash": "f31841c1",
    "tags": []
   },
   "source": [
    "### load daily confirmed cases raw data"
   ]
  },
  {
   "cell_type": "code",
   "execution_count": 4,
   "metadata": {
    "cell_id": "00002-3ae73142-f394-459d-92d0-06429dd19999",
    "deepnote_cell_type": "code",
    "execution_millis": 860,
    "execution_start": 1607091985778,
    "id": "m4xLcHoNdPYS",
    "output_cleared": false,
    "source_hash": "726eee46",
    "tags": []
   },
   "outputs": [
    {
     "name": "stdout",
     "output_type": "stream",
     "text": [
      "Covid cases data shape:  (3194, 298)\n"
     ]
    },
    {
     "data": {
      "text/html": [
       "<div>\n",
       "<style scoped>\n",
       "    .dataframe tbody tr th:only-of-type {\n",
       "        vertical-align: middle;\n",
       "    }\n",
       "\n",
       "    .dataframe tbody tr th {\n",
       "        vertical-align: top;\n",
       "    }\n",
       "\n",
       "    .dataframe thead th {\n",
       "        text-align: right;\n",
       "    }\n",
       "</style>\n",
       "<table border=\"1\" class=\"dataframe\">\n",
       "  <thead>\n",
       "    <tr style=\"text-align: right;\">\n",
       "      <th></th>\n",
       "      <th>countyFIPS</th>\n",
       "      <th>County Name</th>\n",
       "      <th>State</th>\n",
       "      <th>stateFIPS</th>\n",
       "      <th>1/22/20</th>\n",
       "      <th>1/23/20</th>\n",
       "      <th>1/24/20</th>\n",
       "      <th>1/25/20</th>\n",
       "      <th>1/26/20</th>\n",
       "      <th>1/27/20</th>\n",
       "      <th>...</th>\n",
       "      <th>11/1/20</th>\n",
       "      <th>11/2/20</th>\n",
       "      <th>11/3/20</th>\n",
       "      <th>11/4/20</th>\n",
       "      <th>11/5/20</th>\n",
       "      <th>11/6/20</th>\n",
       "      <th>11/7/20</th>\n",
       "      <th>11/8/20</th>\n",
       "      <th>11/9/20</th>\n",
       "      <th>fip</th>\n",
       "    </tr>\n",
       "  </thead>\n",
       "  <tbody>\n",
       "    <tr>\n",
       "      <th>1</th>\n",
       "      <td>1001</td>\n",
       "      <td>Autauga County</td>\n",
       "      <td>AL</td>\n",
       "      <td>1</td>\n",
       "      <td>0</td>\n",
       "      <td>0</td>\n",
       "      <td>0</td>\n",
       "      <td>0</td>\n",
       "      <td>0</td>\n",
       "      <td>0</td>\n",
       "      <td>...</td>\n",
       "      <td>2173</td>\n",
       "      <td>2186</td>\n",
       "      <td>2197</td>\n",
       "      <td>2212</td>\n",
       "      <td>2230</td>\n",
       "      <td>2242</td>\n",
       "      <td>2267</td>\n",
       "      <td>2283</td>\n",
       "      <td>2304</td>\n",
       "      <td>01001</td>\n",
       "    </tr>\n",
       "    <tr>\n",
       "      <th>2</th>\n",
       "      <td>1003</td>\n",
       "      <td>Baldwin County</td>\n",
       "      <td>AL</td>\n",
       "      <td>1</td>\n",
       "      <td>0</td>\n",
       "      <td>0</td>\n",
       "      <td>0</td>\n",
       "      <td>0</td>\n",
       "      <td>0</td>\n",
       "      <td>0</td>\n",
       "      <td>...</td>\n",
       "      <td>6966</td>\n",
       "      <td>6985</td>\n",
       "      <td>6995</td>\n",
       "      <td>7061</td>\n",
       "      <td>7097</td>\n",
       "      <td>7134</td>\n",
       "      <td>7188</td>\n",
       "      <td>7226</td>\n",
       "      <td>7263</td>\n",
       "      <td>01003</td>\n",
       "    </tr>\n",
       "  </tbody>\n",
       "</table>\n",
       "<p>2 rows × 298 columns</p>\n",
       "</div>"
      ],
      "text/plain": [
       "   countyFIPS     County Name State  stateFIPS  1/22/20  1/23/20  1/24/20  \\\n",
       "1        1001  Autauga County    AL          1        0        0        0   \n",
       "2        1003  Baldwin County    AL          1        0        0        0   \n",
       "\n",
       "   1/25/20  1/26/20  1/27/20  ...  11/1/20  11/2/20  11/3/20  11/4/20  \\\n",
       "1        0        0        0  ...     2173     2186     2197     2212   \n",
       "2        0        0        0  ...     6966     6985     6995     7061   \n",
       "\n",
       "   11/5/20  11/6/20  11/7/20  11/8/20  11/9/20    fip  \n",
       "1     2230     2242     2267     2283     2304  01001  \n",
       "2     7097     7134     7188     7226     7263  01003  \n",
       "\n",
       "[2 rows x 298 columns]"
      ]
     },
     "execution_count": 4,
     "metadata": {},
     "output_type": "execute_result"
    }
   ],
   "source": [
    "daily_cases = pd.read_csv(path+'data/covid_cases/covid_confirmed_usafacts_new.csv')\n",
    "daily_cases['fip'] = daily_cases['countyFIPS'].apply(lambda x: str(x).zfill(5))\n",
    "daily_cases = daily_cases[1:]\n",
    "print(\"Covid cases data shape: \", daily_cases.shape)\n",
    "daily_cases.head(2)"
   ]
  },
  {
   "cell_type": "code",
   "execution_count": 5,
   "metadata": {
    "cell_id": "00003-8c7c49d8-fb8c-4bb4-aafc-c25b000bae4e",
    "deepnote_cell_type": "code",
    "execution_millis": 4367,
    "execution_start": 1607091988991,
    "id": "6x4TJRLbdPYS",
    "output_cleared": false,
    "source_hash": "7c76fb43",
    "tags": []
   },
   "outputs": [
    {
     "name": "stdout",
     "output_type": "stream",
     "text": [
      "Converted Covid cases data shape:  (892896, 5)\n"
     ]
    },
    {
     "data": {
      "text/html": [
       "<div>\n",
       "<style scoped>\n",
       "    .dataframe tbody tr th:only-of-type {\n",
       "        vertical-align: middle;\n",
       "    }\n",
       "\n",
       "    .dataframe tbody tr th {\n",
       "        vertical-align: top;\n",
       "    }\n",
       "\n",
       "    .dataframe thead th {\n",
       "        text-align: right;\n",
       "    }\n",
       "</style>\n",
       "<table border=\"1\" class=\"dataframe\">\n",
       "  <thead>\n",
       "    <tr style=\"text-align: right;\">\n",
       "      <th></th>\n",
       "      <th>fip</th>\n",
       "      <th>County Name</th>\n",
       "      <th>State</th>\n",
       "      <th>date</th>\n",
       "      <th>daily_confirmed</th>\n",
       "    </tr>\n",
       "  </thead>\n",
       "  <tbody>\n",
       "    <tr>\n",
       "      <th>0</th>\n",
       "      <td>01001</td>\n",
       "      <td>Autauga County</td>\n",
       "      <td>AL</td>\n",
       "      <td>2020-01-22</td>\n",
       "      <td>0</td>\n",
       "    </tr>\n",
       "    <tr>\n",
       "      <th>1</th>\n",
       "      <td>01001</td>\n",
       "      <td>Autauga County</td>\n",
       "      <td>AL</td>\n",
       "      <td>2020-01-23</td>\n",
       "      <td>0</td>\n",
       "    </tr>\n",
       "  </tbody>\n",
       "</table>\n",
       "</div>"
      ],
      "text/plain": [
       "     fip     County Name State        date  daily_confirmed\n",
       "0  01001  Autauga County    AL  2020-01-22                0\n",
       "1  01001  Autauga County    AL  2020-01-23                0"
      ]
     },
     "execution_count": 5,
     "metadata": {},
     "output_type": "execute_result"
    }
   ],
   "source": [
    "# convert original data to format ['fip', 'County Name', 'State', 'date', 'daily_confirmed']\n",
    "\n",
    "# get daily confirmed per row\n",
    "tmp = daily_cases.copy()\n",
    "cols = daily_cases.columns[4:-1]# daily cases data\n",
    "tmp['daily_confirmed'] = tmp[cols].values.tolist()\n",
    "# tmp['time_list'] = [list(cols)]*tmp.shape[0]\n",
    "\n",
    "# convert list of pd.Series then stack it\n",
    "tmp = (tmp\n",
    " .set_index(['fip','County Name','State'])['daily_confirmed']\n",
    " .apply(pd.Series)\n",
    " .stack()\n",
    " .reset_index()\n",
    " .rename(columns={0:'daily_confirmed'}))\n",
    "\n",
    "\n",
    "tmp2 = daily_cases.copy()\n",
    "cols = daily_cases.columns[4:-1]\n",
    "tmp2['time_list'] = [list(cols)]*tmp2.shape[0]\n",
    "\n",
    "tmp2 = (tmp2\n",
    " .set_index(['fip','County Name','State'])['time_list']\n",
    " .apply(pd.Series)\n",
    " .stack()\n",
    " .reset_index()\n",
    " .rename(columns={0:'old_date'}))\n",
    "\n",
    "cases_daily = pd.merge(tmp,tmp2,on=list(tmp.columns[:4]))\n",
    "del tmp,tmp2,daily_cases\n",
    "\n",
    "# convert date format to be consistent with social distance data\n",
    "def date_in_sd(case_date):\n",
    "    tmp = '2020-'+case_date.split('/')[0].zfill(2)+'-'+ case_date.split('/')[1].zfill(2)\n",
    "    return tmp\n",
    "\n",
    "cases_daily['date'] = cases_daily['old_date'].apply(date_in_sd)\n",
    "cases_daily = cases_daily[['fip', 'County Name', 'State', 'date', 'daily_confirmed']]\n",
    "\n",
    "cases_daily[\"date\"] = cases_daily[\"date\"].apply(lambda x: datetime.strptime(x, '%Y-%m-%d').date())\n",
    "\n",
    "cases_daily = cases_daily[(cases_daily[\"fip\"] != \"00000\") & (cases_daily[\"fip\"] != \"00001\")]\n",
    "cases_daily = cases_daily[cases_daily[\"date\"] < date(2020,11,1)]\n",
    "\n",
    "print(\"Converted Covid cases data shape: \", cases_daily.shape)\n",
    "cases_daily.head(2)"
   ]
  },
  {
   "cell_type": "code",
   "execution_count": 6,
   "metadata": {},
   "outputs": [
    {
     "name": "stdout",
     "output_type": "stream",
     "text": [
      "Targeted covid data shape:  (578496, 6)\n"
     ]
    },
    {
     "data": {
      "text/html": [
       "<div>\n",
       "<style scoped>\n",
       "    .dataframe tbody tr th:only-of-type {\n",
       "        vertical-align: middle;\n",
       "    }\n",
       "\n",
       "    .dataframe tbody tr th {\n",
       "        vertical-align: top;\n",
       "    }\n",
       "\n",
       "    .dataframe thead th {\n",
       "        text-align: right;\n",
       "    }\n",
       "</style>\n",
       "<table border=\"1\" class=\"dataframe\">\n",
       "  <thead>\n",
       "    <tr style=\"text-align: right;\">\n",
       "      <th></th>\n",
       "      <th>fip</th>\n",
       "      <th>County Name</th>\n",
       "      <th>State</th>\n",
       "      <th>date</th>\n",
       "      <th>daily_confirmed</th>\n",
       "      <th>new_cases</th>\n",
       "    </tr>\n",
       "  </thead>\n",
       "  <tbody>\n",
       "    <tr>\n",
       "      <th>100</th>\n",
       "      <td>01001</td>\n",
       "      <td>Autauga County</td>\n",
       "      <td>AL</td>\n",
       "      <td>2020-05-01</td>\n",
       "      <td>42</td>\n",
       "      <td>NaN</td>\n",
       "    </tr>\n",
       "    <tr>\n",
       "      <th>101</th>\n",
       "      <td>01001</td>\n",
       "      <td>Autauga County</td>\n",
       "      <td>AL</td>\n",
       "      <td>2020-05-02</td>\n",
       "      <td>45</td>\n",
       "      <td>3.0</td>\n",
       "    </tr>\n",
       "  </tbody>\n",
       "</table>\n",
       "</div>"
      ],
      "text/plain": [
       "       fip     County Name State        date  daily_confirmed  new_cases\n",
       "100  01001  Autauga County    AL  2020-05-01               42        NaN\n",
       "101  01001  Autauga County    AL  2020-05-02               45        3.0"
      ]
     },
     "execution_count": 6,
     "metadata": {},
     "output_type": "execute_result"
    }
   ],
   "source": [
    "# Choose targeted data by time range, we want to predict from 6/1 to 10/31, and we need previous month to train the following months.\n",
    "start_date = date(2020, 5, 1) \n",
    "targeted_daily = cases_daily[cases_daily[\"date\"] >= start_date].copy()\n",
    "targeted_daily[\"new_cases\"] = targeted_daily.groupby(by = \"fip\")[\"daily_confirmed\"].diff()\n",
    "\n",
    "print(\"Targeted covid data shape: \", targeted_daily.shape)\n",
    "targeted_daily.head(2)"
   ]
  },
  {
   "cell_type": "code",
   "execution_count": 7,
   "metadata": {},
   "outputs": [
    {
     "name": "stdout",
     "output_type": "stream",
     "text": [
      "There are 418 counties have negative new cases\n"
     ]
    },
    {
     "data": {
      "image/png": "[encoded data removed]",
      "text/plain": [
       "<Figure size 1944x432 with 3 Axes>"
      ]
     },
     "metadata": {
      "needs_background": "light"
     },
     "output_type": "display_data"
    }
   ],
   "source": [
    "#We found that some counties have negative new cases\n",
    "unreliable_counties = targeted_daily[targeted_daily[\"new_cases\"]<0].groupby(by = \"fip\", as_index = False).count()[[\"fip\", \"new_cases\"]]\n",
    "print(\"There are %s counties have negative new cases\" % len(unreliable_counties))\n",
    "\n",
    "# Plot six of them for example\n",
    "size = 3\n",
    "random_counties =  unreliable_counties[\"fip\"].values[np.argsort(unreliable_counties[\"new_cases\"].values)[::-1][:3]] #np.random.choice(unreliable_counties, size=size)\n",
    "    \n",
    "fig = plt.figure(figsize = (27,6))\n",
    "pos = 0\n",
    "for fip in random_counties:\n",
    "    cur_df = targeted_daily[targeted_daily[\"fip\"] == fip ]\n",
    "    x = cur_df[\"date\"].values\n",
    "    state_name = cur_df['State'].values[0]\n",
    "    county_name = cur_df['County Name'].values[0]\n",
    "\n",
    "    ax = fig.add_subplot(1,size,pos+1)\n",
    "    formatter = mdates.DateFormatter(\"%m/%d\")\n",
    "    ax.xaxis.set_major_formatter(formatter)\n",
    "#     ax.plot(x, cur_df[\"daily_confirmed\"].values)\n",
    "    ax.plot(x, cur_df[\"new_cases\"].values, label = \"actual data\")\n",
    "    ax.axhline(0, color = \"r\", linestyle = \"--\", label = \"0\")\n",
    "    ax.set_title(\"%s, %s\"%(county_name, state_name), fontsize=22)\n",
    "    ax.set_xlabel(\"date\", fontsize=20)\n",
    "    ax.set_ylabel(\"new cases\",fontsize=20)\n",
    "    plt.legend(loc = \"upper right\", fontsize=20)\n",
    "\n",
    "    pos += 1\n",
    "plt.tight_layout()\n",
    "fig.savefig(path + \"graphs/unreliable_counties_new_cases.png\", dpi = 200)  \n"
   ]
  },
  {
   "cell_type": "code",
   "execution_count": 18,
   "metadata": {
    "id": "2BlmuVifdPYS"
   },
   "outputs": [
    {
     "name": "stdout",
     "output_type": "stream",
     "text": [
      "Reliable targeted covid data shape:  (501584, 6)\n",
      "We have 2726 of counties now\n"
     ]
    },
    {
     "data": {
      "text/html": [
       "<div>\n",
       "<style scoped>\n",
       "    .dataframe tbody tr th:only-of-type {\n",
       "        vertical-align: middle;\n",
       "    }\n",
       "\n",
       "    .dataframe tbody tr th {\n",
       "        vertical-align: top;\n",
       "    }\n",
       "\n",
       "    .dataframe thead th {\n",
       "        text-align: right;\n",
       "    }\n",
       "</style>\n",
       "<table border=\"1\" class=\"dataframe\">\n",
       "  <thead>\n",
       "    <tr style=\"text-align: right;\">\n",
       "      <th></th>\n",
       "      <th>fip</th>\n",
       "      <th>County Name</th>\n",
       "      <th>State</th>\n",
       "      <th>date</th>\n",
       "      <th>daily_confirmed</th>\n",
       "      <th>new_cases</th>\n",
       "    </tr>\n",
       "  </thead>\n",
       "  <tbody>\n",
       "    <tr>\n",
       "      <th>100</th>\n",
       "      <td>01001</td>\n",
       "      <td>Autauga County</td>\n",
       "      <td>AL</td>\n",
       "      <td>2020-05-01</td>\n",
       "      <td>42</td>\n",
       "      <td>NaN</td>\n",
       "    </tr>\n",
       "    <tr>\n",
       "      <th>101</th>\n",
       "      <td>01001</td>\n",
       "      <td>Autauga County</td>\n",
       "      <td>AL</td>\n",
       "      <td>2020-05-02</td>\n",
       "      <td>45</td>\n",
       "      <td>3.0</td>\n",
       "    </tr>\n",
       "  </tbody>\n",
       "</table>\n",
       "</div>"
      ],
      "text/plain": [
       "       fip     County Name State        date  daily_confirmed  new_cases\n",
       "100  01001  Autauga County    AL  2020-05-01               42        NaN\n",
       "101  01001  Autauga County    AL  2020-05-02               45        3.0"
      ]
     },
     "execution_count": 18,
     "metadata": {},
     "output_type": "execute_result"
    }
   ],
   "source": [
    "#We decide to drop those counties with negative increases\n",
    "\n",
    "reliable_target = targeted_daily[~targeted_daily[\"fip\"].isin(unreliable_counties[\"fip\"].values)]\n",
    "print(\"Reliable targeted covid data shape: \",reliable_target.shape)\n",
    "print(\"We have %s of counties now\"%(len(reliable_target[\"fip\"].unique())))\n",
    "reliable_target.head(2)"
   ]
  },
  {
   "cell_type": "markdown",
   "metadata": {},
   "source": [
    "### Import social distance data"
   ]
  },
  {
   "cell_type": "code",
   "execution_count": 19,
   "metadata": {},
   "outputs": [
    {
     "name": "stdout",
     "output_type": "stream",
     "text": [
      "Social distance data shape:  (968330, 25)\n"
     ]
    },
    {
     "data": {
      "text/html": [
       "<div>\n",
       "<style scoped>\n",
       "    .dataframe tbody tr th:only-of-type {\n",
       "        vertical-align: middle;\n",
       "    }\n",
       "\n",
       "    .dataframe tbody tr th {\n",
       "        vertical-align: top;\n",
       "    }\n",
       "\n",
       "    .dataframe thead th {\n",
       "        text-align: right;\n",
       "    }\n",
       "</style>\n",
       "<table border=\"1\" class=\"dataframe\">\n",
       "  <thead>\n",
       "    <tr style=\"text-align: right;\">\n",
       "      <th></th>\n",
       "      <th>county</th>\n",
       "      <th>county_fips</th>\n",
       "      <th>date</th>\n",
       "      <th>level</th>\n",
       "      <th>pop_not_stay_at_home</th>\n",
       "      <th>pop_stay_at_home</th>\n",
       "      <th>state_code</th>\n",
       "      <th>state_fips</th>\n",
       "      <th>trips</th>\n",
       "      <th>trips_1</th>\n",
       "      <th>...</th>\n",
       "      <th>trips_3_5</th>\n",
       "      <th>trips_500</th>\n",
       "      <th>trips_50_100</th>\n",
       "      <th>trips_5_10</th>\n",
       "      <th>only_date</th>\n",
       "      <th>weekday</th>\n",
       "      <th>pop</th>\n",
       "      <th>avg_stay_at_home_ratio</th>\n",
       "      <th>MA_7</th>\n",
       "      <th>fip</th>\n",
       "    </tr>\n",
       "  </thead>\n",
       "  <tbody>\n",
       "    <tr>\n",
       "      <th>0</th>\n",
       "      <td>Autauga County</td>\n",
       "      <td>1001.0</td>\n",
       "      <td>2020-01-01</td>\n",
       "      <td>County</td>\n",
       "      <td>44621.0</td>\n",
       "      <td>10980.0</td>\n",
       "      <td>AL</td>\n",
       "      <td>1.0</td>\n",
       "      <td>148091.0</td>\n",
       "      <td>33055.0</td>\n",
       "      <td>...</td>\n",
       "      <td>20013.0</td>\n",
       "      <td>63.0</td>\n",
       "      <td>2515.0</td>\n",
       "      <td>20833.0</td>\n",
       "      <td>01/01</td>\n",
       "      <td>2</td>\n",
       "      <td>55601.0</td>\n",
       "      <td>0.197478</td>\n",
       "      <td>0.197478</td>\n",
       "      <td>01001</td>\n",
       "    </tr>\n",
       "  </tbody>\n",
       "</table>\n",
       "<p>1 rows × 25 columns</p>\n",
       "</div>"
      ],
      "text/plain": [
       "           county  county_fips        date   level  pop_not_stay_at_home  \\\n",
       "0  Autauga County       1001.0  2020-01-01  County               44621.0   \n",
       "\n",
       "   pop_stay_at_home state_code  state_fips     trips  trips_1  ...  trips_3_5  \\\n",
       "0           10980.0         AL         1.0  148091.0  33055.0  ...    20013.0   \n",
       "\n",
       "   trips_500  trips_50_100  trips_5_10  only_date  weekday      pop  \\\n",
       "0       63.0        2515.0     20833.0      01/01        2  55601.0   \n",
       "\n",
       "   avg_stay_at_home_ratio      MA_7    fip  \n",
       "0                0.197478  0.197478  01001  \n",
       "\n",
       "[1 rows x 25 columns]"
      ]
     },
     "execution_count": 19,
     "metadata": {},
     "output_type": "execute_result"
    }
   ],
   "source": [
    "sd_data_folder_path = 'data/distance_data/'\n",
    "sd_data = pd.read_csv(sd_data_folder_path+\"county_2020.csv\")\n",
    "sd_data['fip'] = sd_data['county_fips'].apply(lambda x: str(int(x)).zfill(5))\n",
    "\n",
    "print(\"Social distance data shape: \", sd_data.shape)\n",
    "sd_data.head(1)"
   ]
  },
  {
   "cell_type": "code",
   "execution_count": 20,
   "metadata": {},
   "outputs": [
    {
     "name": "stdout",
     "output_type": "stream",
     "text": [
      "Aggregated social distance data shape:  (968330, 8)\n"
     ]
    },
    {
     "data": {
      "text/html": [
       "<div>\n",
       "<style scoped>\n",
       "    .dataframe tbody tr th:only-of-type {\n",
       "        vertical-align: middle;\n",
       "    }\n",
       "\n",
       "    .dataframe tbody tr th {\n",
       "        vertical-align: top;\n",
       "    }\n",
       "\n",
       "    .dataframe thead th {\n",
       "        text-align: right;\n",
       "    }\n",
       "</style>\n",
       "<table border=\"1\" class=\"dataframe\">\n",
       "  <thead>\n",
       "    <tr style=\"text-align: right;\">\n",
       "      <th></th>\n",
       "      <th>date</th>\n",
       "      <th>fip</th>\n",
       "      <th>trip_ratio</th>\n",
       "      <th>short_trip_ratio</th>\n",
       "      <th>med_trip_ratio</th>\n",
       "      <th>long_trip_ratio</th>\n",
       "      <th>weekday</th>\n",
       "      <th>avg_stay_at_home_ratio</th>\n",
       "    </tr>\n",
       "  </thead>\n",
       "  <tbody>\n",
       "    <tr>\n",
       "      <th>0</th>\n",
       "      <td>2020-01-01</td>\n",
       "      <td>01001</td>\n",
       "      <td>2.663459</td>\n",
       "      <td>0.781641</td>\n",
       "      <td>0.233856</td>\n",
       "      <td>0.029468</td>\n",
       "      <td>2</td>\n",
       "      <td>0.197478</td>\n",
       "    </tr>\n",
       "    <tr>\n",
       "      <th>1</th>\n",
       "      <td>2020-01-01</td>\n",
       "      <td>01003</td>\n",
       "      <td>2.280829</td>\n",
       "      <td>0.754568</td>\n",
       "      <td>0.266953</td>\n",
       "      <td>0.029024</td>\n",
       "      <td>2</td>\n",
       "      <td>0.223074</td>\n",
       "    </tr>\n",
       "  </tbody>\n",
       "</table>\n",
       "</div>"
      ],
      "text/plain": [
       "         date    fip  trip_ratio  short_trip_ratio  med_trip_ratio  \\\n",
       "0  2020-01-01  01001    2.663459          0.781641        0.233856   \n",
       "1  2020-01-01  01003    2.280829          0.754568        0.266953   \n",
       "\n",
       "   long_trip_ratio  weekday  avg_stay_at_home_ratio  \n",
       "0         0.029468        2                0.197478  \n",
       "1         0.029024        2                0.223074  "
      ]
     },
     "execution_count": 20,
     "metadata": {},
     "output_type": "execute_result"
    }
   ],
   "source": [
    "# Calculate ratio of different types of trips\n",
    "sd_data[\"trip_ratio\"] = sd_data[\"trips\"]/sd_data[\"pop\"]\n",
    "sd_data[\"short_trips\"] = sd_data[\"trips_1\"] + sd_data[\"trips_1_3\"] + sd_data[\"trips_3_5\"] + sd_data[\"trips_5_10\"]\n",
    "sd_data[\"med_trips\"] = sd_data[\"trips_10_25\"] + sd_data[\"trips_25_50\"] + sd_data[\"trips_25_50\"] \n",
    "sd_data[\"long_trips\"] = sd_data[\"trips_50_100\"] + sd_data[\"trips_100_250\"] + sd_data[\"trips_250_500\"] + sd_data[\"trips_500\"] \n",
    "\n",
    "sd_data[\"short_trip_ratio\"] = sd_data[\"short_trips\"]/sd_data[\"trips\"]\n",
    "sd_data[\"med_trip_ratio\"] = sd_data[\"med_trips\"]/sd_data[\"trips\"]\n",
    "sd_data[\"long_trip_ratio\"] = sd_data[\"long_trips\"]/sd_data[\"trips\"]\n",
    "\n",
    "sd_agg = sd_data[['date', 'fip',  'trip_ratio',\"short_trip_ratio\",\n",
    "                    \"med_trip_ratio\", \"long_trip_ratio\",\n",
    "                    \"weekday\",\"avg_stay_at_home_ratio\",]].copy()\n",
    "\n",
    "sd_agg[\"date\"] = sd_agg[\"date\"].apply(lambda x: datetime.strptime(x, '%Y-%m-%d').date())\n",
    "\n",
    "print(\"Aggregated social distance data shape: \", sd_agg.shape)\n",
    "sd_agg.head(2)"
   ]
  },
  {
   "cell_type": "markdown",
   "metadata": {},
   "source": [
    "### Merge cases data and social distance data"
   ]
  },
  {
   "cell_type": "code",
   "execution_count": 21,
   "metadata": {
    "cell_id": "00009-265b7cf5-fd85-4a7b-9f18-44b8c1d172cb",
    "deepnote_cell_type": "code",
    "execution_millis": 1152,
    "execution_start": 1607104744734,
    "id": "_J5rKxTCdPYT",
    "output_cleared": false,
    "source_hash": "e05a3c07",
    "tags": []
   },
   "outputs": [
    {
     "name": "stdout",
     "output_type": "stream",
     "text": [
      "Merged case and social distance data shape:  (501584, 12)\n"
     ]
    },
    {
     "data": {
      "text/html": [
       "<div>\n",
       "<style scoped>\n",
       "    .dataframe tbody tr th:only-of-type {\n",
       "        vertical-align: middle;\n",
       "    }\n",
       "\n",
       "    .dataframe tbody tr th {\n",
       "        vertical-align: top;\n",
       "    }\n",
       "\n",
       "    .dataframe thead th {\n",
       "        text-align: right;\n",
       "    }\n",
       "</style>\n",
       "<table border=\"1\" class=\"dataframe\">\n",
       "  <thead>\n",
       "    <tr style=\"text-align: right;\">\n",
       "      <th></th>\n",
       "      <th>fip</th>\n",
       "      <th>County Name</th>\n",
       "      <th>State</th>\n",
       "      <th>date</th>\n",
       "      <th>daily_confirmed</th>\n",
       "      <th>new_cases</th>\n",
       "      <th>trip_ratio</th>\n",
       "      <th>short_trip_ratio</th>\n",
       "      <th>med_trip_ratio</th>\n",
       "      <th>long_trip_ratio</th>\n",
       "      <th>weekday</th>\n",
       "      <th>avg_stay_at_home_ratio</th>\n",
       "    </tr>\n",
       "  </thead>\n",
       "  <tbody>\n",
       "    <tr>\n",
       "      <th>0</th>\n",
       "      <td>01001</td>\n",
       "      <td>Autauga County</td>\n",
       "      <td>AL</td>\n",
       "      <td>2020-05-01</td>\n",
       "      <td>42</td>\n",
       "      <td>NaN</td>\n",
       "      <td>3.382349</td>\n",
       "      <td>0.745260</td>\n",
       "      <td>0.265077</td>\n",
       "      <td>0.022844</td>\n",
       "      <td>4.0</td>\n",
       "      <td>0.181723</td>\n",
       "    </tr>\n",
       "    <tr>\n",
       "      <th>1</th>\n",
       "      <td>01001</td>\n",
       "      <td>Autauga County</td>\n",
       "      <td>AL</td>\n",
       "      <td>2020-05-02</td>\n",
       "      <td>45</td>\n",
       "      <td>3.0</td>\n",
       "      <td>3.212118</td>\n",
       "      <td>0.776026</td>\n",
       "      <td>0.239752</td>\n",
       "      <td>0.020611</td>\n",
       "      <td>5.0</td>\n",
       "      <td>0.192281</td>\n",
       "    </tr>\n",
       "  </tbody>\n",
       "</table>\n",
       "</div>"
      ],
      "text/plain": [
       "     fip     County Name State        date  daily_confirmed  new_cases  \\\n",
       "0  01001  Autauga County    AL  2020-05-01               42        NaN   \n",
       "1  01001  Autauga County    AL  2020-05-02               45        3.0   \n",
       "\n",
       "   trip_ratio  short_trip_ratio  med_trip_ratio  long_trip_ratio  weekday  \\\n",
       "0    3.382349          0.745260        0.265077         0.022844      4.0   \n",
       "1    3.212118          0.776026        0.239752         0.020611      5.0   \n",
       "\n",
       "   avg_stay_at_home_ratio  \n",
       "0                0.181723  \n",
       "1                0.192281  "
      ]
     },
     "execution_count": 21,
     "metadata": {},
     "output_type": "execute_result"
    }
   ],
   "source": [
    "cases_sd = pd.merge(reliable_target,sd_agg,on = ['fip','date'], how = \"left\" ) # how = \"outer\"\n",
    "print(\"Merged case and social distance data shape: \",cases_sd.shape)\n",
    "cases_sd.head(2)"
   ]
  },
  {
   "cell_type": "code",
   "execution_count": 22,
   "metadata": {},
   "outputs": [
    {
     "data": {
      "text/html": [
       "<div>\n",
       "<style scoped>\n",
       "    .dataframe tbody tr th:only-of-type {\n",
       "        vertical-align: middle;\n",
       "    }\n",
       "\n",
       "    .dataframe tbody tr th {\n",
       "        vertical-align: top;\n",
       "    }\n",
       "\n",
       "    .dataframe thead th {\n",
       "        text-align: right;\n",
       "    }\n",
       "</style>\n",
       "<table border=\"1\" class=\"dataframe\">\n",
       "  <thead>\n",
       "    <tr style=\"text-align: right;\">\n",
       "      <th></th>\n",
       "      <th>daily_confirmed</th>\n",
       "      <th>new_cases</th>\n",
       "      <th>trip_ratio</th>\n",
       "      <th>short_trip_ratio</th>\n",
       "      <th>med_trip_ratio</th>\n",
       "      <th>long_trip_ratio</th>\n",
       "      <th>weekday</th>\n",
       "      <th>avg_stay_at_home_ratio</th>\n",
       "    </tr>\n",
       "  </thead>\n",
       "  <tbody>\n",
       "    <tr>\n",
       "      <th>count</th>\n",
       "      <td>501584.000000</td>\n",
       "      <td>498858.000000</td>\n",
       "      <td>499310.000000</td>\n",
       "      <td>499310.000000</td>\n",
       "      <td>499310.000000</td>\n",
       "      <td>499310.000000</td>\n",
       "      <td>501216.000000</td>\n",
       "      <td>499310.000000</td>\n",
       "    </tr>\n",
       "    <tr>\n",
       "      <th>mean</th>\n",
       "      <td>1526.560128</td>\n",
       "      <td>14.863274</td>\n",
       "      <td>3.240078</td>\n",
       "      <td>0.710271</td>\n",
       "      <td>0.316318</td>\n",
       "      <td>0.051804</td>\n",
       "      <td>3.016304</td>\n",
       "      <td>0.213927</td>\n",
       "    </tr>\n",
       "    <tr>\n",
       "      <th>std</th>\n",
       "      <td>7203.654882</td>\n",
       "      <td>77.080962</td>\n",
       "      <td>0.757248</td>\n",
       "      <td>0.084318</td>\n",
       "      <td>0.104676</td>\n",
       "      <td>0.030056</td>\n",
       "      <td>1.995855</td>\n",
       "      <td>0.055472</td>\n",
       "    </tr>\n",
       "    <tr>\n",
       "      <th>min</th>\n",
       "      <td>0.000000</td>\n",
       "      <td>0.000000</td>\n",
       "      <td>0.064580</td>\n",
       "      <td>0.105623</td>\n",
       "      <td>0.000000</td>\n",
       "      <td>0.000000</td>\n",
       "      <td>0.000000</td>\n",
       "      <td>0.030516</td>\n",
       "    </tr>\n",
       "    <tr>\n",
       "      <th>25%</th>\n",
       "      <td>32.000000</td>\n",
       "      <td>0.000000</td>\n",
       "      <td>2.815443</td>\n",
       "      <td>0.668815</td>\n",
       "      <td>0.248076</td>\n",
       "      <td>0.032782</td>\n",
       "      <td>1.000000</td>\n",
       "      <td>0.177841</td>\n",
       "    </tr>\n",
       "    <tr>\n",
       "      <th>50%</th>\n",
       "      <td>171.000000</td>\n",
       "      <td>2.000000</td>\n",
       "      <td>3.163637</td>\n",
       "      <td>0.718657</td>\n",
       "      <td>0.306237</td>\n",
       "      <td>0.045190</td>\n",
       "      <td>3.000000</td>\n",
       "      <td>0.210708</td>\n",
       "    </tr>\n",
       "    <tr>\n",
       "      <th>75%</th>\n",
       "      <td>738.000000</td>\n",
       "      <td>8.000000</td>\n",
       "      <td>3.549152</td>\n",
       "      <td>0.764671</td>\n",
       "      <td>0.369305</td>\n",
       "      <td>0.062681</td>\n",
       "      <td>5.000000</td>\n",
       "      <td>0.245351</td>\n",
       "    </tr>\n",
       "    <tr>\n",
       "      <th>max</th>\n",
       "      <td>307618.000000</td>\n",
       "      <td>14129.000000</td>\n",
       "      <td>47.239035</td>\n",
       "      <td>1.000000</td>\n",
       "      <td>1.784163</td>\n",
       "      <td>0.779510</td>\n",
       "      <td>6.000000</td>\n",
       "      <td>0.890497</td>\n",
       "    </tr>\n",
       "  </tbody>\n",
       "</table>\n",
       "</div>"
      ],
      "text/plain": [
       "       daily_confirmed      new_cases     trip_ratio  short_trip_ratio  \\\n",
       "count    501584.000000  498858.000000  499310.000000     499310.000000   \n",
       "mean       1526.560128      14.863274       3.240078          0.710271   \n",
       "std        7203.654882      77.080962       0.757248          0.084318   \n",
       "min           0.000000       0.000000       0.064580          0.105623   \n",
       "25%          32.000000       0.000000       2.815443          0.668815   \n",
       "50%         171.000000       2.000000       3.163637          0.718657   \n",
       "75%         738.000000       8.000000       3.549152          0.764671   \n",
       "max      307618.000000   14129.000000      47.239035          1.000000   \n",
       "\n",
       "       med_trip_ratio  long_trip_ratio        weekday  avg_stay_at_home_ratio  \n",
       "count   499310.000000    499310.000000  501216.000000           499310.000000  \n",
       "mean         0.316318         0.051804       3.016304                0.213927  \n",
       "std          0.104676         0.030056       1.995855                0.055472  \n",
       "min          0.000000         0.000000       0.000000                0.030516  \n",
       "25%          0.248076         0.032782       1.000000                0.177841  \n",
       "50%          0.306237         0.045190       3.000000                0.210708  \n",
       "75%          0.369305         0.062681       5.000000                0.245351  \n",
       "max          1.784163         0.779510       6.000000                0.890497  "
      ]
     },
     "execution_count": 22,
     "metadata": {},
     "output_type": "execute_result"
    }
   ],
   "source": [
    "cases_sd.describe()"
   ]
  },
  {
   "cell_type": "markdown",
   "metadata": {},
   "source": [
    "### Fill missing values in social distance data"
   ]
  },
  {
   "cell_type": "code",
   "execution_count": 23,
   "metadata": {},
   "outputs": [
    {
     "name": "stdout",
     "output_type": "stream",
     "text": [
      "We have 2726 of counties now.\n"
     ]
    }
   ],
   "source": [
    "fips = cases_sd.fip.unique()\n",
    "print(\"We have %s of counties now.\"%len(fips))"
   ]
  },
  {
   "cell_type": "code",
   "execution_count": 24,
   "metadata": {
    "id": "03mJ-te-dPYT"
   },
   "outputs": [
    {
     "name": "stderr",
     "output_type": "stream",
     "text": [
      "100%|██████████| 2726/2726 [04:04<00:00, 11.14it/s]"
     ]
    },
    {
     "name": "stdout",
     "output_type": "stream",
     "text": [
      "Filled case and social distance data shape:  (501032, 12)\n"
     ]
    },
    {
     "name": "stderr",
     "output_type": "stream",
     "text": [
      "\n"
     ]
    },
    {
     "data": {
      "text/html": [
       "<div>\n",
       "<style scoped>\n",
       "    .dataframe tbody tr th:only-of-type {\n",
       "        vertical-align: middle;\n",
       "    }\n",
       "\n",
       "    .dataframe tbody tr th {\n",
       "        vertical-align: top;\n",
       "    }\n",
       "\n",
       "    .dataframe thead th {\n",
       "        text-align: right;\n",
       "    }\n",
       "</style>\n",
       "<table border=\"1\" class=\"dataframe\">\n",
       "  <thead>\n",
       "    <tr style=\"text-align: right;\">\n",
       "      <th></th>\n",
       "      <th>fip</th>\n",
       "      <th>County Name</th>\n",
       "      <th>State</th>\n",
       "      <th>date</th>\n",
       "      <th>daily_confirmed</th>\n",
       "      <th>new_cases</th>\n",
       "      <th>weekday</th>\n",
       "      <th>trip_ratio</th>\n",
       "      <th>short_trip_ratio</th>\n",
       "      <th>med_trip_ratio</th>\n",
       "      <th>long_trip_ratio</th>\n",
       "      <th>avg_stay_at_home_ratio</th>\n",
       "    </tr>\n",
       "  </thead>\n",
       "  <tbody>\n",
       "    <tr>\n",
       "      <th>0</th>\n",
       "      <td>01001</td>\n",
       "      <td>Autauga County</td>\n",
       "      <td>AL</td>\n",
       "      <td>2020-05-01</td>\n",
       "      <td>42</td>\n",
       "      <td>NaN</td>\n",
       "      <td>4.0</td>\n",
       "      <td>3.382349</td>\n",
       "      <td>0.745260</td>\n",
       "      <td>0.265077</td>\n",
       "      <td>0.022844</td>\n",
       "      <td>0.181723</td>\n",
       "    </tr>\n",
       "    <tr>\n",
       "      <th>1</th>\n",
       "      <td>01001</td>\n",
       "      <td>Autauga County</td>\n",
       "      <td>AL</td>\n",
       "      <td>2020-05-02</td>\n",
       "      <td>45</td>\n",
       "      <td>3.0</td>\n",
       "      <td>5.0</td>\n",
       "      <td>3.212118</td>\n",
       "      <td>0.776026</td>\n",
       "      <td>0.239752</td>\n",
       "      <td>0.020611</td>\n",
       "      <td>0.192281</td>\n",
       "    </tr>\n",
       "  </tbody>\n",
       "</table>\n",
       "</div>"
      ],
      "text/plain": [
       "     fip     County Name State        date  daily_confirmed  new_cases  \\\n",
       "0  01001  Autauga County    AL  2020-05-01               42        NaN   \n",
       "1  01001  Autauga County    AL  2020-05-02               45        3.0   \n",
       "\n",
       "   weekday  trip_ratio  short_trip_ratio  med_trip_ratio  long_trip_ratio  \\\n",
       "0      4.0    3.382349          0.745260        0.265077         0.022844   \n",
       "1      5.0    3.212118          0.776026        0.239752         0.020611   \n",
       "\n",
       "   avg_stay_at_home_ratio  \n",
       "0                0.181723  \n",
       "1                0.192281  "
      ]
     },
     "execution_count": 24,
     "metadata": {},
     "output_type": "execute_result"
    }
   ],
   "source": [
    "filled_cases_sd = pd.DataFrame()\n",
    "numerical_features = ['trip_ratio',\n",
    "       'short_trip_ratio', 'med_trip_ratio', 'long_trip_ratio', \n",
    "       'avg_stay_at_home_ratio']\n",
    "\n",
    "for fip in tqdm(fips):\n",
    "    imputer = KNNImputer(n_neighbors=2)\n",
    "    df = cases_sd[cases_sd[\"fip\"] == fip].copy()\n",
    "    df = df.sort_values(by=['date']).reset_index(drop = True)\n",
    "    \n",
    "    num = df[numerical_features]\n",
    "    if imputer.fit_transform(num).shape[1] != len(numerical_features):\n",
    "        continue\n",
    "    num = pd.DataFrame(imputer.fit_transform(num), columns = numerical_features)\n",
    "    \n",
    "    df = df.drop(columns = numerical_features)\n",
    "    df = pd.concat([df,num], axis = 1)\n",
    "    \n",
    "    filled_cases_sd = filled_cases_sd.append(df, ignore_index=True)\n",
    "    \n",
    "print(\"Filled case and social distance data shape: \",filled_cases_sd.shape)\n",
    "filled_cases_sd.head(2)"
   ]
  },
  {
   "cell_type": "code",
   "execution_count": 25,
   "metadata": {
    "id": "6szNijQ9dPYT"
   },
   "outputs": [],
   "source": [
    "# Get log new cases\n",
    "filled_cases_sd[\"log_new_cases\"] = np.log(filled_cases_sd[\"new_cases\"] + 1)"
   ]
  },
  {
   "cell_type": "code",
   "execution_count": 26,
   "metadata": {
    "colab": {
     "base_uri": "https://localhost:8080/",
     "height": 285
    },
    "executionInfo": {
     "elapsed": 1205,
     "status": "ok",
     "timestamp": 1607599474935,
     "user": {
      "displayName": "Xiaohan Yang",
      "photoUrl": "https://lh3.googleusercontent.com/a-/AOh14GguWWTgPWrMaE1bxrDp59B2xhJB87gqv-3t4fMe=s64",
      "userId": "08200801705471466011"
     },
     "user_tz": -480
    },
    "id": "dD1J0o2laSb0",
    "outputId": "5e4c756b-a32a-4abf-8512-e5467a41b417"
   },
   "outputs": [
    {
     "data": {
      "text/plain": [
       "(array([1.91078e+05, 0.00000e+00, 0.00000e+00, 5.43870e+04, 0.00000e+00,\n",
       "        3.48350e+04, 0.00000e+00, 2.52940e+04, 1.96120e+04, 1.61230e+04,\n",
       "        2.40410e+04, 9.27500e+03, 1.50560e+04, 1.68690e+04, 1.24170e+04,\n",
       "        1.21220e+04, 9.04200e+03, 9.85200e+03, 7.29400e+03, 7.25800e+03,\n",
       "        6.19900e+03, 4.99900e+03, 4.69400e+03, 3.70000e+03, 3.04000e+03,\n",
       "        2.44400e+03, 2.17000e+03, 1.58400e+03, 1.33300e+03, 9.14000e+02,\n",
       "        6.47000e+02, 4.95000e+02, 3.52000e+02, 2.85000e+02, 2.30000e+02,\n",
       "        1.61000e+02, 1.35000e+02, 1.17000e+02, 9.00000e+01, 4.60000e+01,\n",
       "        4.60000e+01, 4.50000e+01, 1.90000e+01, 4.00000e+00, 2.00000e+00,\n",
       "        0.00000e+00, 0.00000e+00, 2.00000e+00, 0.00000e+00, 1.00000e+00]),\n",
       " array([0.        , 0.19112111, 0.38224222, 0.57336333, 0.76448444,\n",
       "        0.95560555, 1.14672666, 1.33784777, 1.52896888, 1.72008999,\n",
       "        1.9112111 , 2.1023322 , 2.29345331, 2.48457442, 2.67569553,\n",
       "        2.86681664, 3.05793775, 3.24905886, 3.44017997, 3.63130108,\n",
       "        3.82242219, 4.0135433 , 4.20466441, 4.39578552, 4.58690663,\n",
       "        4.77802774, 4.96914885, 5.16026996, 5.35139107, 5.54251218,\n",
       "        5.73363329, 5.92475439, 6.1158755 , 6.30699661, 6.49811772,\n",
       "        6.68923883, 6.88035994, 7.07148105, 7.26260216, 7.45372327,\n",
       "        7.64484438, 7.83596549, 8.0270866 , 8.21820771, 8.40932882,\n",
       "        8.60044993, 8.79157104, 8.98269215, 9.17381326, 9.36493437,\n",
       "        9.55605548]),\n",
       " <BarContainer object of 50 artists>)"
      ]
     },
     "execution_count": 26,
     "metadata": {},
     "output_type": "execute_result"
    },
    {
     "data": {
      "image/png": "[encoded data removed]",
      "text/plain": [
       "<Figure size 432x288 with 1 Axes>"
      ]
     },
     "metadata": {
      "needs_background": "light"
     },
     "output_type": "display_data"
    }
   ],
   "source": [
    "# Plot \n",
    "plt.hist(filled_cases_sd[\"log_new_cases\"].values, bins = 50)"
   ]
  },
  {
   "cell_type": "code",
   "execution_count": 27,
   "metadata": {
    "colab": {
     "base_uri": "https://localhost:8080/",
     "height": 281
    },
    "executionInfo": {
     "elapsed": 991,
     "status": "ok",
     "timestamp": 1607599486575,
     "user": {
      "displayName": "Xiaohan Yang",
      "photoUrl": "https://lh3.googleusercontent.com/a-/AOh14GguWWTgPWrMaE1bxrDp59B2xhJB87gqv-3t4fMe=s64",
      "userId": "08200801705471466011"
     },
     "user_tz": -480
    },
    "id": "GGOAFsJwixes",
    "outputId": "34d8dbd1-290c-4e96-8bdf-8db1e823d041"
   },
   "outputs": [
    {
     "data": {
      "text/plain": [
       "<AxesSubplot:>"
      ]
     },
     "execution_count": 27,
     "metadata": {},
     "output_type": "execute_result"
    },
    {
     "data": {
      "image/png": "[encoded data removed]",
      "text/plain": [
       "<Figure size 432x288 with 1 Axes>"
      ]
     },
     "metadata": {
      "needs_background": "light"
     },
     "output_type": "display_data"
    }
   ],
   "source": [
    "filled_cases_sd[filled_cases_sd[\"fip\"] == fips[0]][\"log_new_cases\"].hist(bins = 50)"
   ]
  },
  {
   "cell_type": "markdown",
   "metadata": {
    "id": "G2fTV6HTs6tz"
   },
   "source": [
    "### Load data for neightbor counties"
   ]
  },
  {
   "cell_type": "code",
   "execution_count": 28,
   "metadata": {
    "id": "HxNk4f4rdPYT"
   },
   "outputs": [],
   "source": [
    "spacial_data = pd.read_csv(path+\"data/spacial_data/neighborcounties.csv\")"
   ]
  },
  {
   "cell_type": "code",
   "execution_count": 29,
   "metadata": {
    "colab": {
     "base_uri": "https://localhost:8080/",
     "height": 121
    },
    "executionInfo": {
     "elapsed": 880,
     "status": "ok",
     "timestamp": 1607599495832,
     "user": {
      "displayName": "Xiaohan Yang",
      "photoUrl": "https://lh3.googleusercontent.com/a-/AOh14GguWWTgPWrMaE1bxrDp59B2xhJB87gqv-3t4fMe=s64",
      "userId": "08200801705471466011"
     },
     "user_tz": -480
    },
    "id": "atPcAGY3dPYT",
    "outputId": "c0792631-1e84-4bf3-a29f-f4ec13e52fb8"
   },
   "outputs": [
    {
     "name": "stdout",
     "output_type": "stream",
     "text": [
      "Neighbor counties data shape:  (18220, 3)\n"
     ]
    },
    {
     "data": {
      "text/html": [
       "<div>\n",
       "<style scoped>\n",
       "    .dataframe tbody tr th:only-of-type {\n",
       "        vertical-align: middle;\n",
       "    }\n",
       "\n",
       "    .dataframe tbody tr th {\n",
       "        vertical-align: top;\n",
       "    }\n",
       "\n",
       "    .dataframe thead th {\n",
       "        text-align: right;\n",
       "    }\n",
       "</style>\n",
       "<table border=\"1\" class=\"dataframe\">\n",
       "  <thead>\n",
       "    <tr style=\"text-align: right;\">\n",
       "      <th></th>\n",
       "      <th>orgfips</th>\n",
       "      <th>adjfips</th>\n",
       "      <th>instate</th>\n",
       "    </tr>\n",
       "  </thead>\n",
       "  <tbody>\n",
       "    <tr>\n",
       "      <th>0</th>\n",
       "      <td>01001</td>\n",
       "      <td>01021</td>\n",
       "      <td>1</td>\n",
       "    </tr>\n",
       "    <tr>\n",
       "      <th>1</th>\n",
       "      <td>01001</td>\n",
       "      <td>01047</td>\n",
       "      <td>1</td>\n",
       "    </tr>\n",
       "  </tbody>\n",
       "</table>\n",
       "</div>"
      ],
      "text/plain": [
       "  orgfips adjfips  instate\n",
       "0   01001   01021        1\n",
       "1   01001   01047        1"
      ]
     },
     "execution_count": 29,
     "metadata": {},
     "output_type": "execute_result"
    }
   ],
   "source": [
    "spacial_data[\"orgfips\"] = spacial_data[\"orgfips\"].apply(lambda x: str(int(x)).zfill(5))\n",
    "spacial_data[\"adjfips\"] = spacial_data[\"adjfips\"].apply(lambda x: str(int(x)).zfill(5))\n",
    "\n",
    "print(\"Neighbor counties data shape: \", spacial_data.shape)\n",
    "spacial_data.head(2)"
   ]
  },
  {
   "cell_type": "code",
   "execution_count": 30,
   "metadata": {
    "id": "rqVGTIYZdPYT"
   },
   "outputs": [],
   "source": [
    "dates = filled_cases_sd[\"date\"].unique()"
   ]
  },
  {
   "cell_type": "code",
   "execution_count": 31,
   "metadata": {
    "colab": {
     "base_uri": "https://localhost:8080/",
     "height": 137
    },
    "executionInfo": {
     "elapsed": 16248,
     "status": "ok",
     "timestamp": 1607599514694,
     "user": {
      "displayName": "Xiaohan Yang",
      "photoUrl": "https://lh3.googleusercontent.com/a-/AOh14GguWWTgPWrMaE1bxrDp59B2xhJB87gqv-3t4fMe=s64",
      "userId": "08200801705471466011"
     },
     "user_tz": -480
    },
    "id": "OeFZIITudPYT",
    "outputId": "7b29e574-c74c-47d9-d26f-18d82413d168"
   },
   "outputs": [
    {
     "name": "stderr",
     "output_type": "stream",
     "text": [
      "100%|██████████| 184/184 [00:16<00:00, 10.91it/s]\n"
     ]
    },
    {
     "name": "stdout",
     "output_type": "stream",
     "text": [
      "Neighbor counties with daily cases:  (575736, 4)\n"
     ]
    },
    {
     "data": {
      "text/html": [
       "<div>\n",
       "<style scoped>\n",
       "    .dataframe tbody tr th:only-of-type {\n",
       "        vertical-align: middle;\n",
       "    }\n",
       "\n",
       "    .dataframe tbody tr th {\n",
       "        vertical-align: top;\n",
       "    }\n",
       "\n",
       "    .dataframe thead th {\n",
       "        text-align: right;\n",
       "    }\n",
       "</style>\n",
       "<table border=\"1\" class=\"dataframe\">\n",
       "  <thead>\n",
       "    <tr style=\"text-align: right;\">\n",
       "      <th></th>\n",
       "      <th>orgfips</th>\n",
       "      <th>mean_neighbor_daily_confirmed</th>\n",
       "      <th>date</th>\n",
       "      <th>mean_neightbor_new_cases</th>\n",
       "    </tr>\n",
       "  </thead>\n",
       "  <tbody>\n",
       "    <tr>\n",
       "      <th>0</th>\n",
       "      <td>01001</td>\n",
       "      <td>60.666667</td>\n",
       "      <td>2020-05-01</td>\n",
       "      <td>NaN</td>\n",
       "    </tr>\n",
       "    <tr>\n",
       "      <th>1</th>\n",
       "      <td>01003</td>\n",
       "      <td>290.333333</td>\n",
       "      <td>2020-05-01</td>\n",
       "      <td>NaN</td>\n",
       "    </tr>\n",
       "  </tbody>\n",
       "</table>\n",
       "</div>"
      ],
      "text/plain": [
       "  orgfips  mean_neighbor_daily_confirmed        date  mean_neightbor_new_cases\n",
       "0   01001                      60.666667  2020-05-01                       NaN\n",
       "1   01003                     290.333333  2020-05-01                       NaN"
      ]
     },
     "execution_count": 31,
     "metadata": {},
     "output_type": "execute_result"
    }
   ],
   "source": [
    "spacial_df = pd.DataFrame()\n",
    "\n",
    "for date_ in tqdm(dates):\n",
    "    case_temp = filled_cases_sd[filled_cases_sd[\"date\"] == date_]\n",
    "    spacial_temp = spacial_data.merge(case_temp, left_on = \"adjfips\",\n",
    "                                      right_on = \"fip\", how = \"inner\")\n",
    "\n",
    "    spacial_temp_group = spacial_temp.groupby(by = \"orgfips\", as_index = False).mean()[[\"orgfips\",\"daily_confirmed\"]]\n",
    "    spacial_temp_group.columns = [\"orgfips\", \"mean_neighbor_daily_confirmed\"]\n",
    "    spacial_temp_group[\"date\"] = date_\n",
    "    spacial_df = spacial_df.append(spacial_temp_group,ignore_index = True)\n",
    "\n",
    "spacial_df[\"mean_neightbor_new_cases\"] = spacial_df.groupby(by = \"orgfips\")[\"mean_neighbor_daily_confirmed\"].diff()\n",
    "\n",
    "    \n",
    "print(\"Neighbor counties with daily cases: \", spacial_df.shape)\n",
    "spacial_df.head(2)"
   ]
  },
  {
   "cell_type": "code",
   "execution_count": 32,
   "metadata": {},
   "outputs": [
    {
     "data": {
      "text/plain": [
       "array([183])"
      ]
     },
     "execution_count": 32,
     "metadata": {},
     "output_type": "execute_result"
    }
   ],
   "source": [
    "spacial_not_na = spacial_df.dropna()\n",
    "spacial_not_na.groupby(\"orgfips\").count()[\"date\"].unique()"
   ]
  },
  {
   "cell_type": "code",
   "execution_count": 33,
   "metadata": {
    "colab": {
     "base_uri": "https://localhost:8080/",
     "height": 121
    },
    "executionInfo": {
     "elapsed": 956,
     "status": "ok",
     "timestamp": 1607599518368,
     "user": {
      "displayName": "Xiaohan Yang",
      "photoUrl": "https://lh3.googleusercontent.com/a-/AOh14GguWWTgPWrMaE1bxrDp59B2xhJB87gqv-3t4fMe=s64",
      "userId": "08200801705471466011"
     },
     "user_tz": -480
    },
    "id": "6WAtL3PxtIQy",
    "outputId": "7003cceb-f793-4d90-b591-b093664d56af"
   },
   "outputs": [
    {
     "name": "stdout",
     "output_type": "stream",
     "text": [
      "Neighbor counties without nans:  (572607, 5)\n"
     ]
    },
    {
     "name": "stderr",
     "output_type": "stream",
     "text": [
      "/Users/mac/opt/anaconda3/envs/cs109a/lib/python3.7/site-packages/ipykernel_launcher.py:1: SettingWithCopyWarning: \n",
      "A value is trying to be set on a copy of a slice from a DataFrame.\n",
      "Try using .loc[row_indexer,col_indexer] = value instead\n",
      "\n",
      "See the caveats in the documentation: https://pandas.pydata.org/pandas-docs/stable/user_guide/indexing.html#returning-a-view-versus-a-copy\n",
      "  \"\"\"Entry point for launching an IPython kernel.\n"
     ]
    },
    {
     "data": {
      "text/html": [
       "<div>\n",
       "<style scoped>\n",
       "    .dataframe tbody tr th:only-of-type {\n",
       "        vertical-align: middle;\n",
       "    }\n",
       "\n",
       "    .dataframe tbody tr th {\n",
       "        vertical-align: top;\n",
       "    }\n",
       "\n",
       "    .dataframe thead th {\n",
       "        text-align: right;\n",
       "    }\n",
       "</style>\n",
       "<table border=\"1\" class=\"dataframe\">\n",
       "  <thead>\n",
       "    <tr style=\"text-align: right;\">\n",
       "      <th></th>\n",
       "      <th>orgfips</th>\n",
       "      <th>mean_neighbor_daily_confirmed</th>\n",
       "      <th>date</th>\n",
       "      <th>mean_neightbor_new_cases</th>\n",
       "      <th>neighbor_log_new_cases</th>\n",
       "    </tr>\n",
       "  </thead>\n",
       "  <tbody>\n",
       "    <tr>\n",
       "      <th>3129</th>\n",
       "      <td>01001</td>\n",
       "      <td>65.333333</td>\n",
       "      <td>2020-05-02</td>\n",
       "      <td>4.666667</td>\n",
       "      <td>1.734601</td>\n",
       "    </tr>\n",
       "    <tr>\n",
       "      <th>3130</th>\n",
       "      <td>01003</td>\n",
       "      <td>304.666667</td>\n",
       "      <td>2020-05-02</td>\n",
       "      <td>14.333333</td>\n",
       "      <td>2.730029</td>\n",
       "    </tr>\n",
       "  </tbody>\n",
       "</table>\n",
       "</div>"
      ],
      "text/plain": [
       "     orgfips  mean_neighbor_daily_confirmed        date  \\\n",
       "3129   01001                      65.333333  2020-05-02   \n",
       "3130   01003                     304.666667  2020-05-02   \n",
       "\n",
       "      mean_neightbor_new_cases  neighbor_log_new_cases  \n",
       "3129                  4.666667                1.734601  \n",
       "3130                 14.333333                2.730029  "
      ]
     },
     "execution_count": 33,
     "metadata": {},
     "output_type": "execute_result"
    }
   ],
   "source": [
    "spacial_not_na[\"neighbor_log_new_cases\"] =  np.log(spacial_not_na[\"mean_neightbor_new_cases\"] + 1)\n",
    "print(\"Neighbor counties without nans: \", spacial_not_na.shape)\n",
    "spacial_not_na.head(2)"
   ]
  },
  {
   "cell_type": "code",
   "execution_count": 34,
   "metadata": {
    "colab": {
     "base_uri": "https://localhost:8080/"
    },
    "executionInfo": {
     "elapsed": 1567,
     "status": "ok",
     "timestamp": 1607599603364,
     "user": {
      "displayName": "Xiaohan Yang",
      "photoUrl": "https://lh3.googleusercontent.com/a-/AOh14GguWWTgPWrMaE1bxrDp59B2xhJB87gqv-3t4fMe=s64",
      "userId": "08200801705471466011"
     },
     "user_tz": -480
    },
    "id": "mh8E-hUadPYT",
    "outputId": "ef5b327c-e7e2-4ddb-92c3-d5c5e952889f"
   },
   "outputs": [],
   "source": [
    "temporal = filled_cases_sd.merge(spacial_not_na, left_on = [\"fip\",\"date\"], right_on = [\"orgfips\",\"date\"], how = \"inner\")\n",
    "\n",
    "# county_state_fip.to_csv(\"/content/drive/MyDrive/209 Project/data/county_state_fip.csv\", index = False)\n"
   ]
  },
  {
   "cell_type": "code",
   "execution_count": 35,
   "metadata": {
    "colab": {
     "base_uri": "https://localhost:8080/"
    },
    "executionInfo": {
     "elapsed": 1484,
     "status": "ok",
     "timestamp": 1607599607351,
     "user": {
      "displayName": "Xiaohan Yang",
      "photoUrl": "https://lh3.googleusercontent.com/a-/AOh14GguWWTgPWrMaE1bxrDp59B2xhJB87gqv-3t4fMe=s64",
      "userId": "08200801705471466011"
     },
     "user_tz": -480
    },
    "id": "CcJuYkNfZqOj",
    "outputId": "62171429-ad81-4d9b-be6a-ad085f0e4170"
   },
   "outputs": [
    {
     "data": {
      "text/plain": [
       "(496479, 15)"
      ]
     },
     "execution_count": 35,
     "metadata": {},
     "output_type": "execute_result"
    }
   ],
   "source": [
    "temporal = temporal.drop(columns = ['orgfips',\"weekday\"]) # 'County Name', 'State'\n",
    "temporal = temporal.dropna()\n",
    "temporal.shape"
   ]
  },
  {
   "cell_type": "code",
   "execution_count": 37,
   "metadata": {},
   "outputs": [
    {
     "name": "stdout",
     "output_type": "stream",
     "text": [
      "We have 2713 counties now.\n"
     ]
    }
   ],
   "source": [
    "fips = temporal[\"fip\"].unique()\n",
    "print(\"We have %s counties now.\"%(len(fips)))"
   ]
  },
  {
   "cell_type": "code",
   "execution_count": 38,
   "metadata": {
    "id": "RYF7p1aUdPYU"
   },
   "outputs": [],
   "source": [
    "temporal.to_csv(path+\"data/temporal.csv\", index = False)\n",
    "# temporal.to_csv(\"/content/drive/MyDrive/209 Project/data/temporal.csv\", index = False)"
   ]
  },
  {
   "cell_type": "markdown",
   "metadata": {
    "id": "wifGjSbUdPYU"
   },
   "source": [
    "# Static Data"
   ]
  },
  {
   "cell_type": "markdown",
   "metadata": {},
   "source": [
    "### Load data for hospital bed"
   ]
  },
  {
   "cell_type": "markdown",
   "metadata": {},
   "source": [
    "### import social and economic data for each country"
   ]
  },
  {
   "cell_type": "code",
   "execution_count": 39,
   "metadata": {},
   "outputs": [
    {
     "data": {
      "text/html": [
       "<div>\n",
       "<style scoped>\n",
       "    .dataframe tbody tr th:only-of-type {\n",
       "        vertical-align: middle;\n",
       "    }\n",
       "\n",
       "    .dataframe tbody tr th {\n",
       "        vertical-align: top;\n",
       "    }\n",
       "\n",
       "    .dataframe thead th {\n",
       "        text-align: right;\n",
       "    }\n",
       "</style>\n",
       "<table border=\"1\" class=\"dataframe\">\n",
       "  <thead>\n",
       "    <tr style=\"text-align: right;\">\n",
       "      <th></th>\n",
       "      <th>FIPS</th>\n",
       "      <th>state</th>\n",
       "      <th>county_name</th>\n",
       "      <th>NCHS_urbanization</th>\n",
       "      <th>total_population</th>\n",
       "      <th>num_beds</th>\n",
       "      <th>confirmed</th>\n",
       "      <th>deaths</th>\n",
       "      <th>beds_per_1000</th>\n",
       "      <th>confirmed_per_1000</th>\n",
       "      <th>...</th>\n",
       "      <th>deaths_quartile</th>\n",
       "      <th>2018_rank_in_state_per_capita_income</th>\n",
       "      <th>2016_per_capita_income</th>\n",
       "      <th>2017_per_capita_income</th>\n",
       "      <th>2017_per_capita_income_percent_change</th>\n",
       "      <th>2018_per_capita_income_percent_change</th>\n",
       "      <th>rank_in_state_2018_per_capita_income_percent_change</th>\n",
       "      <th>confirmed_per_100000</th>\n",
       "      <th>deaths_per_100000</th>\n",
       "      <th>fip</th>\n",
       "    </tr>\n",
       "  </thead>\n",
       "  <tbody>\n",
       "    <tr>\n",
       "      <th>0</th>\n",
       "      <td>2020</td>\n",
       "      <td>Alaska</td>\n",
       "      <td>Anchorage</td>\n",
       "      <td>Medium metro</td>\n",
       "      <td>296112</td>\n",
       "      <td>753.0</td>\n",
       "      <td>3297</td>\n",
       "      <td>25</td>\n",
       "      <td>2.542957</td>\n",
       "      <td>11.134301</td>\n",
       "      <td>...</td>\n",
       "      <td>1</td>\n",
       "      <td>10</td>\n",
       "      <td>62172</td>\n",
       "      <td>63173</td>\n",
       "      <td>1.6</td>\n",
       "      <td>5.3</td>\n",
       "      <td>12</td>\n",
       "      <td>1113.43</td>\n",
       "      <td>8.44</td>\n",
       "      <td>02020</td>\n",
       "    </tr>\n",
       "    <tr>\n",
       "      <th>1</th>\n",
       "      <td>2100</td>\n",
       "      <td>Alaska</td>\n",
       "      <td>Haines</td>\n",
       "      <td>Non-core</td>\n",
       "      <td>2518</td>\n",
       "      <td>57.0</td>\n",
       "      <td>4</td>\n",
       "      <td>0</td>\n",
       "      <td>22.637014</td>\n",
       "      <td>1.588562</td>\n",
       "      <td>...</td>\n",
       "      <td>0</td>\n",
       "      <td>9</td>\n",
       "      <td>57423</td>\n",
       "      <td>62478</td>\n",
       "      <td>8.8</td>\n",
       "      <td>7.3</td>\n",
       "      <td>3</td>\n",
       "      <td>158.86</td>\n",
       "      <td>0.00</td>\n",
       "      <td>02100</td>\n",
       "    </tr>\n",
       "    <tr>\n",
       "      <th>2</th>\n",
       "      <td>2122</td>\n",
       "      <td>Alaska</td>\n",
       "      <td>Kenai Peninsula</td>\n",
       "      <td>Non-core</td>\n",
       "      <td>58220</td>\n",
       "      <td>109.0</td>\n",
       "      <td>422</td>\n",
       "      <td>2</td>\n",
       "      <td>1.872209</td>\n",
       "      <td>7.248368</td>\n",
       "      <td>...</td>\n",
       "      <td>0</td>\n",
       "      <td>21</td>\n",
       "      <td>49544</td>\n",
       "      <td>49697</td>\n",
       "      <td>0.3</td>\n",
       "      <td>4.7</td>\n",
       "      <td>15</td>\n",
       "      <td>724.84</td>\n",
       "      <td>3.44</td>\n",
       "      <td>02122</td>\n",
       "    </tr>\n",
       "    <tr>\n",
       "      <th>3</th>\n",
       "      <td>2090</td>\n",
       "      <td>Alaska</td>\n",
       "      <td>Fairbanks North Star</td>\n",
       "      <td>Small metro</td>\n",
       "      <td>99653</td>\n",
       "      <td>212.0</td>\n",
       "      <td>755</td>\n",
       "      <td>9</td>\n",
       "      <td>2.127382</td>\n",
       "      <td>7.576290</td>\n",
       "      <td>...</td>\n",
       "      <td>1</td>\n",
       "      <td>19</td>\n",
       "      <td>52803</td>\n",
       "      <td>53974</td>\n",
       "      <td>2.2</td>\n",
       "      <td>4.9</td>\n",
       "      <td>14</td>\n",
       "      <td>757.63</td>\n",
       "      <td>9.03</td>\n",
       "      <td>02090</td>\n",
       "    </tr>\n",
       "    <tr>\n",
       "      <th>4</th>\n",
       "      <td>2170</td>\n",
       "      <td>Alaska</td>\n",
       "      <td>Matanuska-Susitna</td>\n",
       "      <td>Medium metro</td>\n",
       "      <td>103464</td>\n",
       "      <td>109.0</td>\n",
       "      <td>511</td>\n",
       "      <td>2</td>\n",
       "      <td>1.053507</td>\n",
       "      <td>4.938916</td>\n",
       "      <td>...</td>\n",
       "      <td>0</td>\n",
       "      <td>26</td>\n",
       "      <td>44520</td>\n",
       "      <td>44043</td>\n",
       "      <td>-1.1</td>\n",
       "      <td>4.2</td>\n",
       "      <td>18</td>\n",
       "      <td>493.89</td>\n",
       "      <td>1.93</td>\n",
       "      <td>02170</td>\n",
       "    </tr>\n",
       "  </tbody>\n",
       "</table>\n",
       "<p>5 rows × 31 columns</p>\n",
       "</div>"
      ],
      "text/plain": [
       "   FIPS   state           county_name NCHS_urbanization  total_population  \\\n",
       "0  2020  Alaska             Anchorage      Medium metro            296112   \n",
       "1  2100  Alaska                Haines          Non-core              2518   \n",
       "2  2122  Alaska       Kenai Peninsula          Non-core             58220   \n",
       "3  2090  Alaska  Fairbanks North Star       Small metro             99653   \n",
       "4  2170  Alaska     Matanuska-Susitna      Medium metro            103464   \n",
       "\n",
       "   num_beds  confirmed  deaths  beds_per_1000  confirmed_per_1000  ...  \\\n",
       "0     753.0       3297      25       2.542957           11.134301  ...   \n",
       "1      57.0          4       0      22.637014            1.588562  ...   \n",
       "2     109.0        422       2       1.872209            7.248368  ...   \n",
       "3     212.0        755       9       2.127382            7.576290  ...   \n",
       "4     109.0        511       2       1.053507            4.938916  ...   \n",
       "\n",
       "   deaths_quartile  2018_rank_in_state_per_capita_income  \\\n",
       "0                1                                    10   \n",
       "1                0                                     9   \n",
       "2                0                                    21   \n",
       "3                1                                    19   \n",
       "4                0                                    26   \n",
       "\n",
       "   2016_per_capita_income  2017_per_capita_income  \\\n",
       "0                   62172                   63173   \n",
       "1                   57423                   62478   \n",
       "2                   49544                   49697   \n",
       "3                   52803                   53974   \n",
       "4                   44520                   44043   \n",
       "\n",
       "   2017_per_capita_income_percent_change  \\\n",
       "0                                    1.6   \n",
       "1                                    8.8   \n",
       "2                                    0.3   \n",
       "3                                    2.2   \n",
       "4                                   -1.1   \n",
       "\n",
       "   2018_per_capita_income_percent_change  \\\n",
       "0                                    5.3   \n",
       "1                                    7.3   \n",
       "2                                    4.7   \n",
       "3                                    4.9   \n",
       "4                                    4.2   \n",
       "\n",
       "   rank_in_state_2018_per_capita_income_percent_change  confirmed_per_100000  \\\n",
       "0                                                 12                 1113.43   \n",
       "1                                                  3                  158.86   \n",
       "2                                                 15                  724.84   \n",
       "3                                                 14                  757.63   \n",
       "4                                                 18                  493.89   \n",
       "\n",
       "   deaths_per_100000    fip  \n",
       "0               8.44  02020  \n",
       "1               0.00  02100  \n",
       "2               3.44  02122  \n",
       "3               9.03  02090  \n",
       "4               1.93  02170  \n",
       "\n",
       "[5 rows x 31 columns]"
      ]
     },
     "execution_count": 39,
     "metadata": {},
     "output_type": "execute_result"
    }
   ],
   "source": [
    "social_eco = pd.read_csv(path+'data/social_economics/main_all_counties.csv')\n",
    "social_eco['fip'] = social_eco['FIPS'].apply(lambda x: str(int(x)).zfill(5))\n",
    "social_eco.head()"
   ]
  },
  {
   "cell_type": "code",
   "execution_count": 40,
   "metadata": {},
   "outputs": [
    {
     "name": "stdout",
     "output_type": "stream",
     "text": [
      "Selected social-economic features shape: (3114, 8)\n"
     ]
    },
    {
     "data": {
      "text/html": [
       "<div>\n",
       "<style scoped>\n",
       "    .dataframe tbody tr th:only-of-type {\n",
       "        vertical-align: middle;\n",
       "    }\n",
       "\n",
       "    .dataframe tbody tr th {\n",
       "        vertical-align: top;\n",
       "    }\n",
       "\n",
       "    .dataframe thead th {\n",
       "        text-align: right;\n",
       "    }\n",
       "</style>\n",
       "<table border=\"1\" class=\"dataframe\">\n",
       "  <thead>\n",
       "    <tr style=\"text-align: right;\">\n",
       "      <th></th>\n",
       "      <th>over_65_percent</th>\n",
       "      <th>no_diploma_percent</th>\n",
       "      <th>no_insurance_percent</th>\n",
       "      <th>unemployed_percent</th>\n",
       "      <th>poverty_percent</th>\n",
       "      <th>over_65_percent</th>\n",
       "      <th>beds_per_1000</th>\n",
       "      <th>fip</th>\n",
       "    </tr>\n",
       "  </thead>\n",
       "  <tbody>\n",
       "    <tr>\n",
       "      <th>0</th>\n",
       "      <td>10.0</td>\n",
       "      <td>7.4656</td>\n",
       "      <td>16.7</td>\n",
       "      <td>5.8</td>\n",
       "      <td>7.2</td>\n",
       "      <td>10.0</td>\n",
       "      <td>2.542957</td>\n",
       "      <td>02020</td>\n",
       "    </tr>\n",
       "    <tr>\n",
       "      <th>1</th>\n",
       "      <td>22.1</td>\n",
       "      <td>4.2644</td>\n",
       "      <td>24.5</td>\n",
       "      <td>7.4</td>\n",
       "      <td>10.3</td>\n",
       "      <td>22.1</td>\n",
       "      <td>22.637014</td>\n",
       "      <td>02100</td>\n",
       "    </tr>\n",
       "  </tbody>\n",
       "</table>\n",
       "</div>"
      ],
      "text/plain": [
       "   over_65_percent  no_diploma_percent  no_insurance_percent  \\\n",
       "0             10.0              7.4656                  16.7   \n",
       "1             22.1              4.2644                  24.5   \n",
       "\n",
       "   unemployed_percent  poverty_percent  over_65_percent  beds_per_1000    fip  \n",
       "0                 5.8              7.2             10.0       2.542957  02020  \n",
       "1                 7.4             10.3             22.1      22.637014  02100  "
      ]
     },
     "execution_count": 40,
     "metadata": {},
     "output_type": "execute_result"
    }
   ],
   "source": [
    "useful_features = [\"over_65_percent\",\"no_diploma_percent\",\"no_insurance_percent\",\n",
    "                   \"unemployed_percent\",\"poverty_percent\", 'over_65_percent','beds_per_1000']\n",
    "social_eco_selected = social_eco[useful_features+[\"fip\"]]\n",
    "print(\"Selected social-economic features shape:\", social_eco_selected.shape)\n",
    "social_eco_selected.head(2)"
   ]
  },
  {
   "cell_type": "code",
   "execution_count": 41,
   "metadata": {},
   "outputs": [
    {
     "name": "stdout",
     "output_type": "stream",
     "text": [
      "Selected social-economic features of specific counties shape: (2682, 8)\n"
     ]
    },
    {
     "data": {
      "text/html": [
       "<div>\n",
       "<style scoped>\n",
       "    .dataframe tbody tr th:only-of-type {\n",
       "        vertical-align: middle;\n",
       "    }\n",
       "\n",
       "    .dataframe tbody tr th {\n",
       "        vertical-align: top;\n",
       "    }\n",
       "\n",
       "    .dataframe thead th {\n",
       "        text-align: right;\n",
       "    }\n",
       "</style>\n",
       "<table border=\"1\" class=\"dataframe\">\n",
       "  <thead>\n",
       "    <tr style=\"text-align: right;\">\n",
       "      <th></th>\n",
       "      <th>over_65_percent</th>\n",
       "      <th>no_diploma_percent</th>\n",
       "      <th>no_insurance_percent</th>\n",
       "      <th>unemployed_percent</th>\n",
       "      <th>poverty_percent</th>\n",
       "      <th>over_65_percent</th>\n",
       "      <th>beds_per_1000</th>\n",
       "      <th>fip</th>\n",
       "    </tr>\n",
       "  </thead>\n",
       "  <tbody>\n",
       "    <tr>\n",
       "      <th>0</th>\n",
       "      <td>10.0</td>\n",
       "      <td>7.4656</td>\n",
       "      <td>16.7</td>\n",
       "      <td>5.8</td>\n",
       "      <td>7.2</td>\n",
       "      <td>10.0</td>\n",
       "      <td>2.542957</td>\n",
       "      <td>02020</td>\n",
       "    </tr>\n",
       "    <tr>\n",
       "      <th>1</th>\n",
       "      <td>22.1</td>\n",
       "      <td>4.2644</td>\n",
       "      <td>24.5</td>\n",
       "      <td>7.4</td>\n",
       "      <td>10.3</td>\n",
       "      <td>22.1</td>\n",
       "      <td>22.637014</td>\n",
       "      <td>02100</td>\n",
       "    </tr>\n",
       "  </tbody>\n",
       "</table>\n",
       "</div>"
      ],
      "text/plain": [
       "   over_65_percent  no_diploma_percent  no_insurance_percent  \\\n",
       "0             10.0              7.4656                  16.7   \n",
       "1             22.1              4.2644                  24.5   \n",
       "\n",
       "   unemployed_percent  poverty_percent  over_65_percent  beds_per_1000    fip  \n",
       "0                 5.8              7.2             10.0       2.542957  02020  \n",
       "1                 7.4             10.3             22.1      22.637014  02100  "
      ]
     },
     "execution_count": 41,
     "metadata": {},
     "output_type": "execute_result"
    }
   ],
   "source": [
    "social_eco_clean = social_eco_selected[social_eco_selected[\"fip\"].isin(fips)]\n",
    "social_eco_clean = social_eco_clean.dropna()\n",
    "print(\"Selected social-economic features of specific counties shape:\",social_eco_clean.shape)\n",
    "social_eco_clean.head(2)"
   ]
  },
  {
   "cell_type": "code",
   "execution_count": 42,
   "metadata": {},
   "outputs": [
    {
     "name": "stdout",
     "output_type": "stream",
     "text": [
      "(2682, 8)\n"
     ]
    },
    {
     "data": {
      "text/html": [
       "<div>\n",
       "<style scoped>\n",
       "    .dataframe tbody tr th:only-of-type {\n",
       "        vertical-align: middle;\n",
       "    }\n",
       "\n",
       "    .dataframe tbody tr th {\n",
       "        vertical-align: top;\n",
       "    }\n",
       "\n",
       "    .dataframe thead th {\n",
       "        text-align: right;\n",
       "    }\n",
       "</style>\n",
       "<table border=\"1\" class=\"dataframe\">\n",
       "  <thead>\n",
       "    <tr style=\"text-align: right;\">\n",
       "      <th></th>\n",
       "      <th>over_65_percent</th>\n",
       "      <th>no_diploma_percent</th>\n",
       "      <th>no_insurance_percent</th>\n",
       "      <th>unemployed_percent</th>\n",
       "      <th>poverty_percent</th>\n",
       "      <th>over_65_percent</th>\n",
       "      <th>beds_per_1000</th>\n",
       "      <th>fip</th>\n",
       "    </tr>\n",
       "  </thead>\n",
       "  <tbody>\n",
       "    <tr>\n",
       "      <th>0</th>\n",
       "      <td>-1.964415</td>\n",
       "      <td>-1.107921</td>\n",
       "      <td>0.445628</td>\n",
       "      <td>0.926222</td>\n",
       "      <td>-1.388236</td>\n",
       "      <td>-1.964415</td>\n",
       "      <td>0.296673</td>\n",
       "      <td>02020</td>\n",
       "    </tr>\n",
       "    <tr>\n",
       "      <th>1</th>\n",
       "      <td>0.606299</td>\n",
       "      <td>-1.581386</td>\n",
       "      <td>1.937229</td>\n",
       "      <td>1.915372</td>\n",
       "      <td>-0.890546</td>\n",
       "      <td>0.606299</td>\n",
       "      <td>5.594353</td>\n",
       "      <td>02100</td>\n",
       "    </tr>\n",
       "  </tbody>\n",
       "</table>\n",
       "</div>"
      ],
      "text/plain": [
       "   over_65_percent  no_diploma_percent  no_insurance_percent  \\\n",
       "0        -1.964415           -1.107921              0.445628   \n",
       "1         0.606299           -1.581386              1.937229   \n",
       "\n",
       "   unemployed_percent  poverty_percent  over_65_percent  beds_per_1000    fip  \n",
       "0            0.926222        -1.388236        -1.964415       0.296673  02020  \n",
       "1            1.915372        -0.890546         0.606299       5.594353  02100  "
      ]
     },
     "execution_count": 42,
     "metadata": {},
     "output_type": "execute_result"
    }
   ],
   "source": [
    "static_scalars = {}\n",
    "static = social_eco_clean.copy()\n",
    "for col in useful_features:\n",
    "    scaler = StandardScaler().fit(static[[col]])\n",
    "    static_scalars[col] = scaler\n",
    "    static[col] = scaler.transform(static[[col]])\n",
    "print(static.shape)\n",
    "static.head(2)"
   ]
  },
  {
   "cell_type": "code",
   "execution_count": 43,
   "metadata": {},
   "outputs": [
    {
     "name": "stdout",
     "output_type": "stream",
     "text": [
      "We have 2682 counties now.\n"
     ]
    },
    {
     "data": {
      "text/plain": [
       "(490806, 22)"
      ]
     },
     "execution_count": 43,
     "metadata": {},
     "output_type": "execute_result"
    }
   ],
   "source": [
    "temp_static = temporal.merge(static, on = \"fip\", how = \"inner\")\n",
    "fips = temp_static[\"fip\"].unique()\n",
    "print(\"We have %s counties now.\"%len(fips))\n",
    "temp_static.shape"
   ]
  },
  {
   "cell_type": "code",
   "execution_count": 44,
   "metadata": {},
   "outputs": [
    {
     "name": "stdout",
     "output_type": "stream",
     "text": [
      "Temporal info with neighbor counties (2682, 3)\n"
     ]
    }
   ],
   "source": [
    "county_state_fip = temporal[temporal[\"fip\"].isin(fips)][[\"fip\",\"County Name\", \"State\"]].drop_duplicates().reset_index(drop = True)\n",
    "print(\"Temporal info with neighbor counties\", county_state_fip.shape)\n",
    "county_state_fip.to_csv(path+\"data/county_state_fip.csv\", index = False)\n"
   ]
  },
  {
   "cell_type": "code",
   "execution_count": null,
   "metadata": {},
   "outputs": [],
   "source": [
    "static.to_csv(path+\"data/static.csv\", index = False)\n",
    "temp_static.to_csv(path+\"data/temp_static.csv\", index = False)\n"
   ]
  },
  {
   "cell_type": "code",
   "execution_count": null,
   "metadata": {},
   "outputs": [],
   "source": []
  }
 ],
 "metadata": {
  "colab": {
   "collapsed_sections": [],
   "name": "data_preprocessing.ipynb",
   "provenance": [
    {
     "file_id": "1xHq1QkjrvG4qgYxihEpQbBOMmnmboZ6W",
     "timestamp": 1607415965074
    }
   ],
   "toc_visible": true
  },
  "deepnote_execution_queue": [],
  "deepnote_notebook_id": "e95794eb-fcaa-495f-8219-862b6cd9100f",
  "kernelspec": {
   "display_name": "Python 3",
   "language": "python",
   "name": "python3"
  },
  "language_info": {
   "codemirror_mode": {
    "name": "ipython",
    "version": 3
   },
   "file_extension": ".py",
   "mimetype": "text/x-python",
   "name": "python",
   "nbconvert_exporter": "python",
   "pygments_lexer": "ipython3",
   "version": "3.7.8"
  }
 },
 "nbformat": 4,
 "nbformat_minor": 1
}
