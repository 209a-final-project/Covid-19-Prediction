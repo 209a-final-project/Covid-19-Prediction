{
 "cells": [
  {
   "cell_type": "code",
   "execution_count": 1,
   "metadata": {
    "cell_id": "00000-357eeeff-ec68-4dce-bc01-619cd2007341",
    "deepnote_cell_type": "code",
    "execution_millis": 3104,
    "execution_start": 1607096571380,
    "output_cleared": false,
    "source_hash": "a6a55d27",
    "tags": []
   },
   "outputs": [],
   "source": [
    "#!pip install --ignore-installed --upgrade tensorflow\n",
    "#!pip install keras \n",
    "#!pip install \n",
    "#!pip install cond-rnn"
   ]
  },
  {
   "cell_type": "code",
   "execution_count": 2,
   "metadata": {
    "cell_id": "00000-99b626ee-6ca0-4ca2-9ac4-250f0cecfe39",
    "deepnote_cell_type": "code",
    "execution_millis": 12,
    "execution_start": 1607096577845,
    "output_cleared": false,
    "source_hash": "43cf1c68",
    "tags": []
   },
   "outputs": [],
   "source": [
    "# Start writing code here...\n",
    "import numpy as np\n",
    "import pandas as pd\n",
    "import matplotlib.pyplot as plt  \n",
    "from sklearn.preprocessing import StandardScaler\n",
    "from sklearn.linear_model import Ridge\n",
    "from sklearn.linear_model import LinearRegression\n",
    "import tensorflow as tf\n",
    "from sklearn.preprocessing import MinMaxScaler\n",
    "from sklearn.impute import KNNImputer\n",
    "\n",
    "from tensorflow.keras.preprocessing.sequence import TimeseriesGenerator\n",
    "from tensorflow.keras.callbacks import ModelCheckpoint, ReduceLROnPlateau, EarlyStopping\n",
    "from sklearn.model_selection import train_test_split\n",
    "from datetime import datetime\n",
    "from datetime import date\n",
    "from tqdm import tqdm\n",
    "\n",
    "from tensorflow.keras.models import Model\n",
    "from tensorflow.keras.layers import LSTM, Dense, Input\n",
    "from cond_rnn import ConditionalRNN\n",
    "from tensorflow.keras import backend as K"
   ]
  },
  {
   "cell_type": "code",
   "execution_count": 3,
   "metadata": {
    "cell_id": "00001-96b44b80-45cb-4f02-9627-8810ad9fa9fd",
    "deepnote_cell_type": "code",
    "execution_millis": 3801,
    "execution_start": 1607091976474,
    "output_cleared": false,
    "source_hash": "f31841c1",
    "tags": []
   },
   "outputs": [
    {
     "name": "stdout",
     "output_type": "stream",
     "text": [
      "(968330, 25)\n"
     ]
    },
    {
     "data": {
      "text/html": [
       "<div>\n",
       "<style scoped>\n",
       "    .dataframe tbody tr th:only-of-type {\n",
       "        vertical-align: middle;\n",
       "    }\n",
       "\n",
       "    .dataframe tbody tr th {\n",
       "        vertical-align: top;\n",
       "    }\n",
       "\n",
       "    .dataframe thead th {\n",
       "        text-align: right;\n",
       "    }\n",
       "</style>\n",
       "<table border=\"1\" class=\"dataframe\">\n",
       "  <thead>\n",
       "    <tr style=\"text-align: right;\">\n",
       "      <th></th>\n",
       "      <th>county</th>\n",
       "      <th>county_fips</th>\n",
       "      <th>date</th>\n",
       "      <th>level</th>\n",
       "      <th>pop_not_stay_at_home</th>\n",
       "      <th>pop_stay_at_home</th>\n",
       "      <th>state_code</th>\n",
       "      <th>state_fips</th>\n",
       "      <th>trips</th>\n",
       "      <th>trips_1</th>\n",
       "      <th>...</th>\n",
       "      <th>trips_3_5</th>\n",
       "      <th>trips_500</th>\n",
       "      <th>trips_50_100</th>\n",
       "      <th>trips_5_10</th>\n",
       "      <th>only_date</th>\n",
       "      <th>weekday</th>\n",
       "      <th>pop</th>\n",
       "      <th>avg_stay_at_home_ratio</th>\n",
       "      <th>MA_7</th>\n",
       "      <th>fip</th>\n",
       "    </tr>\n",
       "  </thead>\n",
       "  <tbody>\n",
       "    <tr>\n",
       "      <th>0</th>\n",
       "      <td>Autauga County</td>\n",
       "      <td>1001.0</td>\n",
       "      <td>2020-01-01</td>\n",
       "      <td>County</td>\n",
       "      <td>44621.0</td>\n",
       "      <td>10980.0</td>\n",
       "      <td>AL</td>\n",
       "      <td>1.0</td>\n",
       "      <td>148091.0</td>\n",
       "      <td>33055.0</td>\n",
       "      <td>...</td>\n",
       "      <td>20013.0</td>\n",
       "      <td>63.0</td>\n",
       "      <td>2515.0</td>\n",
       "      <td>20833.0</td>\n",
       "      <td>01/01</td>\n",
       "      <td>2</td>\n",
       "      <td>55601.0</td>\n",
       "      <td>0.197478</td>\n",
       "      <td>0.197478</td>\n",
       "      <td>01001</td>\n",
       "    </tr>\n",
       "    <tr>\n",
       "      <th>1</th>\n",
       "      <td>Baldwin County</td>\n",
       "      <td>1003.0</td>\n",
       "      <td>2020-01-01</td>\n",
       "      <td>County</td>\n",
       "      <td>169387.0</td>\n",
       "      <td>48635.0</td>\n",
       "      <td>AL</td>\n",
       "      <td>1.0</td>\n",
       "      <td>497271.0</td>\n",
       "      <td>86810.0</td>\n",
       "      <td>...</td>\n",
       "      <td>68435.0</td>\n",
       "      <td>510.0</td>\n",
       "      <td>7488.0</td>\n",
       "      <td>88234.0</td>\n",
       "      <td>01/01</td>\n",
       "      <td>2</td>\n",
       "      <td>218022.0</td>\n",
       "      <td>0.223074</td>\n",
       "      <td>0.223074</td>\n",
       "      <td>01003</td>\n",
       "    </tr>\n",
       "    <tr>\n",
       "      <th>2</th>\n",
       "      <td>Barbour County</td>\n",
       "      <td>1005.0</td>\n",
       "      <td>2020-01-01</td>\n",
       "      <td>County</td>\n",
       "      <td>20103.0</td>\n",
       "      <td>4778.0</td>\n",
       "      <td>AL</td>\n",
       "      <td>1.0</td>\n",
       "      <td>63538.0</td>\n",
       "      <td>12689.0</td>\n",
       "      <td>...</td>\n",
       "      <td>7037.0</td>\n",
       "      <td>30.0</td>\n",
       "      <td>1976.0</td>\n",
       "      <td>12183.0</td>\n",
       "      <td>01/01</td>\n",
       "      <td>2</td>\n",
       "      <td>24881.0</td>\n",
       "      <td>0.192034</td>\n",
       "      <td>0.192034</td>\n",
       "      <td>01005</td>\n",
       "    </tr>\n",
       "  </tbody>\n",
       "</table>\n",
       "<p>3 rows × 25 columns</p>\n",
       "</div>"
      ],
      "text/plain": [
       "           county  county_fips        date   level  pop_not_stay_at_home  \\\n",
       "0  Autauga County       1001.0  2020-01-01  County               44621.0   \n",
       "1  Baldwin County       1003.0  2020-01-01  County              169387.0   \n",
       "2  Barbour County       1005.0  2020-01-01  County               20103.0   \n",
       "\n",
       "   pop_stay_at_home state_code  state_fips     trips  trips_1  ...  trips_3_5  \\\n",
       "0           10980.0         AL         1.0  148091.0  33055.0  ...    20013.0   \n",
       "1           48635.0         AL         1.0  497271.0  86810.0  ...    68435.0   \n",
       "2            4778.0         AL         1.0   63538.0  12689.0  ...     7037.0   \n",
       "\n",
       "   trips_500  trips_50_100  trips_5_10  only_date  weekday       pop  \\\n",
       "0       63.0        2515.0     20833.0      01/01        2   55601.0   \n",
       "1      510.0        7488.0     88234.0      01/01        2  218022.0   \n",
       "2       30.0        1976.0     12183.0      01/01        2   24881.0   \n",
       "\n",
       "   avg_stay_at_home_ratio      MA_7    fip  \n",
       "0                0.197478  0.197478  01001  \n",
       "1                0.223074  0.223074  01003  \n",
       "2                0.192034  0.192034  01005  \n",
       "\n",
       "[3 rows x 25 columns]"
      ]
     },
     "execution_count": 3,
     "metadata": {},
     "output_type": "execute_result"
    }
   ],
   "source": [
    "# Import social distance data\n",
    "\n",
    "sd_data_folder_path = 'data/distance_data/'\n",
    "sd_data = pd.read_csv(sd_data_folder_path+\"county_2020.csv\")\n",
    "sd_data['fip'] = sd_data['county_fips'].apply(lambda x: str(int(x)).zfill(5))\n",
    "\n",
    "print(sd_data.shape)\n",
    "sd_data.head(3)"
   ]
  },
  {
   "cell_type": "code",
   "execution_count": 4,
   "metadata": {
    "cell_id": "00003-57fe60ac-fd12-4b4b-975f-1098512331fc",
    "deepnote_cell_type": "code",
    "execution_millis": 341,
    "execution_start": 1607091983384,
    "output_cleared": false,
    "source_hash": "fdd0fcc4",
    "tags": []
   },
   "outputs": [
    {
     "name": "stdout",
     "output_type": "stream",
     "text": [
      "(968330, 8)\n"
     ]
    },
    {
     "name": "stderr",
     "output_type": "stream",
     "text": [
      "<ipython-input-4-843dfce563db>:15: SettingWithCopyWarning: \n",
      "A value is trying to be set on a copy of a slice from a DataFrame.\n",
      "Try using .loc[row_indexer,col_indexer] = value instead\n",
      "\n",
      "See the caveats in the documentation: https://pandas.pydata.org/pandas-docs/stable/user_guide/indexing.html#returning-a-view-versus-a-copy\n",
      "  sd_agg[\"date\"] = sd_agg[\"date\"].apply(lambda x: datetime.strptime(x, '%Y-%m-%d').date())\n"
     ]
    },
    {
     "data": {
      "text/html": [
       "<div>\n",
       "<style scoped>\n",
       "    .dataframe tbody tr th:only-of-type {\n",
       "        vertical-align: middle;\n",
       "    }\n",
       "\n",
       "    .dataframe tbody tr th {\n",
       "        vertical-align: top;\n",
       "    }\n",
       "\n",
       "    .dataframe thead th {\n",
       "        text-align: right;\n",
       "    }\n",
       "</style>\n",
       "<table border=\"1\" class=\"dataframe\">\n",
       "  <thead>\n",
       "    <tr style=\"text-align: right;\">\n",
       "      <th></th>\n",
       "      <th>date</th>\n",
       "      <th>fip</th>\n",
       "      <th>trip_ratio</th>\n",
       "      <th>short_trip_ratio</th>\n",
       "      <th>med_trip_ratio</th>\n",
       "      <th>long_trip_ratio</th>\n",
       "      <th>weekday</th>\n",
       "      <th>avg_stay_at_home_ratio</th>\n",
       "    </tr>\n",
       "  </thead>\n",
       "  <tbody>\n",
       "    <tr>\n",
       "      <th>0</th>\n",
       "      <td>2020-01-01</td>\n",
       "      <td>01001</td>\n",
       "      <td>2.663459</td>\n",
       "      <td>0.781641</td>\n",
       "      <td>0.233856</td>\n",
       "      <td>0.029468</td>\n",
       "      <td>2</td>\n",
       "      <td>0.197478</td>\n",
       "    </tr>\n",
       "    <tr>\n",
       "      <th>1</th>\n",
       "      <td>2020-01-01</td>\n",
       "      <td>01003</td>\n",
       "      <td>2.280829</td>\n",
       "      <td>0.754568</td>\n",
       "      <td>0.266953</td>\n",
       "      <td>0.029024</td>\n",
       "      <td>2</td>\n",
       "      <td>0.223074</td>\n",
       "    </tr>\n",
       "  </tbody>\n",
       "</table>\n",
       "</div>"
      ],
      "text/plain": [
       "         date    fip  trip_ratio  short_trip_ratio  med_trip_ratio  \\\n",
       "0  2020-01-01  01001    2.663459          0.781641        0.233856   \n",
       "1  2020-01-01  01003    2.280829          0.754568        0.266953   \n",
       "\n",
       "   long_trip_ratio  weekday  avg_stay_at_home_ratio  \n",
       "0         0.029468        2                0.197478  \n",
       "1         0.029024        2                0.223074  "
      ]
     },
     "execution_count": 4,
     "metadata": {},
     "output_type": "execute_result"
    }
   ],
   "source": [
    "# Calculate ratio of different types of trips\n",
    "sd_data[\"trip_ratio\"] = sd_data[\"trips\"]/sd_data[\"pop\"]\n",
    "sd_data[\"short_trips\"] = sd_data[\"trips_1\"] + sd_data[\"trips_1_3\"] + sd_data[\"trips_3_5\"] + sd_data[\"trips_5_10\"]\n",
    "sd_data[\"med_trips\"] = sd_data[\"trips_10_25\"] + sd_data[\"trips_25_50\"] + sd_data[\"trips_25_50\"] \n",
    "sd_data[\"long_trips\"] = sd_data[\"trips_50_100\"] + sd_data[\"trips_100_250\"] + sd_data[\"trips_250_500\"] + sd_data[\"trips_500\"] \n",
    "\n",
    "sd_data[\"short_trip_ratio\"] = sd_data[\"short_trips\"]/sd_data[\"trips\"]\n",
    "sd_data[\"med_trip_ratio\"] = sd_data[\"med_trips\"]/sd_data[\"trips\"]\n",
    "sd_data[\"long_trip_ratio\"] = sd_data[\"long_trips\"]/sd_data[\"trips\"]\n",
    "\n",
    "sd_agg = sd_data[['date', 'fip',  'trip_ratio',\"short_trip_ratio\",\n",
    "                    \"med_trip_ratio\", \"long_trip_ratio\",\n",
    "                    \"weekday\",\"avg_stay_at_home_ratio\",]]\n",
    "\n",
    "sd_agg[\"date\"] = sd_agg[\"date\"].apply(lambda x: datetime.strptime(x, '%Y-%m-%d').date())\n",
    "\n",
    "print(sd_agg.shape)\n",
    "sd_agg.head(2)"
   ]
  },
  {
   "cell_type": "code",
   "execution_count": 5,
   "metadata": {
    "cell_id": "00002-3ae73142-f394-459d-92d0-06429dd19999",
    "deepnote_cell_type": "code",
    "execution_millis": 860,
    "execution_start": 1607091985778,
    "output_cleared": false,
    "source_hash": "726eee46",
    "tags": []
   },
   "outputs": [
    {
     "data": {
      "text/html": [
       "<div>\n",
       "<style scoped>\n",
       "    .dataframe tbody tr th:only-of-type {\n",
       "        vertical-align: middle;\n",
       "    }\n",
       "\n",
       "    .dataframe tbody tr th {\n",
       "        vertical-align: top;\n",
       "    }\n",
       "\n",
       "    .dataframe thead th {\n",
       "        text-align: right;\n",
       "    }\n",
       "</style>\n",
       "<table border=\"1\" class=\"dataframe\">\n",
       "  <thead>\n",
       "    <tr style=\"text-align: right;\">\n",
       "      <th></th>\n",
       "      <th>countyFIPS</th>\n",
       "      <th>County Name</th>\n",
       "      <th>State</th>\n",
       "      <th>stateFIPS</th>\n",
       "      <th>1/22/20</th>\n",
       "      <th>1/23/20</th>\n",
       "      <th>1/24/20</th>\n",
       "      <th>1/25/20</th>\n",
       "      <th>1/26/20</th>\n",
       "      <th>1/27/20</th>\n",
       "      <th>...</th>\n",
       "      <th>11/1/20</th>\n",
       "      <th>11/2/20</th>\n",
       "      <th>11/3/20</th>\n",
       "      <th>11/4/20</th>\n",
       "      <th>11/5/20</th>\n",
       "      <th>11/6/20</th>\n",
       "      <th>11/7/20</th>\n",
       "      <th>11/8/20</th>\n",
       "      <th>11/9/20</th>\n",
       "      <th>fip</th>\n",
       "    </tr>\n",
       "  </thead>\n",
       "  <tbody>\n",
       "    <tr>\n",
       "      <th>1</th>\n",
       "      <td>1001</td>\n",
       "      <td>Autauga County</td>\n",
       "      <td>AL</td>\n",
       "      <td>1</td>\n",
       "      <td>0</td>\n",
       "      <td>0</td>\n",
       "      <td>0</td>\n",
       "      <td>0</td>\n",
       "      <td>0</td>\n",
       "      <td>0</td>\n",
       "      <td>...</td>\n",
       "      <td>2173</td>\n",
       "      <td>2186</td>\n",
       "      <td>2197</td>\n",
       "      <td>2212</td>\n",
       "      <td>2230</td>\n",
       "      <td>2242</td>\n",
       "      <td>2267</td>\n",
       "      <td>2283</td>\n",
       "      <td>2304</td>\n",
       "      <td>01001</td>\n",
       "    </tr>\n",
       "    <tr>\n",
       "      <th>2</th>\n",
       "      <td>1003</td>\n",
       "      <td>Baldwin County</td>\n",
       "      <td>AL</td>\n",
       "      <td>1</td>\n",
       "      <td>0</td>\n",
       "      <td>0</td>\n",
       "      <td>0</td>\n",
       "      <td>0</td>\n",
       "      <td>0</td>\n",
       "      <td>0</td>\n",
       "      <td>...</td>\n",
       "      <td>6966</td>\n",
       "      <td>6985</td>\n",
       "      <td>6995</td>\n",
       "      <td>7061</td>\n",
       "      <td>7097</td>\n",
       "      <td>7134</td>\n",
       "      <td>7188</td>\n",
       "      <td>7226</td>\n",
       "      <td>7263</td>\n",
       "      <td>01003</td>\n",
       "    </tr>\n",
       "  </tbody>\n",
       "</table>\n",
       "<p>2 rows × 298 columns</p>\n",
       "</div>"
      ],
      "text/plain": [
       "   countyFIPS     County Name State  stateFIPS  1/22/20  1/23/20  1/24/20  \\\n",
       "1        1001  Autauga County    AL          1        0        0        0   \n",
       "2        1003  Baldwin County    AL          1        0        0        0   \n",
       "\n",
       "   1/25/20  1/26/20  1/27/20  ...  11/1/20  11/2/20  11/3/20  11/4/20  \\\n",
       "1        0        0        0  ...     2173     2186     2197     2212   \n",
       "2        0        0        0  ...     6966     6985     6995     7061   \n",
       "\n",
       "   11/5/20  11/6/20  11/7/20  11/8/20  11/9/20    fip  \n",
       "1     2230     2242     2267     2283     2304  01001  \n",
       "2     7097     7134     7188     7226     7263  01003  \n",
       "\n",
       "[2 rows x 298 columns]"
      ]
     },
     "execution_count": 5,
     "metadata": {},
     "output_type": "execute_result"
    }
   ],
   "source": [
    "# load daily confirmed cases raw data\n",
    "daily_cases = pd.read_csv('data/covid_cases/covid_confirmed_usafacts_new.csv')\n",
    "daily_cases['fip'] = daily_cases['countyFIPS'].apply(lambda x: str(x).zfill(5))\n",
    "daily_cases = daily_cases[1:]\n",
    "daily_cases.head(2)"
   ]
  },
  {
   "cell_type": "code",
   "execution_count": 6,
   "metadata": {
    "cell_id": "00003-8c7c49d8-fb8c-4bb4-aafc-c25b000bae4e",
    "deepnote_cell_type": "code",
    "execution_millis": 4367,
    "execution_start": 1607091988991,
    "output_cleared": false,
    "source_hash": "7c76fb43",
    "tags": []
   },
   "outputs": [
    {
     "name": "stdout",
     "output_type": "stream",
     "text": [
      "(892896, 6)\n"
     ]
    },
    {
     "data": {
      "text/html": [
       "<div>\n",
       "<style scoped>\n",
       "    .dataframe tbody tr th:only-of-type {\n",
       "        vertical-align: middle;\n",
       "    }\n",
       "\n",
       "    .dataframe tbody tr th {\n",
       "        vertical-align: top;\n",
       "    }\n",
       "\n",
       "    .dataframe thead th {\n",
       "        text-align: right;\n",
       "    }\n",
       "</style>\n",
       "<table border=\"1\" class=\"dataframe\">\n",
       "  <thead>\n",
       "    <tr style=\"text-align: right;\">\n",
       "      <th></th>\n",
       "      <th>fip</th>\n",
       "      <th>County Name</th>\n",
       "      <th>State</th>\n",
       "      <th>date</th>\n",
       "      <th>daily_confirmed</th>\n",
       "      <th>new_cases</th>\n",
       "    </tr>\n",
       "  </thead>\n",
       "  <tbody>\n",
       "    <tr>\n",
       "      <th>0</th>\n",
       "      <td>01001</td>\n",
       "      <td>Autauga County</td>\n",
       "      <td>AL</td>\n",
       "      <td>2020-01-22</td>\n",
       "      <td>0</td>\n",
       "      <td>NaN</td>\n",
       "    </tr>\n",
       "    <tr>\n",
       "      <th>1</th>\n",
       "      <td>01001</td>\n",
       "      <td>Autauga County</td>\n",
       "      <td>AL</td>\n",
       "      <td>2020-01-23</td>\n",
       "      <td>0</td>\n",
       "      <td>0.0</td>\n",
       "    </tr>\n",
       "  </tbody>\n",
       "</table>\n",
       "</div>"
      ],
      "text/plain": [
       "     fip     County Name State        date  daily_confirmed  new_cases\n",
       "0  01001  Autauga County    AL  2020-01-22                0        NaN\n",
       "1  01001  Autauga County    AL  2020-01-23                0        0.0"
      ]
     },
     "execution_count": 6,
     "metadata": {},
     "output_type": "execute_result"
    }
   ],
   "source": [
    "# convert original data to format ['fip', 'County Name', 'State', 'date', 'daily_confirmed']\n",
    "# get daily confirmed per row\n",
    "tmp = daily_cases.copy()\n",
    "cols = daily_cases.columns[4:-1]# daily cases data\n",
    "tmp['daily_confirmed'] = tmp[cols].values.tolist()\n",
    "# tmp['time_list'] = [list(cols)]*tmp.shape[0]\n",
    "\n",
    "# convert list of pd.Series then stack it\n",
    "tmp = (tmp\n",
    " .set_index(['fip','County Name','State'])['daily_confirmed']\n",
    " .apply(pd.Series)\n",
    " .stack()\n",
    " .reset_index()\n",
    " .rename(columns={0:'daily_confirmed'}))\n",
    "\n",
    "\n",
    "tmp2 = daily_cases.copy()\n",
    "cols = daily_cases.columns[4:-1]\n",
    "tmp2['time_list'] = [list(cols)]*tmp2.shape[0]\n",
    "\n",
    "tmp2 = (tmp2\n",
    " .set_index(['fip','County Name','State'])['time_list']\n",
    " .apply(pd.Series)\n",
    " .stack()\n",
    " .reset_index()\n",
    " .rename(columns={0:'old_date'}))\n",
    "\n",
    "cases_daily = pd.merge(tmp,tmp2,on=list(tmp.columns[:4]))\n",
    "del tmp,tmp2,daily_cases\n",
    "\n",
    "# convert date format to be consistent with social distance data\n",
    "def date_in_sd(case_date):\n",
    "    tmp = '2020-'+case_date.split('/')[0].zfill(2)+'-'+ case_date.split('/')[1].zfill(2)\n",
    "    return tmp\n",
    "\n",
    "cases_daily['date'] = cases_daily['old_date'].apply(date_in_sd)\n",
    "cases_daily = cases_daily[['fip', 'County Name', 'State', 'date', 'daily_confirmed']]\n",
    "cases_daily[\"new_cases\"] = cases_daily.groupby(by = \"fip\")[\"daily_confirmed\"].diff()\n",
    "cases_daily[\"date\"] = cases_daily[\"date\"].apply(lambda x: datetime.strptime(x, '%Y-%m-%d').date())\n",
    "cases_daily = cases_daily[(cases_daily[\"fip\"] != \"00000\") & (cases_daily[\"fip\"] != \"00001\")]\n",
    "cases_daily = cases_daily[cases_daily[\"date\"] < date(2020,11,1)]\n",
    "print(cases_daily.shape)\n",
    "cases_daily.head(2)"
   ]
  },
  {
   "cell_type": "code",
   "execution_count": 7,
   "metadata": {
    "cell_id": "00009-265b7cf5-fd85-4a7b-9f18-44b8c1d172cb",
    "deepnote_cell_type": "code",
    "execution_millis": 1152,
    "execution_start": 1607104744734,
    "output_cleared": false,
    "source_hash": "e05a3c07",
    "tags": []
   },
   "outputs": [
    {
     "name": "stdout",
     "output_type": "stream",
     "text": [
      "(892896, 12)\n"
     ]
    }
   ],
   "source": [
    "# merge cases lag data and social distance lag data\n",
    "cases_sd = pd.merge(cases_daily,sd_agg,on = ['fip','date'], how = \"left\" ) # how = \"outer\"\n",
    "# cases_sd = cases_sd.dropna(axis=0,how='any')\n",
    "print(cases_sd.shape)"
   ]
  },
  {
   "cell_type": "code",
   "execution_count": 8,
   "metadata": {},
   "outputs": [
    {
     "name": "stdout",
     "output_type": "stream",
     "text": [
      "3144\n"
     ]
    }
   ],
   "source": [
    "fips = cases_sd.fip.unique()\n",
    "print(len(fips))"
   ]
  },
  {
   "cell_type": "code",
   "execution_count": 9,
   "metadata": {},
   "outputs": [
    {
     "name": "stderr",
     "output_type": "stream",
     "text": [
      "100%|██████████| 3144/3144 [07:02<00:00,  7.44it/s]"
     ]
    },
    {
     "name": "stdout",
     "output_type": "stream",
     "text": [
      "(892044, 12)\n"
     ]
    },
    {
     "name": "stderr",
     "output_type": "stream",
     "text": [
      "\n"
     ]
    },
    {
     "data": {
      "text/html": [
       "<div>\n",
       "<style scoped>\n",
       "    .dataframe tbody tr th:only-of-type {\n",
       "        vertical-align: middle;\n",
       "    }\n",
       "\n",
       "    .dataframe tbody tr th {\n",
       "        vertical-align: top;\n",
       "    }\n",
       "\n",
       "    .dataframe thead th {\n",
       "        text-align: right;\n",
       "    }\n",
       "</style>\n",
       "<table border=\"1\" class=\"dataframe\">\n",
       "  <thead>\n",
       "    <tr style=\"text-align: right;\">\n",
       "      <th></th>\n",
       "      <th>fip</th>\n",
       "      <th>County Name</th>\n",
       "      <th>State</th>\n",
       "      <th>date</th>\n",
       "      <th>weekday</th>\n",
       "      <th>daily_confirmed</th>\n",
       "      <th>new_cases</th>\n",
       "      <th>trip_ratio</th>\n",
       "      <th>short_trip_ratio</th>\n",
       "      <th>med_trip_ratio</th>\n",
       "      <th>long_trip_ratio</th>\n",
       "      <th>avg_stay_at_home_ratio</th>\n",
       "    </tr>\n",
       "  </thead>\n",
       "  <tbody>\n",
       "    <tr>\n",
       "      <th>0</th>\n",
       "      <td>01001</td>\n",
       "      <td>Autauga County</td>\n",
       "      <td>AL</td>\n",
       "      <td>2020-01-22</td>\n",
       "      <td>2.0</td>\n",
       "      <td>0.0</td>\n",
       "      <td>0.0</td>\n",
       "      <td>3.504577</td>\n",
       "      <td>0.730193</td>\n",
       "      <td>0.293583</td>\n",
       "      <td>0.022386</td>\n",
       "      <td>0.140429</td>\n",
       "    </tr>\n",
       "    <tr>\n",
       "      <th>1</th>\n",
       "      <td>01001</td>\n",
       "      <td>Autauga County</td>\n",
       "      <td>AL</td>\n",
       "      <td>2020-01-23</td>\n",
       "      <td>3.0</td>\n",
       "      <td>0.0</td>\n",
       "      <td>0.0</td>\n",
       "      <td>3.257405</td>\n",
       "      <td>0.722916</td>\n",
       "      <td>0.296204</td>\n",
       "      <td>0.023863</td>\n",
       "      <td>0.148720</td>\n",
       "    </tr>\n",
       "  </tbody>\n",
       "</table>\n",
       "</div>"
      ],
      "text/plain": [
       "     fip     County Name State        date  weekday  daily_confirmed  \\\n",
       "0  01001  Autauga County    AL  2020-01-22      2.0              0.0   \n",
       "1  01001  Autauga County    AL  2020-01-23      3.0              0.0   \n",
       "\n",
       "   new_cases  trip_ratio  short_trip_ratio  med_trip_ratio  long_trip_ratio  \\\n",
       "0        0.0    3.504577          0.730193        0.293583         0.022386   \n",
       "1        0.0    3.257405          0.722916        0.296204         0.023863   \n",
       "\n",
       "   avg_stay_at_home_ratio  \n",
       "0                0.140429  \n",
       "1                0.148720  "
      ]
     },
     "execution_count": 9,
     "metadata": {},
     "output_type": "execute_result"
    }
   ],
   "source": [
    "filled_cases_sd = pd.DataFrame()\n",
    "numerical_features = ['daily_confirmed', 'new_cases', 'trip_ratio',\n",
    "       'short_trip_ratio', 'med_trip_ratio', 'long_trip_ratio', \n",
    "       'avg_stay_at_home_ratio']\n",
    "\n",
    "for fip in tqdm(fips):\n",
    "    imputer = KNNImputer(n_neighbors=2)\n",
    "    df = cases_sd[cases_sd[\"fip\"] == fip].copy()\n",
    "    df = df.sort_values(by=['date']).reset_index(drop = True)\n",
    "    \n",
    "    num = df[numerical_features]\n",
    "    if imputer.fit_transform(num).shape[1] != 7:\n",
    "        continue\n",
    "    num = pd.DataFrame(imputer.fit_transform(num), columns = numerical_features)\n",
    "    \n",
    "    df = df.drop(columns = numerical_features)\n",
    "    df = pd.concat([df,num], axis = 1)\n",
    "    \n",
    "    filled_cases_sd = filled_cases_sd.append(df, ignore_index=True)\n",
    "print(filled_cases_sd.shape)\n",
    "filled_cases_sd.head(2)"
   ]
  },
  {
   "cell_type": "code",
   "execution_count": 10,
   "metadata": {},
   "outputs": [
    {
     "name": "stdout",
     "output_type": "stream",
     "text": [
      "3141\n"
     ]
    }
   ],
   "source": [
    "fips = filled_cases_sd.fip.unique()\n",
    "print(len(fips))"
   ]
  },
  {
   "cell_type": "code",
   "execution_count": 11,
   "metadata": {},
   "outputs": [],
   "source": [
    "filled_cases_sd.to_csv(\"data/filled_cases_sd.csv\", index = False)"
   ]
  },
  {
   "cell_type": "code",
   "execution_count": 12,
   "metadata": {},
   "outputs": [],
   "source": [
    "# filled_cases_sd = pd.read_csv(\"data/filled_cases_sd.csv\")"
   ]
  },
  {
   "cell_type": "markdown",
   "metadata": {},
   "source": [
    "# Static Data"
   ]
  },
  {
   "cell_type": "code",
   "execution_count": 13,
   "metadata": {},
   "outputs": [
    {
     "name": "stderr",
     "output_type": "stream",
     "text": [
      "/Users/Angela/opt/anaconda3/lib/python3.8/site-packages/IPython/core/interactiveshell.py:3146: DtypeWarning: Columns (2,3,4,6,7,8,9,10,11,12,13,14,15,16,17,18,19,20,21,22,23,24,25,26,27,28,29,30,31,32,33,34,35,36,37,38,39,40,41,42,43,44,45,46,47,48,49,50,51,52,53,54,55,56,57,58,59,62,63,66,67,68,70,71,72,73,74,75,76,77,78,79,80,81,82,83,84,85,86,87,88,89,90,91,92,93,94,95,96,98,99,100,101,102,103,104,105,106,107,108,109,110,111,112,113,114,115,116,117,118,119,120,122,123,124,125,126,127,128,129,130,131,132,133,134,135,136,137,138,139,140,141,142,143,144,146,147,148,149,150,151,154,155,158,159,162,163,166,167,170,171,172,174,175,176,177,178,179,180,181,182,183,184,185,186,187,188,189,190,191,192,193,194,195,196,198,199,202,203,206,207,208,210,211,212,213,214,215,216,217,218,219,220,221,222,223,224,225,226,227,228,229,230,231,232,234,235,236,237,238,239,240,241,242,243,244,245,246,247,248,249,250,251,252,253,254,255,256,257,258,259,260,261,262,263,264,265,266,267,268,269,270,271,272,274,275,276,277,278,279,280,282,283,284,285,286,287,288,290,291,292,293,294,295,296,298,299,300,301,302,303,304,306,307,308,309,310,311,312,314,315,316,317,318,319,320,321,322,323,324,325,326,327,328,329,330,331,332,333,334,335,336,337,338,339,340,341,342,344,346,347,348,349,350,351,352,353,354,355,356,357,358,359,360,361,362,363,364,365,366,367,368,369,370,371,372,374,375,376,377,378,379,380,381,382,383,384,386,387,388,390,391,392,393,394,395,396,397,398,399,400,402,403,404,405,406,407,408,409,410,411,412,414,415,416,417,418,419,420,421,422,423,424,425,426,427,428,429,430,431,432,433,434,435,436,437,438,440,442,443,444,445,446,447,448,449,450,451,452,453,454,455,456,457,458,459,460,461,462,463,464,465,466,467,468,469,470,471,472,473,474,475,476,477,478,479,480,481,482,483,484,485,486,488,490,491,492,493,494,495,496,497,498,499,500,501,502,503,504,505,506,507,508,509,510,511,512,513,514,515,516,517,518,519,520,521,522,523,524,525,526,527,528,529,530,531,532,533,534,535,536,537,538,539,540,541,542,543,544,545,546,547,548,549,550,551,552,553,554,555,556,557,558,559,560,561,562,563,564,565,566,567,568,569,570,571,572,573,574,575,576,577,578,579,580,581,582,583,584,585,586,587,588,589,590,591,592,593,594,595,596,597,598,599,600,602,603,604,605,606,607,608,609) have mixed types.Specify dtype option on import or set low_memory=False.\n",
      "  has_raised = await self.run_ast_nodes(code_ast.body, cell_name,\n",
      "/Users/Angela/opt/anaconda3/lib/python3.8/site-packages/IPython/core/interactiveshell.py:3146: DtypeWarning: Columns (2,3,4,6,7,8,9,10,11,12,13,14,15,16,17,18,19,20,21,22,23,24,25,26,27,28,29,30,31,32,36,37,38,39,40,42,43,44,45,46,47,48,49,50,51,52,53,54,55,56,58,59,60,61,62,63,64,66,67,68,69,70,71,72,74,75,76,77,78,79,80,81,82,83,84,85,86,87,88,89,90,91,92,93,94,95,96,97,98,99,102,103,104,106,107,108,109,110,111,112,113,114,115,116,117,118,119,120,121,122,123,124,125,126,127,128,130,131,132,133,134,135,136,137,138,139,140,141,142,143,144,145,146,147,148,149,150,151,152,153,154,155,156,157,158,159,160,161,162,163,164,165,166,167,168,169,170,171,172,173,174,175,176,177,178,179,180,181,182,183,184,186,187,188,189,190,191,192,193,194,195,196,197,198,199,200,201,202,203,204,206,207,208,209,210,211,212,213,214,215,216,217,218,219,220,221,222,223,224,225,226,227,228,229,230,231,232,233,234,235,236,237,238,239,240,241,242,243,244,245,246,247,250,251,254,255,256,257,258,259,262,263,264,265,266,267,270,271,272,273,274,275,278,279,280,281,286,287,288,289,294,295,296,297,298,299,300,302,303,304,305,306,307,308,309,310,311,312,313,314,315,316,317,318,319,320,321,322,323,324,325,326,327,328,329,330,331,332,333,334,335,336,337,338,339,340,341,342,343,346,347,350,351,354,355,356,358,359,362,363,366,367,370,371,374,375,378,379,380,382,383,384,385,386,387,388,389,390,391,392,393,394,395,396,397,398,399,400,402,403,404,405,406,407,408,410,411,412,414,415,416,418,419,420,421,422,423,424,425,426,427,428,429,430,431,432,433,434,435,436,438,439,440,441,442,443,444,445,446,447,448,449,450,451,452,453,454,455,456,458,459,460,461,462,463,464,465,466,467,468,469,470,471,472,473,476,477,480,481,484,485,488,489,492,493,496,497,500,501,504,505,512,513,516,517,520,521,524,525,528,529,532,533,536,537,540,541,544,545,548,549) have mixed types.Specify dtype option on import or set low_memory=False.\n",
      "  has_raised = await self.run_ast_nodes(code_ast.body, cell_name,\n"
     ]
    }
   ],
   "source": [
    "# import social and economic data for each country\n",
    "social_data = pd.read_csv('data/social_economics/ACSDP5Y2018.DP02_data_with_overlays_2020-10-12T093324.csv')\n",
    "eco_data =  pd.read_csv('data/social_economics/ACSDP5Y2018.DP03_data_with_overlays_2020-11-09T135613.csv')\n",
    "\n",
    "# rename columns \n",
    "social_data.columns = social_data.iloc[0,:]\n",
    "social_data = social_data[1:].copy()\n",
    "\n",
    "eco_data.columns = eco_data.iloc[0,:]\n",
    "eco_data = eco_data[1:].copy()"
   ]
  },
  {
   "cell_type": "code",
   "execution_count": 14,
   "metadata": {},
   "outputs": [
    {
     "name": "stdout",
     "output_type": "stream",
     "text": [
      "shape of social data: (3220, 610)\n",
      "shape of eco data: (3220, 550)\n",
      "shape of merged data: (3220, 1158)\n"
     ]
    }
   ],
   "source": [
    "# merge the data\n",
    "social_eco = pd.merge(social_data, eco_data, on=['id','Geographic Area Name'])\n",
    "print('shape of social data:',social_data.shape)\n",
    "print('shape of eco data:',eco_data.shape)\n",
    "print('shape of merged data:',social_eco.shape)"
   ]
  },
  {
   "cell_type": "code",
   "execution_count": 15,
   "metadata": {},
   "outputs": [],
   "source": [
    "social_eco = social_eco.dropna(axis=0,how='any')\n",
    "\n",
    "# Select useful columns based EDA\n",
    "useful_cols = ['id','Estimate!!VETERAN STATUS!!Civilian population 18 years and over',\n",
    "       'Estimate!!DISABILITY STATUS OF THE CIVILIAN NONINSTITUTIONALIZED POPULATION!!Under 18 years',\n",
    "       'Estimate!!DISABILITY STATUS OF THE CIVILIAN NONINSTITUTIONALIZED POPULATION!!65 years and over',\n",
    "       'Estimate!!HOUSEHOLDS BY TYPE!!Total households!!Family households (families)!!Married-couple family',\n",
    "       'Estimate!!HOUSEHOLDS BY TYPE!!Total households!!Nonfamily households']\n",
    "col_names = ['id', \"veteran\", \"disability_under_18\", \"disability_over_65\", \"married_couple\",\"nonfamily\"]"
   ]
  },
  {
   "cell_type": "code",
   "execution_count": 16,
   "metadata": {},
   "outputs": [
    {
     "name": "stdout",
     "output_type": "stream",
     "text": [
      "(3141, 6)\n"
     ]
    },
    {
     "data": {
      "text/html": [
       "<div>\n",
       "<style scoped>\n",
       "    .dataframe tbody tr th:only-of-type {\n",
       "        vertical-align: middle;\n",
       "    }\n",
       "\n",
       "    .dataframe tbody tr th {\n",
       "        vertical-align: top;\n",
       "    }\n",
       "\n",
       "    .dataframe thead th {\n",
       "        text-align: right;\n",
       "    }\n",
       "</style>\n",
       "<table border=\"1\" class=\"dataframe\">\n",
       "  <thead>\n",
       "    <tr style=\"text-align: right;\">\n",
       "      <th></th>\n",
       "      <th>veteran</th>\n",
       "      <th>disability_under_18</th>\n",
       "      <th>disability_over_65</th>\n",
       "      <th>married_couple</th>\n",
       "      <th>nonfamily</th>\n",
       "      <th>fip</th>\n",
       "    </tr>\n",
       "  </thead>\n",
       "  <tbody>\n",
       "    <tr>\n",
       "      <th>0</th>\n",
       "      <td>41284</td>\n",
       "      <td>13369</td>\n",
       "      <td>7914</td>\n",
       "      <td>11988</td>\n",
       "      <td>5954</td>\n",
       "      <td>01001</td>\n",
       "    </tr>\n",
       "    <tr>\n",
       "      <th>1</th>\n",
       "      <td>162122</td>\n",
       "      <td>45591</td>\n",
       "      <td>39996</td>\n",
       "      <td>41452</td>\n",
       "      <td>27263</td>\n",
       "      <td>01003</td>\n",
       "    </tr>\n",
       "  </tbody>\n",
       "</table>\n",
       "</div>"
      ],
      "text/plain": [
       "  veteran disability_under_18 disability_over_65 married_couple nonfamily  \\\n",
       "0   41284               13369               7914          11988      5954   \n",
       "1  162122               45591              39996          41452     27263   \n",
       "\n",
       "     fip  \n",
       "0  01001  \n",
       "1  01003  "
      ]
     },
     "execution_count": 16,
     "metadata": {},
     "output_type": "execute_result"
    }
   ],
   "source": [
    "social_eco_clean = social_eco[useful_cols].copy()\n",
    "social_eco_clean.columns = col_names\n",
    "social_eco_clean['fip']=social_eco_clean['id'].apply(lambda x:x[-5:])\n",
    "social_eco_clean = social_eco_clean[social_eco_clean[\"fip\"].isin(fips)]\n",
    "social_eco_clean = social_eco_clean.drop(columns = \"id\")\n",
    "print(social_eco_clean.shape)\n",
    "social_eco_clean.head(2)"
   ]
  },
  {
   "cell_type": "code",
   "execution_count": 17,
   "metadata": {},
   "outputs": [
    {
     "name": "stdout",
     "output_type": "stream",
     "text": [
      "(3141, 6)\n"
     ]
    },
    {
     "data": {
      "text/html": [
       "<div>\n",
       "<style scoped>\n",
       "    .dataframe tbody tr th:only-of-type {\n",
       "        vertical-align: middle;\n",
       "    }\n",
       "\n",
       "    .dataframe tbody tr th {\n",
       "        vertical-align: top;\n",
       "    }\n",
       "\n",
       "    .dataframe thead th {\n",
       "        text-align: right;\n",
       "    }\n",
       "</style>\n",
       "<table border=\"1\" class=\"dataframe\">\n",
       "  <thead>\n",
       "    <tr style=\"text-align: right;\">\n",
       "      <th></th>\n",
       "      <th>veteran</th>\n",
       "      <th>disability_under_18</th>\n",
       "      <th>disability_over_65</th>\n",
       "      <th>married_couple</th>\n",
       "      <th>nonfamily</th>\n",
       "      <th>fip</th>\n",
       "    </tr>\n",
       "  </thead>\n",
       "  <tbody>\n",
       "    <tr>\n",
       "      <th>0</th>\n",
       "      <td>-0.148909</td>\n",
       "      <td>-0.131529</td>\n",
       "      <td>-0.167496</td>\n",
       "      <td>-0.120748</td>\n",
       "      <td>-0.173893</td>\n",
       "      <td>01001</td>\n",
       "    </tr>\n",
       "    <tr>\n",
       "      <th>1</th>\n",
       "      <td>0.327442</td>\n",
       "      <td>0.292071</td>\n",
       "      <td>0.563708</td>\n",
       "      <td>0.433484</td>\n",
       "      <td>0.347297</td>\n",
       "      <td>01003</td>\n",
       "    </tr>\n",
       "  </tbody>\n",
       "</table>\n",
       "</div>"
      ],
      "text/plain": [
       "    veteran  disability_under_18  disability_over_65  married_couple  \\\n",
       "0 -0.148909            -0.131529           -0.167496       -0.120748   \n",
       "1  0.327442             0.292071            0.563708        0.433484   \n",
       "\n",
       "   nonfamily    fip  \n",
       "0  -0.173893  01001  \n",
       "1   0.347297  01003  "
      ]
     },
     "execution_count": 17,
     "metadata": {},
     "output_type": "execute_result"
    }
   ],
   "source": [
    "static_scalars = {}\n",
    "cols_to_scale = [\"veteran\", \"disability_under_18\", \"disability_over_65\", \"married_couple\",\"nonfamily\"]\n",
    "for col in cols_to_scale:\n",
    "    scaler = StandardScaler().fit(social_eco_clean[[col]])\n",
    "    \n",
    "    static_scalars[col] = scaler\n",
    "    social_eco_clean[col] = scaler.transform(social_eco_clean[[col]])\n",
    "print(social_eco_clean.shape)\n",
    "social_eco_clean.head(2)"
   ]
  },
  {
   "cell_type": "code",
   "execution_count": 18,
   "metadata": {},
   "outputs": [
    {
     "data": {
      "text/plain": [
       "(892044, 17)"
      ]
     },
     "execution_count": 18,
     "metadata": {},
     "output_type": "execute_result"
    }
   ],
   "source": [
    "temp_static = filled_cases_sd.merge(social_eco_clean, on = \"fip\", how = \"inner\")\n",
    "temp_static.shape"
   ]
  },
  {
   "cell_type": "markdown",
   "metadata": {},
   "source": [
    "## Split Train and Test"
   ]
  },
  {
   "cell_type": "code",
   "execution_count": 19,
   "metadata": {},
   "outputs": [],
   "source": [
    "timesteps = 7\n",
    "n_temp_features = 3\n",
    "static_cols = [\"veteran\", \"disability_under_18\", \"disability_over_65\", \"married_couple\",\"nonfamily\"]"
   ]
  },
  {
   "cell_type": "code",
   "execution_count": 20,
   "metadata": {},
   "outputs": [],
   "source": [
    "def create_temporal_data(data, target_col, timesteps):\n",
    "    temporal_data = []\n",
    "    for i in range(1,timesteps+1):\n",
    "        temp = data.groupby('fip')[target_col].shift(i)\n",
    "        temporal_data.append(temp)\n",
    "        \n",
    "    temporal_data = np.array(temporal_data).T\n",
    "    \n",
    "    return temporal_data"
   ]
  },
  {
   "cell_type": "code",
   "execution_count": 21,
   "metadata": {},
   "outputs": [],
   "source": [
    "def split_train_val_test(data, splits):\n",
    "    train = data[splits[0]: splits[1]]\n",
    "    val = data[splits[1]: splits[2]]\n",
    "    test = data[splits[2]:]\n",
    "    return train, val, test"
   ]
  },
  {
   "cell_type": "code",
   "execution_count": 22,
   "metadata": {},
   "outputs": [
    {
     "name": "stdout",
     "output_type": "stream",
     "text": [
      "[39, 210, 234]\n"
     ]
    }
   ],
   "source": [
    "start_date = date(2020,3, 1)\n",
    "total_len = temp_static.groupby(by = \"fip\").count()[\"date\"].unique()[0]\n",
    "target_len = temp_static[temp_static[\"date\"] >= start_date ].groupby(by = \"fip\").count()[\"date\"].unique()[0]\n",
    "ignore_len = total_len - target_len\n",
    "train_cutoff = ignore_len + int(target_len * 0.7)\n",
    "val_cutoff = train_cutoff + int(target_len * 0.1)\n",
    "splits = [ignore_len, train_cutoff, val_cutoff]\n",
    "print(splits)"
   ]
  },
  {
   "cell_type": "code",
   "execution_count": 23,
   "metadata": {},
   "outputs": [
    {
     "name": "stderr",
     "output_type": "stream",
     "text": [
      "100%|██████████| 3141/3141 [04:39<00:00, 11.23it/s]\n"
     ]
    }
   ],
   "source": [
    "X_temporal = [[], [], []]\n",
    "X_static = [[], [], [],]\n",
    "y = [[], [], [],]\n",
    "for fip in tqdm(fips): \n",
    "    # temporal inputs\n",
    "    selected = temp_static[temp_static[\"fip\"] == fip].copy()\n",
    "    new_cases_lagged = create_temporal_data(selected, \"new_cases\", timesteps)\n",
    "    trip_ratio_lagged = create_temporal_data(selected, \"trip_ratio\", timesteps)\n",
    "    sah_lagged = create_temporal_data(selected, \"avg_stay_at_home_ratio\", timesteps)\n",
    "    temporal_inputs = np.concatenate([new_cases_lagged, trip_ratio_lagged, sah_lagged], axis = 1).reshape(total_len, timesteps, n_temp_features)\n",
    "    temp_train, temp_val, temp_test = split_train_val_test(temporal_inputs, splits)\n",
    "    X_temporal[0].append(temp_train)\n",
    "    X_temporal[1].append(temp_val)\n",
    "    X_temporal[2].append(temp_test)\n",
    "    \n",
    "    # static inputs\n",
    "    static_inputs = selected[static_cols].values\n",
    "    static_train, static_val, static_test = split_train_val_test(static_inputs, splits)\n",
    "    X_static[0].append(static_train)\n",
    "    X_static[1].append(static_val)\n",
    "    X_static[2].append(static_test)\n",
    "    \n",
    "    # response variable\n",
    "    response = selected[[\"new_cases\"]].values\n",
    "    resp_train, resp_val, resp_test = split_train_val_test(response, splits)\n",
    "    y[0].append(resp_train)\n",
    "    y[1].append(resp_val)\n",
    "    y[2].append(resp_test)\n",
    "    "
   ]
  },
  {
   "cell_type": "code",
   "execution_count": 24,
   "metadata": {},
   "outputs": [
    {
     "name": "stdout",
     "output_type": "stream",
     "text": [
      "(537111, 7, 3) (75384, 7, 3) (157050, 7, 3)\n",
      "(537111, 5) (75384, 5) (157050, 5)\n",
      "(537111, 1) (75384, 1) (157050, 1)\n"
     ]
    }
   ],
   "source": [
    "for i in range(3):\n",
    "    X_temporal[i] = np.asarray(X_temporal[i])\n",
    "    X_temporal[i] =  X_temporal[i].reshape(X_temporal[i].shape[0]*X_temporal[i].shape[1], \n",
    "                                                  X_temporal[i].shape[2], X_temporal[i].shape[3])\n",
    "    \n",
    "    X_static[i] = np.asarray(X_static[i])\n",
    "    X_static[i] = X_static[i].reshape(X_static[i].shape[0]*X_static[i].shape[1], \n",
    "                                                  X_static[i].shape[2])\n",
    "    \n",
    "    y[i] = np.asarray(y[i])\n",
    "    y[i] = y[i].reshape(y[i].shape[0]*y[i].shape[1], y[i].shape[2])\n",
    "\n",
    "print(X_temporal[0].shape, X_temporal[1].shape, X_temporal[2].shape)\n",
    "print(X_static[0].shape, X_static[1].shape, X_static[2].shape)\n",
    "print(y[0].shape, y[1].shape, y[2].shape)"
   ]
  },
  {
   "cell_type": "code",
   "execution_count": 25,
   "metadata": {},
   "outputs": [],
   "source": [
    "test_X = [X_temporal[2], X_static[2]]\n",
    "test_y = y[2]"
   ]
  },
  {
   "cell_type": "code",
   "execution_count": 26,
   "metadata": {},
   "outputs": [
    {
     "data": {
      "text/plain": [
       "[array([[[ 7.        , 22.        , 14.        ],\n",
       "         [ 4.        ,  6.        ,  6.        ],\n",
       "         [17.        ,  5.32098344,  3.54923473],\n",
       "         ...,\n",
       "         [ 2.53614144,  3.48457762,  0.16521286],\n",
       "         [ 0.1755544 ,  0.17098613,  0.17794644],\n",
       "         [ 0.23168648,  0.2131976 ,  0.1794572 ]],\n",
       " \n",
       "        [[14.        ,  7.        , 22.        ],\n",
       "         [14.        ,  4.        ,  6.        ],\n",
       "         [ 6.        ,  2.74210895,  5.32098344],\n",
       "         ...,\n",
       "         [ 2.54765202,  2.53614144,  0.19918706],\n",
       "         [ 0.16521286,  0.1755544 ,  0.17098613],\n",
       "         [ 0.17794644,  0.23168648,  0.2131976 ]],\n",
       " \n",
       "        [[11.        , 14.        ,  7.        ],\n",
       "         [22.        , 14.        ,  4.        ],\n",
       "         [ 6.        ,  2.20521214,  2.74210895],\n",
       "         ...,\n",
       "         [ 7.50380389,  2.54765202,  0.22938436],\n",
       "         [ 0.19918706,  0.16521286,  0.1755544 ],\n",
       "         [ 0.17098613,  0.17794644,  0.23168648]],\n",
       " \n",
       "        ...,\n",
       " \n",
       "        [[ 9.        ,  7.        ,  5.        ],\n",
       "         [ 0.        ,  6.        ,  6.        ],\n",
       "         [12.        ,  3.18314913,  2.75513133],\n",
       "         ...,\n",
       "         [ 2.86306875,  2.89522032,  0.26209272],\n",
       "         [ 0.23596957,  0.25376776,  0.26783407],\n",
       "         [ 0.22721401,  0.22290799,  0.23195062]],\n",
       " \n",
       "        [[ 7.        ,  9.        ,  7.        ],\n",
       "         [ 5.        ,  0.        ,  6.        ],\n",
       "         [ 6.        ,  2.86651356,  3.18314913],\n",
       "         ...,\n",
       "         [ 2.43074494,  2.86306875,  0.24529927],\n",
       "         [ 0.26209272,  0.23596957,  0.25376776],\n",
       "         [ 0.26783407,  0.22721401,  0.22290799]],\n",
       " \n",
       "        [[ 4.        ,  7.        ,  9.        ],\n",
       "         [ 7.        ,  5.        ,  0.        ],\n",
       "         [ 6.        ,  3.04262954,  2.86651356],\n",
       "         ...,\n",
       "         [ 1.66068609,  2.43074494,  0.2233386 ],\n",
       "         [ 0.24529927,  0.26209272,  0.23596957],\n",
       "         [ 0.25376776,  0.26783407,  0.22721401]]]),\n",
       " array([[-0.14890948, -0.13152898, -0.16749599, -0.12074769, -0.17389326],\n",
       "        [-0.14890948, -0.13152898, -0.16749599, -0.12074769, -0.17389326],\n",
       "        [-0.14890948, -0.13152898, -0.16749599, -0.12074769, -0.17389326],\n",
       "        ...,\n",
       "        [-0.28959779, -0.28749673, -0.31890144, -0.31639533, -0.29396101],\n",
       "        [-0.28959779, -0.28749673, -0.31890144, -0.31639533, -0.29396101],\n",
       "        [-0.28959779, -0.28749673, -0.31890144, -0.31639533, -0.29396101]])]"
      ]
     },
     "execution_count": 26,
     "metadata": {},
     "output_type": "execute_result"
    }
   ],
   "source": [
    "test_X"
   ]
  },
  {
   "cell_type": "markdown",
   "metadata": {},
   "source": [
    "## Build Model"
   ]
  },
  {
   "cell_type": "code",
   "execution_count": 27,
   "metadata": {},
   "outputs": [
    {
     "name": "stdout",
     "output_type": "stream",
     "text": [
      "Model: \"functional_1\"\n",
      "__________________________________________________________________________________________________\n",
      "Layer (type)                    Output Shape         Param #     Connected to                     \n",
      "==================================================================================================\n",
      "in_static (InputLayer)          [(None, 5)]          0                                            \n",
      "__________________________________________________________________________________________________\n",
      "tf_op_layer_ExpandDims (TensorF [(1, None, 5)]       0           in_static[0][0]                  \n",
      "__________________________________________________________________________________________________\n",
      "tf_op_layer_Tile (TensorFlowOpL [(2, None, 5)]       0           tf_op_layer_ExpandDims[0][0]     \n",
      "__________________________________________________________________________________________________\n",
      "dense (Dense)                   (2, None, 16)        96          tf_op_layer_Tile[0][0]           \n",
      "__________________________________________________________________________________________________\n",
      "in_temp (InputLayer)            [(None, 7, 3)]       0                                            \n",
      "__________________________________________________________________________________________________\n",
      "tf_op_layer_unstack (TensorFlow [(None, 16), (None,  0           dense[0][0]                      \n",
      "__________________________________________________________________________________________________\n",
      "rnn (RNN)                       (None, 16)           1280        in_temp[0][0]                    \n",
      "                                                                 tf_op_layer_unstack[0][0]        \n",
      "                                                                 tf_op_layer_unstack[0][1]        \n",
      "__________________________________________________________________________________________________\n",
      "dense_12 (Dense)                (None, 1)            17          rnn[0][0]                        \n",
      "==================================================================================================\n",
      "Total params: 1,393\n",
      "Trainable params: 1,393\n",
      "Non-trainable params: 0\n",
      "__________________________________________________________________________________________________\n"
     ]
    }
   ],
   "source": [
    "n_static_features = X_static[0].shape[1]\n",
    "\n",
    "input_temp = tf.keras.Input(name='in_temp',shape=(timesteps,n_temp_features)) \n",
    "input_static = tf.keras.Input(name='in_static', shape=[n_static_features]) \n",
    "x = ConditionalRNN(16, cell='LSTM')([input_temp, input_static]) \n",
    "\n",
    "predictions = tf.keras.layers.Dense(1)(x)\n",
    "\n",
    "model = tf.keras.Model(inputs=[input_temp, input_static], outputs=predictions) \n",
    "model.summary()"
   ]
  },
  {
   "cell_type": "code",
   "execution_count": 28,
   "metadata": {},
   "outputs": [],
   "source": [
    "# # customize loss function\n",
    "# def rmspe(y_true, y_pred):\n",
    "#     sum = K.sqrt(K.mean(K.square( (y_true - y_pred) /\n",
    "#           K.clip(K.abs(y_true),K.epsilon(),None) ), axis=-1) )\n",
    "#     return sum*100."
   ]
  },
  {
   "cell_type": "code",
   "execution_count": 29,
   "metadata": {},
   "outputs": [
    {
     "data": {
      "text/plain": [
       "(array([], dtype=int64), array([], dtype=int64), array([], dtype=int64))"
      ]
     },
     "execution_count": 29,
     "metadata": {},
     "output_type": "execute_result"
    }
   ],
   "source": [
    "np.where(np.isnan(X_temporal[1]))"
   ]
  },
  {
   "cell_type": "code",
   "execution_count": 30,
   "metadata": {},
   "outputs": [
    {
     "name": "stdout",
     "output_type": "stream",
     "text": [
      "Epoch 1/200\n",
      "8393/8393 [==============================] - 48s 6ms/step - loss: 4326.4019 - root_mean_squared_error: 65.7754 - val_loss: 1715.0326 - val_root_mean_squared_error: 41.4130\n",
      "Epoch 2/200\n",
      "8393/8393 [==============================] - 42s 5ms/step - loss: 3799.5547 - root_mean_squared_error: 61.6405 - val_loss: 1452.1385 - val_root_mean_squared_error: 38.1069\n",
      "Epoch 3/200\n",
      "8393/8393 [==============================] - 41s 5ms/step - loss: 3492.1973 - root_mean_squared_error: 59.0948 - val_loss: 1320.0038 - val_root_mean_squared_error: 36.3319\n",
      "Epoch 4/200\n",
      "8393/8393 [==============================] - 41s 5ms/step - loss: 3276.6348 - root_mean_squared_error: 57.2419 - val_loss: 1245.5206 - val_root_mean_squared_error: 35.2919\n",
      "Epoch 5/200\n",
      "8393/8393 [==============================] - 41s 5ms/step - loss: 3115.2341 - root_mean_squared_error: 55.8143 - val_loss: 1180.8295 - val_root_mean_squared_error: 34.3632\n",
      "Epoch 6/200\n",
      "8393/8393 [==============================] - 42s 5ms/step - loss: 2983.2595 - root_mean_squared_error: 54.6192 - val_loss: 1109.1393 - val_root_mean_squared_error: 33.3037\n",
      "Epoch 7/200\n",
      "8393/8393 [==============================] - 41s 5ms/step - loss: 2864.3218 - root_mean_squared_error: 53.5194 - val_loss: 1060.6086 - val_root_mean_squared_error: 32.5670\n",
      "Epoch 8/200\n",
      "8393/8393 [==============================] - 41s 5ms/step - loss: 2775.1011 - root_mean_squared_error: 52.6792 - val_loss: 995.9516 - val_root_mean_squared_error: 31.5587\n",
      "Epoch 9/200\n",
      "8393/8393 [==============================] - 41s 5ms/step - loss: 2689.0120 - root_mean_squared_error: 51.8557 - val_loss: 965.9272 - val_root_mean_squared_error: 31.0794\n",
      "Epoch 10/200\n",
      "8393/8393 [==============================] - 41s 5ms/step - loss: 2616.7632 - root_mean_squared_error: 51.1543 - val_loss: 976.8408 - val_root_mean_squared_error: 31.2545\n",
      "Epoch 11/200\n",
      "8393/8393 [==============================] - 41s 5ms/step - loss: 2543.1653 - root_mean_squared_error: 50.4298 - val_loss: 928.0514 - val_root_mean_squared_error: 30.4639\n",
      "Epoch 12/200\n",
      "8393/8393 [==============================] - 41s 5ms/step - loss: 2501.6809 - root_mean_squared_error: 50.0168 - val_loss: 886.4028 - val_root_mean_squared_error: 29.7725\n",
      "Epoch 13/200\n",
      "8393/8393 [==============================] - 41s 5ms/step - loss: 2444.4150 - root_mean_squared_error: 49.4410 - val_loss: 963.9134 - val_root_mean_squared_error: 31.0470\n",
      "Epoch 14/200\n",
      "8393/8393 [==============================] - 41s 5ms/step - loss: 2395.1411 - root_mean_squared_error: 48.9402 - val_loss: 948.4579 - val_root_mean_squared_error: 30.7970\n",
      "Epoch 15/200\n",
      "8393/8393 [==============================] - 41s 5ms/step - loss: 2358.0278 - root_mean_squared_error: 48.5595 - val_loss: 885.7825 - val_root_mean_squared_error: 29.7621\n",
      "Epoch 16/200\n",
      "8393/8393 [==============================] - 41s 5ms/step - loss: 2304.7429 - root_mean_squared_error: 48.0077 - val_loss: 941.0658 - val_root_mean_squared_error: 30.6768\n",
      "Epoch 17/200\n",
      "8393/8393 [==============================] - 41s 5ms/step - loss: 2274.2029 - root_mean_squared_error: 47.6886 - val_loss: 865.7012 - val_root_mean_squared_error: 29.4228\n",
      "Epoch 18/200\n",
      "8393/8393 [==============================] - 41s 5ms/step - loss: 2242.7712 - root_mean_squared_error: 47.3579 - val_loss: 861.5870 - val_root_mean_squared_error: 29.3528\n",
      "Epoch 19/200\n",
      "8393/8393 [==============================] - 41s 5ms/step - loss: 2208.4045 - root_mean_squared_error: 46.9937 - val_loss: 860.7253 - val_root_mean_squared_error: 29.3381\n",
      "Epoch 20/200\n",
      "8393/8393 [==============================] - 41s 5ms/step - loss: 2207.9392 - root_mean_squared_error: 46.9887 - val_loss: 976.2113 - val_root_mean_squared_error: 31.2444\n",
      "Epoch 21/200\n",
      "8393/8393 [==============================] - 41s 5ms/step - loss: 2173.6184 - root_mean_squared_error: 46.6221 - val_loss: 912.2609 - val_root_mean_squared_error: 30.2037\n",
      "Epoch 22/200\n",
      "8393/8393 [==============================] - 41s 5ms/step - loss: 2135.8696 - root_mean_squared_error: 46.2155 - val_loss: 875.9960 - val_root_mean_squared_error: 29.5972\n",
      "Epoch 23/200\n",
      "8393/8393 [==============================] - 41s 5ms/step - loss: 2119.1257 - root_mean_squared_error: 46.0340 - val_loss: 811.7447 - val_root_mean_squared_error: 28.4911\n",
      "Epoch 24/200\n",
      "8393/8393 [==============================] - 41s 5ms/step - loss: 2091.3262 - root_mean_squared_error: 45.7310 - val_loss: 788.2741 - val_root_mean_squared_error: 28.0762\n",
      "Epoch 25/200\n",
      "8393/8393 [==============================] - 41s 5ms/step - loss: 2049.8889 - root_mean_squared_error: 45.2757 - val_loss: 770.3889 - val_root_mean_squared_error: 27.7559\n",
      "Epoch 26/200\n",
      "8393/8393 [==============================] - 41s 5ms/step - loss: 2035.1903 - root_mean_squared_error: 45.1131 - val_loss: 1016.8984 - val_root_mean_squared_error: 31.8888\n",
      "Epoch 27/200\n",
      "8393/8393 [==============================] - 41s 5ms/step - loss: 2009.3474 - root_mean_squared_error: 44.8257 - val_loss: 828.3174 - val_root_mean_squared_error: 28.7805\n",
      "Epoch 28/200\n",
      "8393/8393 [==============================] - 41s 5ms/step - loss: 1987.5239 - root_mean_squared_error: 44.5817 - val_loss: 862.6858 - val_root_mean_squared_error: 29.3715\n",
      "Epoch 29/200\n",
      "8393/8393 [==============================] - 41s 5ms/step - loss: 1981.0604 - root_mean_squared_error: 44.5091 - val_loss: 809.9221 - val_root_mean_squared_error: 28.4591\n",
      "Epoch 30/200\n",
      "8393/8393 [==============================] - 41s 5ms/step - loss: 1960.9979 - root_mean_squared_error: 44.2832 - val_loss: 833.3250 - val_root_mean_squared_error: 28.8674\n",
      "Epoch 31/200\n",
      "8393/8393 [==============================] - 43s 5ms/step - loss: 1945.1226 - root_mean_squared_error: 44.1035 - val_loss: 820.2798 - val_root_mean_squared_error: 28.6405\n",
      "Epoch 32/200\n",
      "8393/8393 [==============================] - 41s 5ms/step - loss: 1918.6661 - root_mean_squared_error: 43.8026 - val_loss: 876.1953 - val_root_mean_squared_error: 29.6006\n",
      "Epoch 33/200\n",
      "8393/8393 [==============================] - 41s 5ms/step - loss: 1887.6306 - root_mean_squared_error: 43.4469 - val_loss: 797.5366 - val_root_mean_squared_error: 28.2407\n",
      "Epoch 34/200\n",
      "8393/8393 [==============================] - 41s 5ms/step - loss: 1905.3300 - root_mean_squared_error: 43.6501 - val_loss: 770.8804 - val_root_mean_squared_error: 27.7647\n",
      "Epoch 35/200\n",
      "8393/8393 [==============================] - 41s 5ms/step - loss: 1900.9232 - root_mean_squared_error: 43.5996 - val_loss: 917.5078 - val_root_mean_squared_error: 30.2904\n",
      "Epoch 36/200\n",
      "8393/8393 [==============================] - 41s 5ms/step - loss: 1919.2985 - root_mean_squared_error: 43.8098 - val_loss: 894.3215 - val_root_mean_squared_error: 29.9052\n",
      "Epoch 37/200\n",
      "8393/8393 [==============================] - 41s 5ms/step - loss: 1889.9651 - root_mean_squared_error: 43.4737 - val_loss: 990.4962 - val_root_mean_squared_error: 31.4721\n",
      "Epoch 38/200\n",
      "8393/8393 [==============================] - 41s 5ms/step - loss: 1908.3171 - root_mean_squared_error: 43.6843 - val_loss: 1046.1282 - val_root_mean_squared_error: 32.3439\n",
      "Epoch 39/200\n",
      "8393/8393 [==============================] - 41s 5ms/step - loss: 1854.3596 - root_mean_squared_error: 43.0623 - val_loss: 756.5696 - val_root_mean_squared_error: 27.5058\n",
      "Epoch 40/200\n",
      "8393/8393 [==============================] - 41s 5ms/step - loss: 1819.0353 - root_mean_squared_error: 42.6502 - val_loss: 911.0494 - val_root_mean_squared_error: 30.1836\n",
      "Epoch 41/200\n",
      "8393/8393 [==============================] - 41s 5ms/step - loss: 1806.1494 - root_mean_squared_error: 42.4988 - val_loss: 829.5929 - val_root_mean_squared_error: 28.8027\n",
      "Epoch 42/200\n",
      "8393/8393 [==============================] - 41s 5ms/step - loss: 1822.7268 - root_mean_squared_error: 42.6934 - val_loss: 999.2145 - val_root_mean_squared_error: 31.6104\n",
      "Epoch 43/200\n",
      "8393/8393 [==============================] - 41s 5ms/step - loss: 1824.5219 - root_mean_squared_error: 42.7144 - val_loss: 782.2860 - val_root_mean_squared_error: 27.9694\n",
      "Epoch 44/200\n",
      "8393/8393 [==============================] - 41s 5ms/step - loss: 1775.6388 - root_mean_squared_error: 42.1383 - val_loss: 816.6632 - val_root_mean_squared_error: 28.5773\n",
      "Epoch 45/200\n"
     ]
    },
    {
     "name": "stdout",
     "output_type": "stream",
     "text": [
      "8393/8393 [==============================] - 41s 5ms/step - loss: 1799.7671 - root_mean_squared_error: 42.4237 - val_loss: 795.5339 - val_root_mean_squared_error: 28.2052\n",
      "Epoch 46/200\n",
      "8393/8393 [==============================] - 41s 5ms/step - loss: 1743.8577 - root_mean_squared_error: 41.7595 - val_loss: 772.1643 - val_root_mean_squared_error: 27.7878\n",
      "Epoch 47/200\n",
      "8393/8393 [==============================] - 41s 5ms/step - loss: 1769.3191 - root_mean_squared_error: 42.0633 - val_loss: 799.1761 - val_root_mean_squared_error: 28.2697\n",
      "Epoch 48/200\n",
      "8393/8393 [==============================] - 41s 5ms/step - loss: 1796.8442 - root_mean_squared_error: 42.3892 - val_loss: 822.5823 - val_root_mean_squared_error: 28.6807\n",
      "Epoch 49/200\n",
      "8393/8393 [==============================] - 41s 5ms/step - loss: 1757.5808 - root_mean_squared_error: 41.9235 - val_loss: 973.8970 - val_root_mean_squared_error: 31.2073\n",
      "Epoch 50/200\n",
      "8393/8393 [==============================] - 41s 5ms/step - loss: 1774.0291 - root_mean_squared_error: 42.1192 - val_loss: 795.0004 - val_root_mean_squared_error: 28.1958\n",
      "Epoch 51/200\n",
      "8393/8393 [==============================] - 41s 5ms/step - loss: 1737.8158 - root_mean_squared_error: 41.6871 - val_loss: 776.9913 - val_root_mean_squared_error: 27.8746\n",
      "Epoch 52/200\n",
      "8393/8393 [==============================] - 41s 5ms/step - loss: 1715.9891 - root_mean_squared_error: 41.4245 - val_loss: 745.0977 - val_root_mean_squared_error: 27.2965\n",
      "Epoch 53/200\n",
      "8393/8393 [==============================] - 41s 5ms/step - loss: 1701.1448 - root_mean_squared_error: 41.2449 - val_loss: 900.1079 - val_root_mean_squared_error: 30.0018\n",
      "Epoch 54/200\n",
      "8393/8393 [==============================] - 41s 5ms/step - loss: 1708.3132 - root_mean_squared_error: 41.3317 - val_loss: 1150.9927 - val_root_mean_squared_error: 33.9263\n",
      "Epoch 55/200\n",
      "8393/8393 [==============================] - 41s 5ms/step - loss: 1745.7581 - root_mean_squared_error: 41.7823 - val_loss: 829.7566 - val_root_mean_squared_error: 28.8055\n",
      "Epoch 56/200\n",
      "8393/8393 [==============================] - 42s 5ms/step - loss: 1757.5762 - root_mean_squared_error: 41.9235 - val_loss: 810.8457 - val_root_mean_squared_error: 28.4754\n",
      "Epoch 57/200\n",
      "8393/8393 [==============================] - 41s 5ms/step - loss: 1702.3895 - root_mean_squared_error: 41.2600 - val_loss: 817.0573 - val_root_mean_squared_error: 28.5842\n",
      "Epoch 58/200\n",
      "8393/8393 [==============================] - 41s 5ms/step - loss: 1706.9188 - root_mean_squared_error: 41.3149 - val_loss: 833.3589 - val_root_mean_squared_error: 28.8680\n",
      "Epoch 59/200\n",
      "8393/8393 [==============================] - 41s 5ms/step - loss: 1701.1862 - root_mean_squared_error: 41.2454 - val_loss: 772.0711 - val_root_mean_squared_error: 27.7862\n",
      "Epoch 60/200\n",
      "8393/8393 [==============================] - 41s 5ms/step - loss: 1676.2012 - root_mean_squared_error: 40.9414 - val_loss: 748.8463 - val_root_mean_squared_error: 27.3651\n",
      "Epoch 61/200\n",
      "8393/8393 [==============================] - 41s 5ms/step - loss: 1676.1521 - root_mean_squared_error: 40.9408 - val_loss: 900.4852 - val_root_mean_squared_error: 30.0081\n",
      "Epoch 62/200\n",
      "8393/8393 [==============================] - 41s 5ms/step - loss: 1648.6520 - root_mean_squared_error: 40.6036 - val_loss: 885.2507 - val_root_mean_squared_error: 29.7532\n",
      "Epoch 63/200\n",
      "8393/8393 [==============================] - 41s 5ms/step - loss: 1669.7798 - root_mean_squared_error: 40.8629 - val_loss: 792.0051 - val_root_mean_squared_error: 28.1426\n",
      "Epoch 64/200\n",
      "8393/8393 [==============================] - 41s 5ms/step - loss: 1673.8331 - root_mean_squared_error: 40.9125 - val_loss: 759.8663 - val_root_mean_squared_error: 27.5657\n",
      "Epoch 65/200\n",
      "8393/8393 [==============================] - 41s 5ms/step - loss: 1648.9714 - root_mean_squared_error: 40.6075 - val_loss: 752.0696 - val_root_mean_squared_error: 27.4239\n",
      "Epoch 66/200\n",
      "8393/8393 [==============================] - 41s 5ms/step - loss: 1635.6676 - root_mean_squared_error: 40.4434 - val_loss: 818.9819 - val_root_mean_squared_error: 28.6179\n",
      "Epoch 67/200\n",
      "8393/8393 [==============================] - 41s 5ms/step - loss: 1671.7107 - root_mean_squared_error: 40.8866 - val_loss: 821.4165 - val_root_mean_squared_error: 28.6604\n",
      "Epoch 68/200\n",
      "8393/8393 [==============================] - 41s 5ms/step - loss: 1633.6820 - root_mean_squared_error: 40.4188 - val_loss: 855.0442 - val_root_mean_squared_error: 29.2411\n",
      "Epoch 69/200\n",
      "8393/8393 [==============================] - 41s 5ms/step - loss: 1630.8911 - root_mean_squared_error: 40.3843 - val_loss: 839.5887 - val_root_mean_squared_error: 28.9757\n",
      "Epoch 70/200\n",
      "8393/8393 [==============================] - 41s 5ms/step - loss: 1639.7531 - root_mean_squared_error: 40.4939 - val_loss: 771.0386 - val_root_mean_squared_error: 27.7676\n",
      "Epoch 71/200\n",
      "8393/8393 [==============================] - 41s 5ms/step - loss: 1615.1858 - root_mean_squared_error: 40.1894 - val_loss: 938.7963 - val_root_mean_squared_error: 30.6398\n",
      "Epoch 72/200\n",
      "8393/8393 [==============================] - 41s 5ms/step - loss: 1671.1166 - root_mean_squared_error: 40.8793 - val_loss: 1025.2526 - val_root_mean_squared_error: 32.0196\n"
     ]
    }
   ],
   "source": [
    "callbacks = [EarlyStopping(monitor='val_loss', patience=20)]\n",
    "            #ReduceLROnPlateau(monitor='val_loss', patience=4, verbose=1, factor=0.6),\n",
    "             #ModelCheckpoint(filepath='best_model.h5', monitor='val_loss', save_best_only=True)]\n",
    "\n",
    "model.compile(optimizer='rmsprop', loss='mean_squared_error', metrics=[tf.keras.metrics.RootMeanSquaredError()])\n",
    "\n",
    "history = model.fit([X_temporal[0],X_static[0]], y[0], \n",
    "          epochs = 200, \n",
    "          batch_size = 64, \n",
    "          validation_data=([X_temporal[1],X_static[1]], y[1]), \n",
    "          callbacks=callbacks)"
   ]
  },
  {
   "cell_type": "code",
   "execution_count": 42,
   "metadata": {},
   "outputs": [],
   "source": [
    "# 8393/8393 [==============================] - 41s 5ms/step - loss: 1671.1166 - root_mean_squared_error: 40.8793 - val_loss: 1025.2526 - val_root_mean_squared_error: 32.0196"
   ]
  },
  {
   "cell_type": "code",
   "execution_count": 31,
   "metadata": {},
   "outputs": [],
   "source": [
    "# #temporal input branch\n",
    "# temporal_input_layer = tf.keras.Input(shape=(timesteps,n_temp_features))\n",
    "# main_rnn_layer = tf.keras.layers.LSTM(64, return_sequences=True, recurrent_dropout=0.2)(temporal_input_layer)\n",
    "\n",
    "# # #demographic input branch\n",
    "# # demographic_input_layer = Input(shape=(5))\n",
    "# # demographic_dense = layers.Dense(16)(demographic_input_layer)\n",
    "# # demographic_dropout = layers.Dropout(0.2)(demographic_dense)\n",
    "\n",
    "# #cases output branch\n",
    "# hidden1 = tf.keras.layers.LSTM(32, return_sequences=True,)(main_rnn_layer)\n",
    "# hidden2 = tf.keras.layers.LSTM(16)(hidden1)\n",
    "# # merge_c = tf.keras.layers.Concatenate(axis=-1)([rnn_c,demographic_dropout])\n",
    "# dense = tf.keras.layers.Dense(128)(hidden2)\n",
    "# dropout = tf.keras.layers.Dropout(0.3)(dense)\n",
    "# cases = tf.keras.layers.Dense(1, activation=tf.keras.layers.LeakyReLU(alpha=0.1),name=\"cases\")(dropout)\n",
    "\n",
    "# # #fatality output branch\n",
    "# # rnn_f = layers.LSTM(32)(main_rnn_layer)\n",
    "# # merge_f = layers.Concatenate(axis=-1)([rnn_f,demographic_dropout])\n",
    "# # dense_f = layers.Dense(128)(merge_f)\n",
    "# # dropout_f = layers.Dropout(0.3)(dense_f)\n",
    "# # fatalities = layers.Dense(1, activation=layers.LeakyReLU(alpha=0.1), name=\"fatalities\")(dropout_f)\n",
    "\n",
    "# model = tf.keras.Model(temporal_input_layer, cases)\n",
    "\n",
    "# # model = Model([temporal_input_layer,demographic_input_layer], [cases,fatalities])\n",
    "\n",
    "# model.summary()"
   ]
  },
  {
   "cell_type": "code",
   "execution_count": 32,
   "metadata": {},
   "outputs": [
    {
     "data": {
      "text/plain": [
       "<matplotlib.legend.Legend at 0x7fa8843add60>"
      ]
     },
     "execution_count": 32,
     "metadata": {},
     "output_type": "execute_result"
    },
    {
     "data": {
      "image/png": "[encoded data removed]",
      "text/plain": [
       "<Figure size 432x288 with 1 Axes>"
      ]
     },
     "metadata": {
      "needs_background": "light"
     },
     "output_type": "display_data"
    }
   ],
   "source": [
    "plt.semilogy(history.history[\"loss\"], label = \"train\")\n",
    "plt.semilogy(history.history[\"val_loss\"], label = \"validation\")\n",
    "plt.title(\"Loss over epoch\")\n",
    "plt.legend()"
   ]
  },
  {
   "cell_type": "code",
   "execution_count": 33,
   "metadata": {},
   "outputs": [
    {
     "data": {
      "text/plain": [
       "<matplotlib.legend.Legend at 0x7fa88ec3db80>"
      ]
     },
     "execution_count": 33,
     "metadata": {},
     "output_type": "execute_result"
    },
    {
     "data": {
      "image/png": "[encoded data removed]",
      "text/plain": [
       "<Figure size 432x288 with 1 Axes>"
      ]
     },
     "metadata": {
      "needs_background": "light"
     },
     "output_type": "display_data"
    }
   ],
   "source": [
    "pred_y = model.predict(test_X)\n",
    "plt.plot(np.arange(0, len(test_y)), pred_y, label = \"predicted\")\n",
    "plt.plot(np.arange(0, len(test_y)), test_y, label = \"actual\")\n",
    "plt.title(\"Prediction on test set\")\n",
    "plt.legend()"
   ]
  },
  {
   "cell_type": "code",
   "execution_count": 40,
   "metadata": {},
   "outputs": [
    {
     "data": {
      "text/plain": [
       "{'loss': [4326.40185546875,\n",
       "  3799.5546875,\n",
       "  3492.197265625,\n",
       "  3276.634765625,\n",
       "  3115.234130859375,\n",
       "  2983.259521484375,\n",
       "  2864.32177734375,\n",
       "  2775.10107421875,\n",
       "  2689.011962890625,\n",
       "  2616.76318359375,\n",
       "  2543.165283203125,\n",
       "  2501.680908203125,\n",
       "  2444.4150390625,\n",
       "  2395.14111328125,\n",
       "  2358.02783203125,\n",
       "  2304.742919921875,\n",
       "  2274.202880859375,\n",
       "  2242.771240234375,\n",
       "  2208.404541015625,\n",
       "  2207.939208984375,\n",
       "  2173.618408203125,\n",
       "  2135.86962890625,\n",
       "  2119.125732421875,\n",
       "  2091.326171875,\n",
       "  2049.888916015625,\n",
       "  2035.1903076171875,\n",
       "  2009.347412109375,\n",
       "  1987.52392578125,\n",
       "  1981.0604248046875,\n",
       "  1960.9979248046875,\n",
       "  1945.12255859375,\n",
       "  1918.6661376953125,\n",
       "  1887.630615234375,\n",
       "  1905.3299560546875,\n",
       "  1900.9232177734375,\n",
       "  1919.2984619140625,\n",
       "  1889.965087890625,\n",
       "  1908.317138671875,\n",
       "  1854.359619140625,\n",
       "  1819.0352783203125,\n",
       "  1806.1494140625,\n",
       "  1822.726806640625,\n",
       "  1824.5218505859375,\n",
       "  1775.6387939453125,\n",
       "  1799.76708984375,\n",
       "  1743.857666015625,\n",
       "  1769.319091796875,\n",
       "  1796.84423828125,\n",
       "  1757.580810546875,\n",
       "  1774.029052734375,\n",
       "  1737.8157958984375,\n",
       "  1715.9891357421875,\n",
       "  1701.144775390625,\n",
       "  1708.313232421875,\n",
       "  1745.758056640625,\n",
       "  1757.576171875,\n",
       "  1702.3895263671875,\n",
       "  1706.9188232421875,\n",
       "  1701.1861572265625,\n",
       "  1676.201171875,\n",
       "  1676.152099609375,\n",
       "  1648.6519775390625,\n",
       "  1669.77978515625,\n",
       "  1673.8331298828125,\n",
       "  1648.971435546875,\n",
       "  1635.6676025390625,\n",
       "  1671.710693359375,\n",
       "  1633.6820068359375,\n",
       "  1630.89111328125,\n",
       "  1639.7530517578125,\n",
       "  1615.185791015625,\n",
       "  1671.1165771484375],\n",
       " 'root_mean_squared_error': [65.775390625,\n",
       "  61.64052963256836,\n",
       "  59.09481430053711,\n",
       "  57.24189758300781,\n",
       "  55.81428146362305,\n",
       "  54.619224548339844,\n",
       "  53.51935958862305,\n",
       "  52.679229736328125,\n",
       "  51.855682373046875,\n",
       "  51.1543083190918,\n",
       "  50.429805755615234,\n",
       "  50.016807556152344,\n",
       "  49.44102478027344,\n",
       "  48.94017791748047,\n",
       "  48.55952835083008,\n",
       "  48.00774002075195,\n",
       "  47.688602447509766,\n",
       "  47.357906341552734,\n",
       "  46.9936637878418,\n",
       "  46.988712310791016,\n",
       "  46.6220817565918,\n",
       "  46.21546936035156,\n",
       "  46.03396224975586,\n",
       "  45.73101806640625,\n",
       "  45.275699615478516,\n",
       "  45.11308288574219,\n",
       "  44.82574462890625,\n",
       "  44.5816535949707,\n",
       "  44.50910568237305,\n",
       "  44.28315734863281,\n",
       "  44.10354232788086,\n",
       "  43.802581787109375,\n",
       "  43.44687271118164,\n",
       "  43.65008544921875,\n",
       "  43.599578857421875,\n",
       "  43.80979919433594,\n",
       "  43.47372817993164,\n",
       "  43.684288024902344,\n",
       "  43.06227493286133,\n",
       "  42.650150299072266,\n",
       "  42.498817443847656,\n",
       "  42.69340515136719,\n",
       "  42.714420318603516,\n",
       "  42.138328552246094,\n",
       "  42.42366027832031,\n",
       "  41.759521484375,\n",
       "  42.06327438354492,\n",
       "  42.389198303222656,\n",
       "  41.92351150512695,\n",
       "  42.119224548339844,\n",
       "  41.68711853027344,\n",
       "  41.42449951171875,\n",
       "  41.244937896728516,\n",
       "  41.33174514770508,\n",
       "  41.78226852416992,\n",
       "  41.92345428466797,\n",
       "  41.26002502441406,\n",
       "  41.31487274169922,\n",
       "  41.24543762207031,\n",
       "  40.941436767578125,\n",
       "  40.94083786010742,\n",
       "  40.60359573364258,\n",
       "  40.862937927246094,\n",
       "  40.912506103515625,\n",
       "  40.60752868652344,\n",
       "  40.44338607788086,\n",
       "  40.886558532714844,\n",
       "  40.41883087158203,\n",
       "  40.38429260253906,\n",
       "  40.493865966796875,\n",
       "  40.18937301635742,\n",
       "  40.87929153442383],\n",
       " 'val_loss': [1715.0325927734375,\n",
       "  1452.1385498046875,\n",
       "  1320.0037841796875,\n",
       "  1245.5206298828125,\n",
       "  1180.8294677734375,\n",
       "  1109.1392822265625,\n",
       "  1060.608642578125,\n",
       "  995.9515991210938,\n",
       "  965.9271850585938,\n",
       "  976.8408203125,\n",
       "  928.0513916015625,\n",
       "  886.40283203125,\n",
       "  963.9133911132812,\n",
       "  948.4579467773438,\n",
       "  885.782470703125,\n",
       "  941.0657958984375,\n",
       "  865.701171875,\n",
       "  861.5869750976562,\n",
       "  860.7252807617188,\n",
       "  976.2113037109375,\n",
       "  912.2608642578125,\n",
       "  875.9960327148438,\n",
       "  811.7446899414062,\n",
       "  788.2741088867188,\n",
       "  770.388916015625,\n",
       "  1016.8984375,\n",
       "  828.3173828125,\n",
       "  862.685791015625,\n",
       "  809.9220581054688,\n",
       "  833.324951171875,\n",
       "  820.27978515625,\n",
       "  876.1952514648438,\n",
       "  797.53662109375,\n",
       "  770.8804321289062,\n",
       "  917.5078125,\n",
       "  894.321533203125,\n",
       "  990.4962158203125,\n",
       "  1046.128173828125,\n",
       "  756.569580078125,\n",
       "  911.0494384765625,\n",
       "  829.5928955078125,\n",
       "  999.2144775390625,\n",
       "  782.2860107421875,\n",
       "  816.6632080078125,\n",
       "  795.533935546875,\n",
       "  772.164306640625,\n",
       "  799.1760864257812,\n",
       "  822.5823364257812,\n",
       "  973.89697265625,\n",
       "  795.0003662109375,\n",
       "  776.9912719726562,\n",
       "  745.0977172851562,\n",
       "  900.10791015625,\n",
       "  1150.99267578125,\n",
       "  829.756591796875,\n",
       "  810.845703125,\n",
       "  817.0572509765625,\n",
       "  833.3589477539062,\n",
       "  772.0711059570312,\n",
       "  748.8463134765625,\n",
       "  900.4851684570312,\n",
       "  885.2506713867188,\n",
       "  792.005126953125,\n",
       "  759.8663330078125,\n",
       "  752.0696411132812,\n",
       "  818.98193359375,\n",
       "  821.41650390625,\n",
       "  855.044189453125,\n",
       "  839.5887451171875,\n",
       "  771.0386352539062,\n",
       "  938.7963256835938,\n",
       "  1025.2525634765625],\n",
       " 'val_root_mean_squared_error': [41.4129524230957,\n",
       "  38.106937408447266,\n",
       "  36.33185577392578,\n",
       "  35.291934967041016,\n",
       "  34.36320114135742,\n",
       "  33.303741455078125,\n",
       "  32.566986083984375,\n",
       "  31.558700561523438,\n",
       "  31.079368591308594,\n",
       "  31.254453659057617,\n",
       "  30.46393585205078,\n",
       "  29.772518157958984,\n",
       "  31.046955108642578,\n",
       "  30.79704475402832,\n",
       "  29.76209831237793,\n",
       "  30.676795959472656,\n",
       "  29.422800064086914,\n",
       "  29.352802276611328,\n",
       "  29.338119506835938,\n",
       "  31.244380950927734,\n",
       "  30.203657150268555,\n",
       "  29.597230911254883,\n",
       "  28.491132736206055,\n",
       "  28.07621955871582,\n",
       "  27.75588035583496,\n",
       "  31.888845443725586,\n",
       "  28.78050422668457,\n",
       "  29.37151336669922,\n",
       "  28.459129333496094,\n",
       "  28.867368698120117,\n",
       "  28.640527725219727,\n",
       "  29.600595474243164,\n",
       "  28.240690231323242,\n",
       "  27.764734268188477,\n",
       "  30.29039192199707,\n",
       "  29.905208587646484,\n",
       "  31.472148895263672,\n",
       "  32.34390640258789,\n",
       "  27.505809783935547,\n",
       "  30.183595657348633,\n",
       "  28.802654266357422,\n",
       "  31.610353469848633,\n",
       "  27.969375610351562,\n",
       "  28.577320098876953,\n",
       "  28.205211639404297,\n",
       "  27.787843704223633,\n",
       "  28.269702911376953,\n",
       "  28.680696487426758,\n",
       "  31.20732307434082,\n",
       "  28.195751190185547,\n",
       "  27.874563217163086,\n",
       "  27.296478271484375,\n",
       "  30.001798629760742,\n",
       "  33.92628479003906,\n",
       "  28.805496215820312,\n",
       "  28.475353240966797,\n",
       "  28.584213256835938,\n",
       "  28.867956161499023,\n",
       "  27.78616714477539,\n",
       "  27.36505699157715,\n",
       "  30.008085250854492,\n",
       "  29.753162384033203,\n",
       "  28.14258575439453,\n",
       "  27.565673828125,\n",
       "  27.423887252807617,\n",
       "  28.617860794067383,\n",
       "  28.660364151000977,\n",
       "  29.241138458251953,\n",
       "  28.975658416748047,\n",
       "  27.767581939697266,\n",
       "  30.63978385925293,\n",
       "  32.01956558227539]}"
      ]
     },
     "execution_count": 40,
     "metadata": {},
     "output_type": "execute_result"
    }
   ],
   "source": [
    "history.history"
   ]
  },
  {
   "cell_type": "code",
   "execution_count": 41,
   "metadata": {
    "cell_id": "00019-33680db3-57bd-4de7-a6a9-3e657e184577",
    "deepnote_cell_type": "code",
    "tags": []
   },
   "outputs": [
    {
     "data": {
      "text/plain": [
       "<matplotlib.legend.Legend at 0x7fa8838b2d30>"
      ]
     },
     "execution_count": 41,
     "metadata": {},
     "output_type": "execute_result"
    },
    {
     "data": {
      "image/png": "[encoded data removed]",
      "text/plain": [
       "<Figure size 432x288 with 1 Axes>"
      ]
     },
     "metadata": {
      "needs_background": "light"
     },
     "output_type": "display_data"
    }
   ],
   "source": [
    "plt.title(\"Loss for NN_model\")\n",
    "plt.semilogy(history.history['loss'], label='Train', color='#FF9A98')\n",
    "plt.legend()\n",
    "plt.xlabel('Epochs')\n",
    "plt.ylabel('MSE')\n",
    "plt.legend(loc = \"lower right\")"
   ]
  },
  {
   "cell_type": "code",
   "execution_count": null,
   "metadata": {},
   "outputs": [],
   "source": []
  }
 ],
 "metadata": {
  "deepnote_execution_queue": [],
  "deepnote_notebook_id": "e95794eb-fcaa-495f-8219-862b6cd9100f",
  "kernelspec": {
   "display_name": "Python 3",
   "language": "python",
   "name": "python3"
  },
  "language_info": {
   "codemirror_mode": {
    "name": "ipython",
    "version": 3
   },
   "file_extension": ".py",
   "mimetype": "text/x-python",
   "name": "python",
   "nbconvert_exporter": "python",
   "pygments_lexer": "ipython3",
   "version": "3.8.2"
  }
 },
 "nbformat": 4,
 "nbformat_minor": 2
}
