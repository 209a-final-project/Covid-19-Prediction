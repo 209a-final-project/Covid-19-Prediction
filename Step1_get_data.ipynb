{
 "cells": [
  {
   "cell_type": "markdown",
   "metadata": {
    "cell_id": "00000-476ed898-d05b-4736-9b6f-f0338a9fbe27",
    "tags": []
   },
   "source": [
    "# 1. Social Distance Data (Mobility Data)\n",
    "* Provided by Maryland Transportation Institute and Center for Advanced Transportation Technology Laboratory at the University of Maryland\n",
    "* Access through this link: https://data.bts.gov/Research-and-Statistics/Trips-by-Distance/w96p-f2qv\n",
    "* Downloaded data would be stored in ```data/distance_data/``` directory"
   ]
  },
  {
   "cell_type": "code",
   "execution_count": 1,
   "metadata": {
    "cell_id": "00000-81d50ce4-c2b1-4245-b143-4a42ac79df7d",
    "execution_millis": 4942,
    "execution_start": 1605353179940,
    "output_cleared": false,
    "source_hash": "c517b403",
    "tags": []
   },
   "outputs": [
    {
     "name": "stdout",
     "output_type": "stream",
     "text": [
      "Requirement already satisfied: sodapy in /usr/local/lib/python3.7/site-packages (2.1.0)\n",
      "Requirement already satisfied: requests>=2.20.0 in /usr/local/lib/python3.7/site-packages (from sodapy) (2.25.0)\n",
      "Requirement already satisfied: certifi>=2017.4.17 in /usr/local/lib/python3.7/site-packages (from requests>=2.20.0->sodapy) (2020.6.20)\n",
      "Requirement already satisfied: urllib3<1.27,>=1.21.1 in /usr/local/lib/python3.7/site-packages (from requests>=2.20.0->sodapy) (1.26.2)\n",
      "Requirement already satisfied: idna<3,>=2.5 in /usr/local/lib/python3.7/site-packages (from requests>=2.20.0->sodapy) (2.10)\n",
      "Requirement already satisfied: chardet<4,>=3.0.2 in /usr/local/lib/python3.7/site-packages (from requests>=2.20.0->sodapy) (3.0.4)\n",
      "Requirement already satisfied: glob3 in /usr/local/lib/python3.7/site-packages (0.0.1)\n",
      "Requirement already satisfied: tqdm in /Users/mac/opt/anaconda3/lib/python3.7/site-packages (4.36.1)\n",
      "Collecting numpy\n",
      "  Using cached https://files.pythonhosted.org/packages/46/09/1bae812d4afa67e365d3d1dbdc0e9071ba7678611f52b49353d6104ae8ff/numpy-1.19.4-cp37-cp37m-macosx_10_9_x86_64.whl\n",
      "\u001b[31mERROR: senta 2.0.0 has requirement numpy==1.14.5, but you'll have numpy 1.19.4 which is incompatible.\u001b[0m\n",
      "Installing collected packages: numpy\n",
      "  Found existing installation: numpy 1.14.5\n",
      "    Uninstalling numpy-1.14.5:\n",
      "      Successfully uninstalled numpy-1.14.5\n",
      "Successfully installed numpy-1.19.4\n"
     ]
    }
   ],
   "source": [
    "!pip3 install sodapy\n",
    "!pip3 install glob3\n",
    "!pip install tqdm\n",
    "!pip install --upgrade numpy"
   ]
  },
  {
   "cell_type": "code",
   "execution_count": 2,
   "metadata": {
    "cell_id": "00001-250b2efb-1bdf-45a0-8128-b7d4a6bc96ae",
    "execution_millis": 4,
    "execution_start": 1605353188311,
    "output_cleared": false,
    "source_hash": "a1674339",
    "tags": []
   },
   "outputs": [],
   "source": [
    "# Package for downloading the data from the specific API\n",
    "from sodapy import Socrata \n",
    "from glob import glob"
   ]
  },
  {
   "cell_type": "code",
   "execution_count": 3,
   "metadata": {
    "cell_id": "00000-ff2c32e0-91ac-4426-ba18-8a8a39434ccf",
    "execution_millis": 859,
    "execution_start": 1605353190075,
    "output_cleared": false,
    "source_hash": "71a9e6ea",
    "tags": []
   },
   "outputs": [],
   "source": [
    "import pandas as pd\n",
    "import pandas as pd\n",
    "import numpy as np\n",
    "from tqdm import tqdm\n",
    "\n",
    "import datetime\n",
    "\n",
    "import matplotlib.pyplot as plt\n",
    "from matplotlib import dates"
   ]
  },
  {
   "cell_type": "code",
   "execution_count": 4,
   "metadata": {
    "cell_id": "00003-352e9f7c-b274-413d-a70b-300062a19428",
    "tags": []
   },
   "outputs": [
    {
     "name": "stdout",
     "output_type": "stream",
     "text": [
      "Percentage downloaded:\n",
      "0.0,0.023,0.047,0.07,0.093,0.117,0.14,0.164,0.187,0.21,0.234,0.257,0.28,0.304,0.327,0.35,0.374,0.397,0.421,0.444,0.467,0.491,0.514,0.537,0.561,0.584,0.607,0.631,0.654,0.678,0.701,0.724,0.748,0.771,0.794,0.818,0.841,0.864,0.888,0.911,0.935,0.958,0.981,"
     ]
    }
   ],
   "source": [
    "# create or pass in the folder path that stores the data files\n",
    "# Would take a long time to run \n",
    "data_folder_path = 'data/distance_data/'\n",
    "\n",
    "client = Socrata(\"data.bts.gov\", 'CgejIICiuJS7QETgHZiYeE04C')\n",
    "\n",
    "def get_all_data(start = 0, end = 2139980, step = 50000):\n",
    "    \"\"\"This function downloads the whole data in 43 separate files\"\"\"\n",
    "    print('Percentage downloaded:')\n",
    "    for i in range((end - start)//step+1):\n",
    "        offset = i*step\n",
    "        print(round(offset/end,3),end=',')\n",
    "        one_part_df = pd.DataFrame.from_records(client.get(\"w96p-f2qv\", limit = step, offset = offset))\n",
    "        one_part_df.to_csv(data_folder_path+'data_'+str(offset).zfill(7)+'.csv',index=False)\n",
    "\n",
    "get_all_data()\n"
   ]
  },
  {
   "cell_type": "code",
   "execution_count": 5,
   "metadata": {
    "cell_id": "00001-29a3d2c5-84ac-4311-bf74-e3dc6a34d132",
    "execution_millis": 17557,
    "execution_start": 1605353193741,
    "output_cleared": false,
    "source_hash": "614a0ba7",
    "tags": []
   },
   "outputs": [
    {
     "name": "stdout",
     "output_type": "stream",
     "text": [
      "0.0, "
     ]
    },
    {
     "name": "stderr",
     "output_type": "stream",
     "text": [
      "/Users/mac/opt/anaconda3/lib/python3.7/site-packages/pandas/core/frame.py:7123: FutureWarning: Sorting because non-concatenation axis is not aligned. A future version\n",
      "of pandas will change to not sort by default.\n",
      "\n",
      "To accept the future behavior, pass 'sort=False'.\n",
      "\n",
      "To retain the current behavior and silence the warning, pass 'sort=True'.\n",
      "\n",
      "  sort=sort,\n"
     ]
    },
    {
     "name": "stdout",
     "output_type": "stream",
     "text": [
      "0.116, 0.233, 0.349, 0.465, 0.581, 0.698, 0.814, 0.93, "
     ]
    }
   ],
   "source": [
    "\n",
    "data_folder_path = 'data/distance_data/'\n",
    "\n",
    "def aggregate_data_files(data_folder_path = data_folder_path):\n",
    "    \"\"\"This function combines the 43 data files and returns a single dataframe\"\"\"\n",
    "    df = pd.DataFrame()\n",
    "    paths = sorted(glob(data_folder_path+'data_*'))\n",
    "    for i in range(len(paths)):\n",
    "        if i%5 == 0:\n",
    "            print(round(i/len(paths),3),end=', ')\n",
    "        df = df.append(pd.read_csv(paths[i]),ignore_index=True)\n",
    "    return df\n",
    "\n",
    "df = aggregate_data_files()"
   ]
  },
  {
   "cell_type": "code",
   "execution_count": 6,
   "metadata": {
    "cell_id": "00002-fe220469-280d-460d-8315-9771ecf9432d",
    "execution_millis": 1,
    "execution_start": 1605353253670,
    "output_cleared": false,
    "source_hash": "a95c318e",
    "tags": []
   },
   "outputs": [
    {
     "name": "stdout",
     "output_type": "stream",
     "text": [
      "Index(['county', 'county_fips', 'date', 'level', 'pop_not_stay_at_home',\n",
      "       'pop_stay_at_home', 'state_code', 'state_fips', 'trips', 'trips_1',\n",
      "       'trips_100_250', 'trips_10_25', 'trips_1_3', 'trips_250_500',\n",
      "       'trips_25_50', 'trips_3_5', 'trips_500', 'trips_50_100', 'trips_5_10'],\n",
      "      dtype='object')\n",
      "(2150000, 19)\n"
     ]
    }
   ],
   "source": [
    "print(df.columns)\n",
    "print(df.shape)"
   ]
  },
  {
   "cell_type": "code",
   "execution_count": 7,
   "metadata": {
    "cell_id": "00003-2a715d5d-26e1-4661-96fa-7a02ee226360",
    "execution_millis": 20,
    "execution_start": 1605353259822,
    "output_cleared": false,
    "source_hash": "460f028f",
    "tags": []
   },
   "outputs": [
    {
     "data": {
      "text/html": [
       "<div>\n",
       "<style scoped>\n",
       "    .dataframe tbody tr th:only-of-type {\n",
       "        vertical-align: middle;\n",
       "    }\n",
       "\n",
       "    .dataframe tbody tr th {\n",
       "        vertical-align: top;\n",
       "    }\n",
       "\n",
       "    .dataframe thead th {\n",
       "        text-align: right;\n",
       "    }\n",
       "</style>\n",
       "<table border=\"1\" class=\"dataframe\">\n",
       "  <thead>\n",
       "    <tr style=\"text-align: right;\">\n",
       "      <th></th>\n",
       "      <th>county</th>\n",
       "      <th>county_fips</th>\n",
       "      <th>date</th>\n",
       "      <th>level</th>\n",
       "      <th>pop_not_stay_at_home</th>\n",
       "      <th>pop_stay_at_home</th>\n",
       "      <th>state_code</th>\n",
       "      <th>state_fips</th>\n",
       "      <th>trips</th>\n",
       "      <th>trips_1</th>\n",
       "      <th>trips_100_250</th>\n",
       "      <th>trips_10_25</th>\n",
       "      <th>trips_1_3</th>\n",
       "      <th>trips_250_500</th>\n",
       "      <th>trips_25_50</th>\n",
       "      <th>trips_3_5</th>\n",
       "      <th>trips_500</th>\n",
       "      <th>trips_50_100</th>\n",
       "      <th>trips_5_10</th>\n",
       "    </tr>\n",
       "  </thead>\n",
       "  <tbody>\n",
       "    <tr>\n",
       "      <td>0</td>\n",
       "      <td>Putnam County</td>\n",
       "      <td>29171.0</td>\n",
       "      <td>2019-01-01T00:00:00.000</td>\n",
       "      <td>County</td>\n",
       "      <td>3587.0</td>\n",
       "      <td>1155.0</td>\n",
       "      <td>MO</td>\n",
       "      <td>29.0</td>\n",
       "      <td>12429.0</td>\n",
       "      <td>2807.0</td>\n",
       "      <td>101.0</td>\n",
       "      <td>1953.0</td>\n",
       "      <td>3642.0</td>\n",
       "      <td>54.0</td>\n",
       "      <td>1058.0</td>\n",
       "      <td>1272.0</td>\n",
       "      <td>19.0</td>\n",
       "      <td>283.0</td>\n",
       "      <td>1240.0</td>\n",
       "    </tr>\n",
       "  </tbody>\n",
       "</table>\n",
       "</div>"
      ],
      "text/plain": [
       "          county  county_fips                     date   level  \\\n",
       "0  Putnam County      29171.0  2019-01-01T00:00:00.000  County   \n",
       "\n",
       "   pop_not_stay_at_home  pop_stay_at_home state_code  state_fips    trips  \\\n",
       "0                3587.0            1155.0         MO        29.0  12429.0   \n",
       "\n",
       "   trips_1  trips_100_250  trips_10_25  trips_1_3  trips_250_500  trips_25_50  \\\n",
       "0   2807.0          101.0       1953.0     3642.0           54.0       1058.0   \n",
       "\n",
       "   trips_3_5  trips_500  trips_50_100  trips_5_10  \n",
       "0     1272.0       19.0         283.0      1240.0  "
      ]
     },
     "execution_count": 7,
     "metadata": {},
     "output_type": "execute_result"
    }
   ],
   "source": [
    "df.head(1)"
   ]
  },
  {
   "cell_type": "code",
   "execution_count": 8,
   "metadata": {
    "cell_id": "00007-9ae3b25e-a54f-4ed0-835e-1e93afbc66b9",
    "execution_millis": 29201,
    "execution_start": 1605353267293,
    "output_cleared": false,
    "source_hash": "29cdd973",
    "tags": []
   },
   "outputs": [],
   "source": [
    "df[\"only_date\"] = df[\"date\"].apply(lambda x: datetime.datetime.strptime(x,'%Y-%m-%dT%H:%M:%S.%f').strftime('%m/%d'))\n",
    "df[\"weekday\"] = pd.to_datetime(df[\"date\"]).dt.weekday"
   ]
  },
  {
   "cell_type": "code",
   "execution_count": 9,
   "metadata": {
    "cell_id": "00005-ee2acad8-b038-41b3-8be6-cdce696dacc4",
    "execution_millis": 2293,
    "execution_start": 1605353296542,
    "output_cleared": false,
    "source_hash": "ed55f4d6",
    "tags": []
   },
   "outputs": [
    {
     "data": {
      "text/html": [
       "<div>\n",
       "<style scoped>\n",
       "    .dataframe tbody tr th:only-of-type {\n",
       "        vertical-align: middle;\n",
       "    }\n",
       "\n",
       "    .dataframe tbody tr th {\n",
       "        vertical-align: top;\n",
       "    }\n",
       "\n",
       "    .dataframe thead th {\n",
       "        text-align: right;\n",
       "    }\n",
       "</style>\n",
       "<table border=\"1\" class=\"dataframe\">\n",
       "  <thead>\n",
       "    <tr style=\"text-align: right;\">\n",
       "      <th></th>\n",
       "      <th>county_fips</th>\n",
       "      <th>pop_not_stay_at_home</th>\n",
       "      <th>pop_stay_at_home</th>\n",
       "      <th>state_fips</th>\n",
       "      <th>trips</th>\n",
       "      <th>trips_1</th>\n",
       "      <th>trips_100_250</th>\n",
       "      <th>trips_10_25</th>\n",
       "      <th>trips_1_3</th>\n",
       "      <th>trips_250_500</th>\n",
       "      <th>trips_25_50</th>\n",
       "      <th>trips_3_5</th>\n",
       "      <th>trips_500</th>\n",
       "      <th>trips_50_100</th>\n",
       "      <th>trips_5_10</th>\n",
       "      <th>weekday</th>\n",
       "    </tr>\n",
       "  </thead>\n",
       "  <tbody>\n",
       "    <tr>\n",
       "      <td>count</td>\n",
       "      <td>2.115160e+06</td>\n",
       "      <td>2.126992e+06</td>\n",
       "      <td>2.126992e+06</td>\n",
       "      <td>2.149330e+06</td>\n",
       "      <td>2.126992e+06</td>\n",
       "      <td>2.126992e+06</td>\n",
       "      <td>2.126992e+06</td>\n",
       "      <td>2.126992e+06</td>\n",
       "      <td>2.126992e+06</td>\n",
       "      <td>2.126992e+06</td>\n",
       "      <td>2.126992e+06</td>\n",
       "      <td>2.126992e+06</td>\n",
       "      <td>2.126992e+06</td>\n",
       "      <td>2.126992e+06</td>\n",
       "      <td>2.126992e+06</td>\n",
       "      <td>2.150000e+06</td>\n",
       "    </tr>\n",
       "    <tr>\n",
       "      <td>mean</td>\n",
       "      <td>3.037765e+04</td>\n",
       "      <td>2.426011e+05</td>\n",
       "      <td>6.654904e+04</td>\n",
       "      <td>3.025320e+01</td>\n",
       "      <td>1.133885e+06</td>\n",
       "      <td>2.771865e+05</td>\n",
       "      <td>7.253096e+03</td>\n",
       "      <td>1.733432e+05</td>\n",
       "      <td>2.846480e+05</td>\n",
       "      <td>1.669321e+03</td>\n",
       "      <td>5.586695e+04</td>\n",
       "      <td>1.389604e+05</td>\n",
       "      <td>1.526471e+03</td>\n",
       "      <td>1.773042e+04</td>\n",
       "      <td>1.757005e+05</td>\n",
       "      <td>2.996802e+00</td>\n",
       "    </tr>\n",
       "    <tr>\n",
       "      <td>std</td>\n",
       "      <td>1.516242e+04</td>\n",
       "      <td>4.655739e+06</td>\n",
       "      <td>1.291326e+06</td>\n",
       "      <td>1.515376e+01</td>\n",
       "      <td>2.208298e+07</td>\n",
       "      <td>5.389963e+06</td>\n",
       "      <td>1.423435e+05</td>\n",
       "      <td>3.402088e+06</td>\n",
       "      <td>5.553474e+06</td>\n",
       "      <td>3.292714e+04</td>\n",
       "      <td>1.085626e+06</td>\n",
       "      <td>2.712088e+06</td>\n",
       "      <td>3.414306e+04</td>\n",
       "      <td>3.420851e+05</td>\n",
       "      <td>3.437073e+06</td>\n",
       "      <td>1.999730e+00</td>\n",
       "    </tr>\n",
       "    <tr>\n",
       "      <td>min</td>\n",
       "      <td>1.001000e+03</td>\n",
       "      <td>-3.800000e+01</td>\n",
       "      <td>8.000000e+00</td>\n",
       "      <td>1.000000e+00</td>\n",
       "      <td>2.200000e+02</td>\n",
       "      <td>0.000000e+00</td>\n",
       "      <td>0.000000e+00</td>\n",
       "      <td>0.000000e+00</td>\n",
       "      <td>0.000000e+00</td>\n",
       "      <td>0.000000e+00</td>\n",
       "      <td>0.000000e+00</td>\n",
       "      <td>-1.080000e+02</td>\n",
       "      <td>0.000000e+00</td>\n",
       "      <td>0.000000e+00</td>\n",
       "      <td>0.000000e+00</td>\n",
       "      <td>0.000000e+00</td>\n",
       "    </tr>\n",
       "    <tr>\n",
       "      <td>25%</td>\n",
       "      <td>1.817500e+04</td>\n",
       "      <td>9.293000e+03</td>\n",
       "      <td>2.138000e+03</td>\n",
       "      <td>1.800000e+01</td>\n",
       "      <td>4.260100e+04</td>\n",
       "      <td>9.053000e+03</td>\n",
       "      <td>3.710000e+02</td>\n",
       "      <td>6.777000e+03</td>\n",
       "      <td>9.590000e+03</td>\n",
       "      <td>5.600000e+01</td>\n",
       "      <td>3.352000e+03</td>\n",
       "      <td>4.049000e+03</td>\n",
       "      <td>1.800000e+01</td>\n",
       "      <td>1.168000e+03</td>\n",
       "      <td>5.549000e+03</td>\n",
       "      <td>1.000000e+00</td>\n",
       "    </tr>\n",
       "    <tr>\n",
       "      <td>50%</td>\n",
       "      <td>2.917500e+04</td>\n",
       "      <td>2.184800e+04</td>\n",
       "      <td>5.056000e+03</td>\n",
       "      <td>2.900000e+01</td>\n",
       "      <td>1.024200e+05</td>\n",
       "      <td>2.207500e+04</td>\n",
       "      <td>8.750000e+02</td>\n",
       "      <td>1.620300e+04</td>\n",
       "      <td>2.543300e+04</td>\n",
       "      <td>1.670000e+02</td>\n",
       "      <td>7.233000e+03</td>\n",
       "      <td>1.164700e+04</td>\n",
       "      <td>6.700000e+01</td>\n",
       "      <td>2.574000e+03</td>\n",
       "      <td>1.433900e+04</td>\n",
       "      <td>3.000000e+00</td>\n",
       "    </tr>\n",
       "    <tr>\n",
       "      <td>75%</td>\n",
       "      <td>4.508100e+04</td>\n",
       "      <td>5.956500e+04</td>\n",
       "      <td>1.486100e+04</td>\n",
       "      <td>4.500000e+01</td>\n",
       "      <td>2.821892e+05</td>\n",
       "      <td>6.228300e+04</td>\n",
       "      <td>2.231000e+03</td>\n",
       "      <td>4.298600e+04</td>\n",
       "      <td>7.328000e+04</td>\n",
       "      <td>4.720000e+02</td>\n",
       "      <td>1.714200e+04</td>\n",
       "      <td>3.515600e+04</td>\n",
       "      <td>2.580000e+02</td>\n",
       "      <td>5.958000e+03</td>\n",
       "      <td>4.188700e+04</td>\n",
       "      <td>5.000000e+00</td>\n",
       "    </tr>\n",
       "    <tr>\n",
       "      <td>max</td>\n",
       "      <td>5.604500e+04</td>\n",
       "      <td>2.737400e+08</td>\n",
       "      <td>1.102118e+08</td>\n",
       "      <td>5.600000e+01</td>\n",
       "      <td>1.569053e+09</td>\n",
       "      <td>4.227002e+08</td>\n",
       "      <td>1.447698e+07</td>\n",
       "      <td>2.565096e+08</td>\n",
       "      <td>4.051305e+08</td>\n",
       "      <td>3.651375e+06</td>\n",
       "      <td>7.636732e+07</td>\n",
       "      <td>1.980184e+08</td>\n",
       "      <td>5.003062e+06</td>\n",
       "      <td>2.553974e+07</td>\n",
       "      <td>2.526118e+08</td>\n",
       "      <td>6.000000e+00</td>\n",
       "    </tr>\n",
       "  </tbody>\n",
       "</table>\n",
       "</div>"
      ],
      "text/plain": [
       "        county_fips  pop_not_stay_at_home  pop_stay_at_home    state_fips  \\\n",
       "count  2.115160e+06          2.126992e+06      2.126992e+06  2.149330e+06   \n",
       "mean   3.037765e+04          2.426011e+05      6.654904e+04  3.025320e+01   \n",
       "std    1.516242e+04          4.655739e+06      1.291326e+06  1.515376e+01   \n",
       "min    1.001000e+03         -3.800000e+01      8.000000e+00  1.000000e+00   \n",
       "25%    1.817500e+04          9.293000e+03      2.138000e+03  1.800000e+01   \n",
       "50%    2.917500e+04          2.184800e+04      5.056000e+03  2.900000e+01   \n",
       "75%    4.508100e+04          5.956500e+04      1.486100e+04  4.500000e+01   \n",
       "max    5.604500e+04          2.737400e+08      1.102118e+08  5.600000e+01   \n",
       "\n",
       "              trips       trips_1  trips_100_250   trips_10_25     trips_1_3  \\\n",
       "count  2.126992e+06  2.126992e+06   2.126992e+06  2.126992e+06  2.126992e+06   \n",
       "mean   1.133885e+06  2.771865e+05   7.253096e+03  1.733432e+05  2.846480e+05   \n",
       "std    2.208298e+07  5.389963e+06   1.423435e+05  3.402088e+06  5.553474e+06   \n",
       "min    2.200000e+02  0.000000e+00   0.000000e+00  0.000000e+00  0.000000e+00   \n",
       "25%    4.260100e+04  9.053000e+03   3.710000e+02  6.777000e+03  9.590000e+03   \n",
       "50%    1.024200e+05  2.207500e+04   8.750000e+02  1.620300e+04  2.543300e+04   \n",
       "75%    2.821892e+05  6.228300e+04   2.231000e+03  4.298600e+04  7.328000e+04   \n",
       "max    1.569053e+09  4.227002e+08   1.447698e+07  2.565096e+08  4.051305e+08   \n",
       "\n",
       "       trips_250_500   trips_25_50     trips_3_5     trips_500  trips_50_100  \\\n",
       "count   2.126992e+06  2.126992e+06  2.126992e+06  2.126992e+06  2.126992e+06   \n",
       "mean    1.669321e+03  5.586695e+04  1.389604e+05  1.526471e+03  1.773042e+04   \n",
       "std     3.292714e+04  1.085626e+06  2.712088e+06  3.414306e+04  3.420851e+05   \n",
       "min     0.000000e+00  0.000000e+00 -1.080000e+02  0.000000e+00  0.000000e+00   \n",
       "25%     5.600000e+01  3.352000e+03  4.049000e+03  1.800000e+01  1.168000e+03   \n",
       "50%     1.670000e+02  7.233000e+03  1.164700e+04  6.700000e+01  2.574000e+03   \n",
       "75%     4.720000e+02  1.714200e+04  3.515600e+04  2.580000e+02  5.958000e+03   \n",
       "max     3.651375e+06  7.636732e+07  1.980184e+08  5.003062e+06  2.553974e+07   \n",
       "\n",
       "         trips_5_10       weekday  \n",
       "count  2.126992e+06  2.150000e+06  \n",
       "mean   1.757005e+05  2.996802e+00  \n",
       "std    3.437073e+06  1.999730e+00  \n",
       "min    0.000000e+00  0.000000e+00  \n",
       "25%    5.549000e+03  1.000000e+00  \n",
       "50%    1.433900e+04  3.000000e+00  \n",
       "75%    4.188700e+04  5.000000e+00  \n",
       "max    2.526118e+08  6.000000e+00  "
      ]
     },
     "execution_count": 9,
     "metadata": {},
     "output_type": "execute_result"
    }
   ],
   "source": [
    "df[\"date\"] = pd.to_datetime(df[\"date\"])\n",
    "df.describe()"
   ]
  },
  {
   "cell_type": "code",
   "execution_count": 10,
   "metadata": {
    "cell_id": "00006-fe6b5520-5408-4cd2-b378-9918ce0ee2e0",
    "execution_millis": 439,
    "execution_start": 1605353298843,
    "output_cleared": false,
    "source_hash": "de9fc427",
    "tags": []
   },
   "outputs": [],
   "source": [
    "start_date1 = datetime.datetime(2019,1,1)\n",
    "end_date1 = datetime.datetime(2019,10,31)\n",
    "df_2019 = df[df['date'] >= start_date1]\n",
    "df_2019 = df_2019[df_2019[\"date\"] <= end_date1]\n",
    "\n",
    "start_date2 = datetime.datetime(2020,1,1)\n",
    "df_2020 = df[df['date'] >= start_date2]"
   ]
  },
  {
   "cell_type": "code",
   "execution_count": 11,
   "metadata": {
    "cell_id": "00006-e0ddfd62-fe39-4723-9e78-cd35fdeefa16",
    "execution_millis": 683,
    "execution_start": 1605353299337,
    "output_cleared": false,
    "source_hash": "6c985c32",
    "tags": []
   },
   "outputs": [],
   "source": [
    "national_2019 = df_2019[df_2019[\"level\"] == \"National\"].reset_index(drop = True)\n",
    "state_2019 = df_2019[df_2019[\"level\"] == \"State\"].reset_index(drop = True)\n",
    "county_2019 = df_2019[df_2019[\"level\"] == \"County\"].reset_index(drop = True)\n",
    "\n",
    "national_2020 = df_2020[df_2020[\"level\"] == \"National\"].reset_index(drop = True)\n",
    "state_2020 = df_2020[df_2020[\"level\"] == \"State\"].reset_index(drop = True)\n",
    "county_2020 = df_2020[df_2020[\"level\"] == \"County\"].reset_index(drop = True)"
   ]
  },
  {
   "cell_type": "code",
   "execution_count": 12,
   "metadata": {
    "cell_id": "00007-4c98c28d-82df-4f4e-b18e-ea5220f21587",
    "execution_millis": 2,
    "execution_start": 1605353300024,
    "output_cleared": false,
    "source_hash": "9fd8e21c",
    "tags": []
   },
   "outputs": [
    {
     "name": "stdout",
     "output_type": "stream",
     "text": [
      "51\n"
     ]
    }
   ],
   "source": [
    "state_names = state_2020[\"state_code\"].unique()\n",
    "print(len(state_names))"
   ]
  },
  {
   "cell_type": "code",
   "execution_count": 13,
   "metadata": {
    "cell_id": "00009-13f9c24b-d71d-44a5-ac92-664147c27dba",
    "execution_millis": 2,
    "execution_start": 1605353300029,
    "output_cleared": false,
    "source_hash": "6eb972e2",
    "tags": []
   },
   "outputs": [],
   "source": [
    "data_all = [[national_2019, state_2019, county_2019],\n",
    "            [national_2020, state_2020, county_2020]]"
   ]
  },
  {
   "cell_type": "code",
   "execution_count": 14,
   "metadata": {
    "cell_id": "00010-2c9bc431-75fc-402e-a60b-142f00fa0994",
    "execution_millis": 47934,
    "execution_start": 1605353325870,
    "output_cleared": false,
    "source_hash": "2f5e2728",
    "tags": []
   },
   "outputs": [],
   "source": [
    "# save cleaned data\n",
    "data_folder_path = 'data/distance_data/'\n",
    "data_names = [\"national_2019\", \"state_2019\", \"county_2019\",\n",
    "             \"national_2020\", \"state_2020\", \"county_2020\"]\n",
    "i = 0\n",
    "for year in data_all:\n",
    "    for data in year:\n",
    "        data['pop'] = data['pop_stay_at_home'] + data['pop_not_stay_at_home']\n",
    "        data['avg_stay_at_home_ratio'] = data['pop_stay_at_home']/data['pop']\n",
    "        if (i == 0) or (i == 3):\n",
    "            data['MA_7'] = data['avg_stay_at_home_ratio'].transform(lambda x: x.rolling(7, 1).mean())\n",
    "\n",
    "        elif (i == 1) or (i == 4):\n",
    "            # state level\n",
    "            data['MA_7'] = data.groupby(\"state_code\")['avg_stay_at_home_ratio'].transform(lambda x: x.rolling(7, 1).mean())\n",
    "        else:\n",
    "            # county level\n",
    "            data['MA_7'] = data.groupby(\"county_fips\")['avg_stay_at_home_ratio'].transform(lambda x: x.rolling(7, 1).mean())\n",
    "\n",
    "        data.to_csv(data_folder_path+\"%s.csv\"%(data_names[i]), index = False)\n",
    "        i += 1"
   ]
  },
  {
   "cell_type": "markdown",
   "metadata": {
    "cell_id": "00009-d354e73e-6819-483a-a2ac-c1276995e640",
    "tags": []
   },
   "source": [
    "# 2. Covid Cases\n",
    "\n",
    "we got the aggregated dataset by JHU as our primary source of Covid facts. \n",
    "\n",
    "- Source link: https://usafacts.org/visualizations/coronavirus-covid-19-spread-map/\n",
    "- Manually downloaded data is stored in data/covid_cases/ directory\n"
   ]
  },
  {
   "cell_type": "markdown",
   "metadata": {},
   "source": [
    "# 3. County-level Social and Economics Data\n",
    "\n",
    "We retrieved social, economic, housing, and demographic features of each county from the US census data source. \n",
    "\n",
    "- Source link: \n",
    "    - eco data：https://data.census.gov/api/access/table/download?download_id=YvldrnUBoWMSCEcxoaag\n",
    "    - social data：https://data.census.gov/api/access/table/download?download_id=rI0EHXUB38sLX1nVBjAC\n",
    "- Manually downloaded data is stored in ```data/social_economics/``` directory\n"
   ]
  },
  {
   "cell_type": "markdown",
   "metadata": {},
   "source": [
    "# 4. Policy Data\n",
    "\n",
    "We collected information about control policies from KFF and the Berkeley group. \n",
    "\n",
    "- Source link: \n",
    "    - KFF: https://github.com/KFFData/COVID-19-Data/tree/kff_master/State%20Policy%20Actions/State%20Social%20Distancing%20Actions\n",
    "    - Berkeley group: https://github.com/covidvis/covid19-vis/tree/master/data\n",
    "    \n",
    "- Manually downloaded data is stored in ```data/policy_data/``` directory\n",
    "\n"
   ]
  },
  {
   "cell_type": "code",
   "execution_count": null,
   "metadata": {},
   "outputs": [],
   "source": []
  }
 ],
 "metadata": {
  "deepnote_execution_queue": [],
  "deepnote_notebook_id": "961fe999-80a1-491f-a9b1-3cce6223028f",
  "kernelspec": {
   "display_name": "Python 3",
   "language": "python",
   "name": "python3"
  },
  "language_info": {
   "codemirror_mode": {
    "name": "ipython",
    "version": 3
   },
   "file_extension": ".py",
   "mimetype": "text/x-python",
   "name": "python",
   "nbconvert_exporter": "python",
   "pygments_lexer": "ipython3",
   "version": "3.7.4"
  }
 },
 "nbformat": 4,
 "nbformat_minor": 2
}
